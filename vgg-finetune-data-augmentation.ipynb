{
 "cells": [
  {
   "cell_type": "code",
   "execution_count": 1,
   "metadata": {
    "scrolled": true
   },
   "outputs": [],
   "source": [
    "%matplotlib inline"
   ]
  },
  {
   "cell_type": "code",
   "execution_count": 2,
   "metadata": {
    "scrolled": true
   },
   "outputs": [],
   "source": [
    "import warnings\n",
    "warnings.simplefilter(action='ignore', category=FutureWarning)"
   ]
  },
  {
   "cell_type": "code",
   "execution_count": 3,
   "metadata": {
    "scrolled": true
   },
   "outputs": [
    {
     "name": "stderr",
     "output_type": "stream",
     "text": [
      "Using TensorFlow backend.\n"
     ]
    }
   ],
   "source": [
    "from keras.preprocessing.image import ImageDataGenerator\n",
    "from keras.applications.vgg16 import VGG16\n",
    "from keras import models, layers, optimizers\n",
    "import numpy as np\n",
    "import matplotlib.pyplot as plt\n",
    "import os"
   ]
  },
  {
   "cell_type": "code",
   "execution_count": 4,
   "metadata": {
    "scrolled": true
   },
   "outputs": [],
   "source": [
    "# Execution flags\n",
    "RUNNING_ON_FLOYDHUB = True\n",
    "epochs = 100"
   ]
  },
  {
   "cell_type": "code",
   "execution_count": 5,
   "metadata": {
    "scrolled": true
   },
   "outputs": [],
   "source": [
    "if not RUNNING_ON_FLOYDHUB:\n",
    "    train_dir = 'data/dogs-vs-cats-small/train/'\n",
    "    test_dir = 'data/dogs-vs-cats-small/test/'\n",
    "    validation_dir = 'data/dogs-vs-cats-small/validation/'\n",
    "    output_dir = './'\n",
    "else:\n",
    "    # Make sure the mount point is /data\n",
    "    train_dir = '/data/dogs-vs-cats-small/train/'\n",
    "    test_dir = '/data/dogs-vs-cats-small/test/'\n",
    "    validation_dir = '/data/dogs-vs-cats-small/validation/'\n",
    "    output_dir = '/output/'\n",
    "save_path = os.path.join(output_dir, 'cats_vs_dogs_vgg_data_finetune_augmentation.h5')"
   ]
  },
  {
   "cell_type": "code",
   "execution_count": 6,
   "metadata": {
    "scrolled": true
   },
   "outputs": [],
   "source": [
    "# Create augmented data generator\n",
    "train_datagen = ImageDataGenerator(rotation_range=40,\n",
    "                                  width_shift_range=0.2,\n",
    "                                  height_shift_range=0.2,\n",
    "                                  shear_range=0.2,\n",
    "                                  zoom_range=0.2,\n",
    "                                  fill_mode='nearest',\n",
    "                                  horizontal_flip=True,\n",
    "                                  rescale=1./255)\n",
    "test_datagen = ImageDataGenerator(rescale=1./255) # Test data should not be augmented"
   ]
  },
  {
   "cell_type": "code",
   "execution_count": 7,
   "metadata": {
    "scrolled": true
   },
   "outputs": [
    {
     "name": "stdout",
     "output_type": "stream",
     "text": [
      "Found 2000 images belonging to 2 classes.\n",
      "Found 1000 images belonging to 2 classes.\n"
     ]
    }
   ],
   "source": [
    "train_batches = train_datagen.flow_from_directory(train_dir, target_size=(150, 150), class_mode='binary', batch_size=20)\n",
    "validation_batches = test_datagen.flow_from_directory(validation_dir, target_size=(150, 150), class_mode='binary', batch_size=20)"
   ]
  },
  {
   "cell_type": "code",
   "execution_count": 8,
   "metadata": {
    "scrolled": true
   },
   "outputs": [],
   "source": [
    "num_of_training_examples = 2000\n",
    "num_of_validation_examples = 1000"
   ]
  },
  {
   "cell_type": "markdown",
   "metadata": {},
   "source": [
    "### Model"
   ]
  },
  {
   "cell_type": "code",
   "execution_count": 9,
   "metadata": {
    "scrolled": true
   },
   "outputs": [
    {
     "name": "stdout",
     "output_type": "stream",
     "text": [
      "Downloading data from https://github.com/fchollet/deep-learning-models/releases/download/v0.1/vgg16_weights_tf_dim_ordering_tf_kernels_notop.h5\n",
      "58662912/58889256 [============================>.] - ETA: 0s_________________________________________________________________\n",
      "Layer (type)                 Output Shape              Param #   \n",
      "=================================================================\n",
      "input_1 (InputLayer)         (None, 150, 150, 3)       0         \n",
      "_________________________________________________________________\n",
      "block1_conv1 (Conv2D)        (None, 150, 150, 64)      1792      \n",
      "_________________________________________________________________\n",
      "block1_conv2 (Conv2D)        (None, 150, 150, 64)      36928     \n",
      "_________________________________________________________________\n",
      "block1_pool (MaxPooling2D)   (None, 75, 75, 64)        0         \n",
      "_________________________________________________________________\n",
      "block2_conv1 (Conv2D)        (None, 75, 75, 128)       73856     \n",
      "_________________________________________________________________\n",
      "block2_conv2 (Conv2D)        (None, 75, 75, 128)       147584    \n",
      "_________________________________________________________________\n",
      "block2_pool (MaxPooling2D)   (None, 37, 37, 128)       0         \n",
      "_________________________________________________________________\n",
      "block3_conv1 (Conv2D)        (None, 37, 37, 256)       295168    \n",
      "_________________________________________________________________\n",
      "block3_conv2 (Conv2D)        (None, 37, 37, 256)       590080    \n",
      "_________________________________________________________________\n",
      "block3_conv3 (Conv2D)        (None, 37, 37, 256)       590080    \n",
      "_________________________________________________________________\n",
      "block3_pool (MaxPooling2D)   (None, 18, 18, 256)       0         \n",
      "_________________________________________________________________\n",
      "block4_conv1 (Conv2D)        (None, 18, 18, 512)       1180160   \n",
      "_________________________________________________________________\n",
      "block4_conv2 (Conv2D)        (None, 18, 18, 512)       2359808   \n",
      "_________________________________________________________________\n",
      "block4_conv3 (Conv2D)        (None, 18, 18, 512)       2359808   \n",
      "_________________________________________________________________\n",
      "block4_pool (MaxPooling2D)   (None, 9, 9, 512)         0         \n",
      "_________________________________________________________________\n",
      "block5_conv1 (Conv2D)        (None, 9, 9, 512)         2359808   \n",
      "_________________________________________________________________\n",
      "block5_conv2 (Conv2D)        (None, 9, 9, 512)         2359808   \n",
      "_________________________________________________________________\n",
      "block5_conv3 (Conv2D)        (None, 9, 9, 512)         2359808   \n",
      "_________________________________________________________________\n",
      "block5_pool (MaxPooling2D)   (None, 4, 4, 512)         0         \n",
      "=================================================================\n",
      "Total params: 14,714,688\n",
      "Trainable params: 14,714,688\n",
      "Non-trainable params: 0\n",
      "_________________________________________________________________\n"
     ]
    }
   ],
   "source": [
    "#Convolutional base\n",
    "conv_base = VGG16(include_top=False, weights='imagenet', input_shape=(150, 150, 3))\n",
    "conv_base.summary()"
   ]
  },
  {
   "cell_type": "code",
   "execution_count": 10,
   "metadata": {
    "scrolled": true
   },
   "outputs": [],
   "source": [
    "model = models.Sequential()\n",
    "model.add( conv_base )\n",
    "model.add( layers.Flatten() )\n",
    "model.add( layers.Dense(256, activation='relu') )\n",
    "model.add( layers.Dense(1, activation='sigmoid') )"
   ]
  },
  {
   "cell_type": "code",
   "execution_count": 11,
   "metadata": {
    "scrolled": true
   },
   "outputs": [
    {
     "name": "stdout",
     "output_type": "stream",
     "text": [
      "Num of trainable weights before freezing convolutional base = 30\n",
      "input_1 False\n",
      "block1_conv1 False\n",
      "block1_conv2 False\n",
      "block1_pool False\n",
      "block2_conv1 False\n",
      "block2_conv2 False\n",
      "block2_pool False\n",
      "block3_conv1 False\n",
      "block3_conv2 False\n",
      "block3_conv3 False\n",
      "block3_pool False\n",
      "block4_conv1 False\n",
      "block4_conv2 False\n",
      "block4_conv3 False\n",
      "block4_pool False\n",
      "block5_conv1 True\n",
      "block5_conv2 True\n",
      "block5_conv3 True\n",
      "block5_pool True\n",
      "Num of trainable weights after freezing convolutional base = 10\n"
     ]
    }
   ],
   "source": [
    "print('Num of trainable weights before freezing convolutional base = {}'.format( len(model.trainable_weights) ))\n",
    "for layer in conv_base.layers:\n",
    "    if 'block5' in layer.name:\n",
    "        layer.trainable = True\n",
    "    else:\n",
    "        layer.trainable = False\n",
    "    print(layer.name, layer.trainable)\n",
    "print('Num of trainable weights after freezing convolutional base = {}'.format( len(model.trainable_weights) ))"
   ]
  },
  {
   "cell_type": "code",
   "execution_count": 12,
   "metadata": {
    "scrolled": true
   },
   "outputs": [],
   "source": [
    "model.compile( optimizer=optimizers.RMSprop(lr=1e-5), loss='binary_crossentropy', metrics=['acc'])"
   ]
  },
  {
   "cell_type": "code",
   "execution_count": 13,
   "metadata": {
    "scrolled": false
   },
   "outputs": [
    {
     "name": "stdout",
     "output_type": "stream",
     "text": [
      "Epoch 1/100\n",
      "100/100 [==============================] - 75s - loss: 0.5351 - acc: 0.7385 - val_loss: 0.3204 - val_acc: 0.8740\n",
      "Epoch 2/100\n",
      "100/100 [==============================] - 32s - loss: 0.3948 - acc: 0.8265 - val_loss: 0.2555 - val_acc: 0.9000\n",
      "Epoch 3/100\n",
      "100/100 [==============================] - 32s - loss: 0.3202 - acc: 0.8620 - val_loss: 0.2226 - val_acc: 0.9020\n",
      "Epoch 4/100\n",
      "100/100 [==============================] - 32s - loss: 0.3025 - acc: 0.8725 - val_loss: 0.2040 - val_acc: 0.9120\n",
      "Epoch 5/100\n",
      "100/100 [==============================] - 32s - loss: 0.2838 - acc: 0.8770 - val_loss: 0.2125 - val_acc: 0.9060\n",
      "Epoch 6/100\n",
      "100/100 [==============================] - 32s - loss: 0.2731 - acc: 0.8835 - val_loss: 0.1926 - val_acc: 0.9140\n",
      "Epoch 7/100\n",
      "100/100 [==============================] - 33s - loss: 0.2510 - acc: 0.8890 - val_loss: 0.2358 - val_acc: 0.8960\n",
      "Epoch 8/100\n",
      "100/100 [==============================] - 33s - loss: 0.2479 - acc: 0.8945 - val_loss: 0.2280 - val_acc: 0.9000\n",
      "Epoch 9/100\n",
      "100/100 [==============================] - 33s - loss: 0.2369 - acc: 0.9010 - val_loss: 0.1834 - val_acc: 0.9200\n",
      "Epoch 10/100\n",
      "100/100 [==============================] - 33s - loss: 0.2272 - acc: 0.8995 - val_loss: 0.1867 - val_acc: 0.9220\n",
      "Epoch 11/100\n",
      "100/100 [==============================] - 33s - loss: 0.2069 - acc: 0.9175 - val_loss: 0.1760 - val_acc: 0.9210\n",
      "Epoch 12/100\n",
      "100/100 [==============================] - 32s - loss: 0.2054 - acc: 0.9170 - val_loss: 0.1776 - val_acc: 0.9180\n",
      "Epoch 13/100\n",
      "100/100 [==============================] - 33s - loss: 0.1936 - acc: 0.9210 - val_loss: 0.1650 - val_acc: 0.9230\n",
      "Epoch 14/100\n",
      "100/100 [==============================] - 33s - loss: 0.1855 - acc: 0.9195 - val_loss: 0.1705 - val_acc: 0.9250\n",
      "Epoch 15/100\n",
      "100/100 [==============================] - 33s - loss: 0.1743 - acc: 0.9355 - val_loss: 0.1905 - val_acc: 0.9190\n",
      "Epoch 16/100\n",
      "100/100 [==============================] - 32s - loss: 0.1658 - acc: 0.9365 - val_loss: 0.1791 - val_acc: 0.9250\n",
      "Epoch 17/100\n",
      "100/100 [==============================] - 32s - loss: 0.1518 - acc: 0.9375 - val_loss: 0.1771 - val_acc: 0.9250\n",
      "Epoch 18/100\n",
      "100/100 [==============================] - 33s - loss: 0.1717 - acc: 0.9330 - val_loss: 0.1625 - val_acc: 0.9330\n",
      "Epoch 19/100\n",
      "100/100 [==============================] - 32s - loss: 0.1615 - acc: 0.9355 - val_loss: 0.1813 - val_acc: 0.9320\n",
      "Epoch 20/100\n",
      "100/100 [==============================] - 32s - loss: 0.1529 - acc: 0.9340 - val_loss: 0.1690 - val_acc: 0.9310\n",
      "Epoch 21/100\n",
      "100/100 [==============================] - 33s - loss: 0.1450 - acc: 0.9455 - val_loss: 0.1791 - val_acc: 0.9290\n",
      "Epoch 22/100\n",
      "100/100 [==============================] - 33s - loss: 0.1406 - acc: 0.9460 - val_loss: 0.1761 - val_acc: 0.9250\n",
      "Epoch 23/100\n",
      "100/100 [==============================] - 33s - loss: 0.1410 - acc: 0.9455 - val_loss: 0.1658 - val_acc: 0.9310\n",
      "Epoch 24/100\n",
      "100/100 [==============================] - 32s - loss: 0.1331 - acc: 0.9530 - val_loss: 0.1825 - val_acc: 0.9350\n",
      "Epoch 25/100\n",
      "100/100 [==============================] - 33s - loss: 0.1283 - acc: 0.9490 - val_loss: 0.1719 - val_acc: 0.9290\n",
      "Epoch 26/100\n",
      "100/100 [==============================] - 33s - loss: 0.1314 - acc: 0.9470 - val_loss: 0.1983 - val_acc: 0.9280\n",
      "Epoch 27/100\n",
      "100/100 [==============================] - 33s - loss: 0.1237 - acc: 0.9510 - val_loss: 0.1661 - val_acc: 0.9400\n",
      "Epoch 28/100\n",
      "100/100 [==============================] - 33s - loss: 0.1222 - acc: 0.9530 - val_loss: 0.2183 - val_acc: 0.9230\n",
      "Epoch 29/100\n",
      "100/100 [==============================] - 33s - loss: 0.1006 - acc: 0.9590 - val_loss: 0.1962 - val_acc: 0.9280\n",
      "Epoch 30/100\n",
      "100/100 [==============================] - 33s - loss: 0.1168 - acc: 0.9560 - val_loss: 0.2760 - val_acc: 0.9090\n",
      "Epoch 31/100\n",
      "100/100 [==============================] - 33s - loss: 0.1138 - acc: 0.9555 - val_loss: 0.1777 - val_acc: 0.9350\n",
      "Epoch 32/100\n",
      "100/100 [==============================] - 33s - loss: 0.1050 - acc: 0.9590 - val_loss: 0.2107 - val_acc: 0.9190\n",
      "Epoch 33/100\n",
      "100/100 [==============================] - 33s - loss: 0.1074 - acc: 0.9600 - val_loss: 0.1690 - val_acc: 0.9320\n",
      "Epoch 34/100\n",
      "100/100 [==============================] - 33s - loss: 0.1040 - acc: 0.9565 - val_loss: 0.1943 - val_acc: 0.9270\n",
      "Epoch 35/100\n",
      "100/100 [==============================] - 33s - loss: 0.0903 - acc: 0.9625 - val_loss: 0.2002 - val_acc: 0.9290\n",
      "Epoch 36/100\n",
      "100/100 [==============================] - 33s - loss: 0.0917 - acc: 0.9715 - val_loss: 0.1980 - val_acc: 0.9270\n",
      "Epoch 37/100\n",
      "100/100 [==============================] - 33s - loss: 0.0918 - acc: 0.9605 - val_loss: 0.1577 - val_acc: 0.9360\n",
      "Epoch 38/100\n",
      "100/100 [==============================] - 33s - loss: 0.0884 - acc: 0.9690 - val_loss: 0.1869 - val_acc: 0.9330\n",
      "Epoch 39/100\n",
      "100/100 [==============================] - 33s - loss: 0.0823 - acc: 0.9685 - val_loss: 0.1982 - val_acc: 0.9260\n",
      "Epoch 40/100\n",
      "100/100 [==============================] - 33s - loss: 0.0761 - acc: 0.9745 - val_loss: 0.1593 - val_acc: 0.9330\n",
      "Epoch 41/100\n",
      "100/100 [==============================] - 32s - loss: 0.0873 - acc: 0.9650 - val_loss: 0.1827 - val_acc: 0.9370\n",
      "Epoch 42/100\n",
      "100/100 [==============================] - 33s - loss: 0.0818 - acc: 0.9745 - val_loss: 0.1670 - val_acc: 0.9410\n",
      "Epoch 43/100\n",
      "100/100 [==============================] - 32s - loss: 0.0826 - acc: 0.9720 - val_loss: 0.1940 - val_acc: 0.9270\n",
      "Epoch 44/100\n",
      "100/100 [==============================] - 32s - loss: 0.0742 - acc: 0.9685 - val_loss: 0.1953 - val_acc: 0.9310\n",
      "Epoch 45/100\n",
      "100/100 [==============================] - 32s - loss: 0.0737 - acc: 0.9695 - val_loss: 0.1590 - val_acc: 0.9330\n",
      "Epoch 46/100\n",
      "100/100 [==============================] - 32s - loss: 0.0716 - acc: 0.9710 - val_loss: 0.2933 - val_acc: 0.9140\n",
      "Epoch 47/100\n",
      "100/100 [==============================] - 32s - loss: 0.0599 - acc: 0.9765 - val_loss: 0.1712 - val_acc: 0.9460\n",
      "Epoch 48/100\n",
      "100/100 [==============================] - 32s - loss: 0.0566 - acc: 0.9775 - val_loss: 0.1887 - val_acc: 0.9410\n",
      "Epoch 49/100\n",
      "100/100 [==============================] - 33s - loss: 0.0732 - acc: 0.9740 - val_loss: 0.1507 - val_acc: 0.9510\n",
      "Epoch 50/100\n",
      "100/100 [==============================] - 33s - loss: 0.0593 - acc: 0.9745 - val_loss: 0.1920 - val_acc: 0.9330\n",
      "Epoch 51/100\n",
      "100/100 [==============================] - 33s - loss: 0.0673 - acc: 0.9775 - val_loss: 0.2347 - val_acc: 0.9270\n",
      "Epoch 52/100\n",
      "100/100 [==============================] - 32s - loss: 0.0802 - acc: 0.9690 - val_loss: 0.1838 - val_acc: 0.9310\n",
      "Epoch 53/100\n",
      "100/100 [==============================] - 33s - loss: 0.0645 - acc: 0.9745 - val_loss: 0.2451 - val_acc: 0.9190\n",
      "Epoch 54/100\n",
      "100/100 [==============================] - 33s - loss: 0.0603 - acc: 0.9780 - val_loss: 0.1681 - val_acc: 0.9460\n",
      "Epoch 55/100\n",
      "100/100 [==============================] - 32s - loss: 0.0589 - acc: 0.9800 - val_loss: 0.2041 - val_acc: 0.9370\n",
      "Epoch 56/100\n",
      "100/100 [==============================] - 32s - loss: 0.0582 - acc: 0.9760 - val_loss: 0.2841 - val_acc: 0.9220\n",
      "Epoch 57/100\n",
      "100/100 [==============================] - 33s - loss: 0.0665 - acc: 0.9775 - val_loss: 0.1991 - val_acc: 0.9370\n",
      "Epoch 58/100\n",
      "100/100 [==============================] - 33s - loss: 0.0473 - acc: 0.9805 - val_loss: 0.2364 - val_acc: 0.9320\n",
      "Epoch 59/100\n",
      "100/100 [==============================] - 32s - loss: 0.0510 - acc: 0.9820 - val_loss: 0.1905 - val_acc: 0.9410\n",
      "Epoch 60/100\n",
      "100/100 [==============================] - 32s - loss: 0.0516 - acc: 0.9760 - val_loss: 0.1987 - val_acc: 0.9400\n",
      "Epoch 61/100\n",
      "100/100 [==============================] - 32s - loss: 0.0494 - acc: 0.9830 - val_loss: 0.2003 - val_acc: 0.9360\n",
      "Epoch 62/100\n",
      "100/100 [==============================] - 32s - loss: 0.0480 - acc: 0.9820 - val_loss: 0.2075 - val_acc: 0.9370\n",
      "Epoch 63/100\n",
      "100/100 [==============================] - 32s - loss: 0.0490 - acc: 0.9805 - val_loss: 0.2188 - val_acc: 0.9390\n",
      "Epoch 64/100\n",
      "100/100 [==============================] - 32s - loss: 0.0656 - acc: 0.9745 - val_loss: 0.3074 - val_acc: 0.9210\n",
      "Epoch 65/100\n",
      "100/100 [==============================] - 32s - loss: 0.0521 - acc: 0.9830 - val_loss: 0.2461 - val_acc: 0.9270\n",
      "Epoch 66/100\n"
     ]
    },
    {
     "name": "stdout",
     "output_type": "stream",
     "text": [
      "100/100 [==============================] - 32s - loss: 0.0498 - acc: 0.9785 - val_loss: 0.2582 - val_acc: 0.9220\n",
      "Epoch 67/100\n",
      "100/100 [==============================] - 32s - loss: 0.0592 - acc: 0.9820 - val_loss: 0.1926 - val_acc: 0.9410\n",
      "Epoch 68/100\n",
      "100/100 [==============================] - 32s - loss: 0.0433 - acc: 0.9855 - val_loss: 0.2310 - val_acc: 0.9330\n",
      "Epoch 69/100\n",
      "100/100 [==============================] - 32s - loss: 0.0434 - acc: 0.9825 - val_loss: 0.2358 - val_acc: 0.9340\n",
      "Epoch 70/100\n",
      "100/100 [==============================] - 32s - loss: 0.0574 - acc: 0.9780 - val_loss: 0.2028 - val_acc: 0.9370\n",
      "Epoch 71/100\n",
      "100/100 [==============================] - 32s - loss: 0.0463 - acc: 0.9835 - val_loss: 0.3047 - val_acc: 0.9220\n",
      "Epoch 72/100\n",
      "100/100 [==============================] - 32s - loss: 0.0541 - acc: 0.9805 - val_loss: 0.2017 - val_acc: 0.9390\n",
      "Epoch 73/100\n",
      "100/100 [==============================] - 32s - loss: 0.0442 - acc: 0.9840 - val_loss: 0.2121 - val_acc: 0.9380\n",
      "Epoch 74/100\n",
      "100/100 [==============================] - 32s - loss: 0.0420 - acc: 0.9835 - val_loss: 0.2508 - val_acc: 0.9320\n",
      "Epoch 75/100\n",
      "100/100 [==============================] - 32s - loss: 0.0466 - acc: 0.9825 - val_loss: 0.2104 - val_acc: 0.9370\n",
      "Epoch 76/100\n",
      "100/100 [==============================] - 32s - loss: 0.0515 - acc: 0.9815 - val_loss: 0.2133 - val_acc: 0.9360\n",
      "Epoch 77/100\n",
      "100/100 [==============================] - 32s - loss: 0.0407 - acc: 0.9845 - val_loss: 0.2265 - val_acc: 0.9360\n",
      "Epoch 78/100\n",
      "100/100 [==============================] - 32s - loss: 0.0396 - acc: 0.9855 - val_loss: 0.2461 - val_acc: 0.9300\n",
      "Epoch 79/100\n",
      "100/100 [==============================] - 32s - loss: 0.0363 - acc: 0.9875 - val_loss: 0.2333 - val_acc: 0.9330\n",
      "Epoch 80/100\n",
      "100/100 [==============================] - 32s - loss: 0.0383 - acc: 0.9815 - val_loss: 0.2424 - val_acc: 0.9380\n",
      "Epoch 81/100\n",
      "100/100 [==============================] - 33s - loss: 0.0435 - acc: 0.9840 - val_loss: 0.2092 - val_acc: 0.9390\n",
      "Epoch 82/100\n",
      "100/100 [==============================] - 32s - loss: 0.0334 - acc: 0.9885 - val_loss: 0.4371 - val_acc: 0.9110\n",
      "Epoch 83/100\n",
      "100/100 [==============================] - 33s - loss: 0.0437 - acc: 0.9825 - val_loss: 0.1889 - val_acc: 0.9480\n",
      "Epoch 84/100\n",
      "100/100 [==============================] - 32s - loss: 0.0342 - acc: 0.9855 - val_loss: 0.2368 - val_acc: 0.9220\n",
      "Epoch 85/100\n",
      "100/100 [==============================] - 32s - loss: 0.0388 - acc: 0.9870 - val_loss: 0.2297 - val_acc: 0.9320\n",
      "Epoch 86/100\n",
      "100/100 [==============================] - 32s - loss: 0.0379 - acc: 0.9875 - val_loss: 0.2501 - val_acc: 0.9360\n",
      "Epoch 87/100\n",
      "100/100 [==============================] - 32s - loss: 0.0355 - acc: 0.9870 - val_loss: 0.2687 - val_acc: 0.9300\n",
      "Epoch 88/100\n",
      "100/100 [==============================] - 33s - loss: 0.0367 - acc: 0.9895 - val_loss: 0.2581 - val_acc: 0.9270\n",
      "Epoch 89/100\n",
      "100/100 [==============================] - 32s - loss: 0.0343 - acc: 0.9895 - val_loss: 0.3240 - val_acc: 0.9160\n",
      "Epoch 90/100\n",
      "100/100 [==============================] - 32s - loss: 0.0404 - acc: 0.9870 - val_loss: 0.2457 - val_acc: 0.9410\n",
      "Epoch 91/100\n",
      "100/100 [==============================] - 33s - loss: 0.0411 - acc: 0.9860 - val_loss: 0.2276 - val_acc: 0.9310\n",
      "Epoch 92/100\n",
      "100/100 [==============================] - 33s - loss: 0.0289 - acc: 0.9900 - val_loss: 0.2253 - val_acc: 0.9420\n",
      "Epoch 93/100\n",
      "100/100 [==============================] - 33s - loss: 0.0367 - acc: 0.9875 - val_loss: 0.2311 - val_acc: 0.9330\n",
      "Epoch 94/100\n",
      "100/100 [==============================] - 33s - loss: 0.0319 - acc: 0.9860 - val_loss: 0.2917 - val_acc: 0.9310\n",
      "Epoch 95/100\n",
      "100/100 [==============================] - 33s - loss: 0.0253 - acc: 0.9915 - val_loss: 0.3841 - val_acc: 0.9240\n",
      "Epoch 96/100\n",
      "100/100 [==============================] - 33s - loss: 0.0341 - acc: 0.9885 - val_loss: 0.2405 - val_acc: 0.9370\n",
      "Epoch 97/100\n",
      "100/100 [==============================] - 33s - loss: 0.0291 - acc: 0.9875 - val_loss: 0.2608 - val_acc: 0.9390\n",
      "Epoch 98/100\n",
      "100/100 [==============================] - 33s - loss: 0.0392 - acc: 0.9875 - val_loss: 0.2543 - val_acc: 0.9420\n",
      "Epoch 99/100\n",
      "100/100 [==============================] - 32s - loss: 0.0294 - acc: 0.9920 - val_loss: 0.2701 - val_acc: 0.9350\n",
      "Epoch 100/100\n",
      "100/100 [==============================] - 33s - loss: 0.0274 - acc: 0.9895 - val_loss: 0.2946 - val_acc: 0.9270\n"
     ]
    }
   ],
   "source": [
    "history = model.fit_generator( train_batches, steps_per_epoch=100, epochs=epochs, validation_data=validation_batches, validation_steps=50)"
   ]
  },
  {
   "cell_type": "code",
   "execution_count": 14,
   "metadata": {
    "scrolled": true
   },
   "outputs": [],
   "source": [
    "model.save(save_path)"
   ]
  },
  {
   "cell_type": "markdown",
   "metadata": {},
   "source": [
    "### Plots"
   ]
  },
  {
   "cell_type": "code",
   "execution_count": 15,
   "metadata": {
    "scrolled": true
   },
   "outputs": [],
   "source": [
    "val_loss = history.history['val_loss']\n",
    "val_acc = history.history['val_acc']\n",
    "\n",
    "train_loss = history.history['loss']\n",
    "train_acc = history.history['acc']\n",
    "\n",
    "epoch = history.epoch"
   ]
  },
  {
   "cell_type": "code",
   "execution_count": 16,
   "metadata": {
    "scrolled": true
   },
   "outputs": [
    {
     "data": {
      "image/png": "[encoded data removed]",
      "text/plain": [
       "<matplotlib.figure.Figure at 0x7fe76cc112b0>"
      ]
     },
     "metadata": {},
     "output_type": "display_data"
    }
   ],
   "source": [
    "# Loss plots\n",
    "plt.figure()\n",
    "\n",
    "plt.plot(epoch, train_loss, 'bo', label='Training loss')\n",
    "plt.plot(epoch, val_loss, 'r-', label='Validation loss')\n",
    "plt.xlabel('Epoch')\n",
    "plt.ylabel('Loss')\n",
    "plt.title('Training and validation loss')\n",
    "plt.legend()\n",
    "plt.show()"
   ]
  },
  {
   "cell_type": "code",
   "execution_count": 17,
   "metadata": {
    "scrolled": true
   },
   "outputs": [
    {
     "data": {
      "image/png": "[encoded data removed]",
      "text/plain": [
       "<matplotlib.figure.Figure at 0x7fe76cc33240>"
      ]
     },
     "metadata": {},
     "output_type": "display_data"
    }
   ],
   "source": [
    "# Accuracy plots\n",
    "plt.figure()\n",
    "\n",
    "plt.plot( epoch, train_acc, 'bo', label='Training accuracy' )\n",
    "plt.plot( epoch, val_acc, 'r-', label='Validation accuracy' )\n",
    "plt.xlabel('Epoch')\n",
    "plt.ylabel('Loss')\n",
    "plt.title('Training and validation accuracy')\n",
    "plt.legend()\n",
    "plt.show()"
   ]
  },
  {
   "cell_type": "code",
   "execution_count": 18,
   "metadata": {
    "scrolled": true
   },
   "outputs": [
    {
     "name": "stdout",
     "output_type": "stream",
     "text": [
      "Found 1000 images belonging to 2 classes.\n"
     ]
    }
   ],
   "source": [
    "test_generator = test_datagen.flow_from_directory(test_dir, target_size=(150, 150), class_mode='binary', batch_size=20)"
   ]
  },
  {
   "cell_type": "code",
   "execution_count": 19,
   "metadata": {
    "scrolled": true
   },
   "outputs": [
    {
     "name": "stdout",
     "output_type": "stream",
     "text": [
      "Test accuracy = 0.942\n"
     ]
    }
   ],
   "source": [
    "test_loss, test_acc = model.evaluate_generator( test_generator, steps=50 )\n",
    "print('Test accuracy = {0:.3f}'.format(test_acc))"
   ]
  }
 ],
 "metadata": {
  "kernelspec": {
   "display_name": "Python 3",
   "language": "python",
   "name": "python3"
  },
  "language_info": {
   "codemirror_mode": {
    "name": "ipython",
    "version": 3
   },
   "file_extension": ".py",
   "mimetype": "text/x-python",
   "name": "python",
   "nbconvert_exporter": "python",
   "pygments_lexer": "ipython3",
   "version": "3.6.2"
  }
 },
 "nbformat": 4,
 "nbformat_minor": 2
}
