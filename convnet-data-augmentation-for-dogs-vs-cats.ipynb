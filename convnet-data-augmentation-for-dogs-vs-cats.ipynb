{
 "cells": [
  {
   "cell_type": "code",
   "execution_count": null,
   "metadata": {},
   "outputs": [],
   "source": [
    "%matplotlib inline"
   ]
  },
  {
   "cell_type": "code",
   "execution_count": null,
   "metadata": {},
   "outputs": [],
   "source": [
    "import warnings\n",
    "warnings.simplefilter(action='ignore', category=FutureWarning)"
   ]
  },
  {
   "cell_type": "code",
   "execution_count": null,
   "metadata": {},
   "outputs": [],
   "source": [
    "from keras.preprocessing import image\n",
    "import matplotlib.pyplot as plt\n",
    "import os"
   ]
  },
  {
   "cell_type": "code",
   "execution_count": null,
   "metadata": {},
   "outputs": [],
   "source": [
    "#Set execution flags\n",
    "RUNNING_ON_FLOYDHUB = False\n",
    "epochs=1"
   ]
  },
  {
   "cell_type": "code",
   "execution_count": null,
   "metadata": {},
   "outputs": [],
   "source": [
    "# Local data directories\n",
    "if not RUNNING_ON_FLOYDHUB:\n",
    "    print('Linking to local data directories.')\n",
    "    train_dir = 'data/dogs-vs-cats-small/train'\n",
    "    test_dir = 'data/dogs-vs-cats-small/test'\n",
    "    validation_dir = 'data/dogs-vs-cats-small/validation'\n",
    "    output_dir = 'models/'\n",
    "else:\n",
    "    print('Linking to floydhub data directories mounted at /data .')\n",
    "    train_dir = '/data/dogs-vs-cats-small/train'\n",
    "    test_dir = '/data/dogs-vs-cats-small/test'\n",
    "    validation_dir = '/data/dogs-vs-cats-small/validation'\n",
    "    output_dir = '/output'"
   ]
  },
  {
   "cell_type": "markdown",
   "metadata": {},
   "source": [
    "### Image Augmentation"
   ]
  },
  {
   "cell_type": "code",
   "execution_count": null,
   "metadata": {},
   "outputs": [],
   "source": [
    "datagen = image.ImageDataGenerator(rotation_range=40,\n",
    "                                  width_shift_range=0.2,\n",
    "                                  height_shift_range=0.2,\n",
    "                                  shear_range=0.2,\n",
    "                                  zoom_range=0.2,\n",
    "                                  fill_mode='nearest',\n",
    "                                  horizontal_flip=True,\n",
    "                                  data_format='channels_last')"
   ]
  },
  {
   "cell_type": "code",
   "execution_count": null,
   "metadata": {},
   "outputs": [],
   "source": [
    "# Filenames from training directory\n",
    "file_idx = 100\n",
    "train_cat_files = [ os.path.join(train_dir, 'cats', fname) for fname in os.listdir(os.path.join( train_dir, 'cats')) ]\n",
    "img = image.load_img(train_cat_files[file_idx], target_size=(150, 150))\n",
    "img_array = image.img_to_array(img)\n",
    "print('Array shape: {0}.'.format(img_array.shape))\n",
    "\n",
    "print('ImageDataGenerator.flow() needs shape to be in format (samples, height, width, channel).')\n",
    "img_array = img_array.reshape((1,) + img_array.shape)\n",
    "print('New array shape: {0}.'.format(img_array.shape))"
   ]
  },
  {
   "cell_type": "code",
   "execution_count": null,
   "metadata": {},
   "outputs": [],
   "source": [
    "plt.figure()\n",
    "plt.imshow(image.array_to_img(img_array[0]))\n",
    "plt.title('Original image')\n",
    "plt.show()"
   ]
  },
  {
   "cell_type": "code",
   "execution_count": null,
   "metadata": {},
   "outputs": [],
   "source": [
    "count = 1\n",
    "fig = plt.figure()\n",
    "for augmented_batch in datagen.flow(img_array, batch_size=1):\n",
    "    ax = fig.add_subplot(2, 2, count)\n",
    "    ax.imshow(image.array_to_img(augmented_batch[0]))\n",
    "    count += 1\n",
    "    if count % 5 == 0:\n",
    "        break\n",
    "plt.suptitle('Augmented images')\n",
    "plt.show()"
   ]
  },
  {
   "cell_type": "code",
   "execution_count": null,
   "metadata": {},
   "outputs": [],
   "source": [
    "test_datagen = image.ImageDataGenerator(rescale=1./255) #Should not modify test and validation images\n",
    "train_datagen = image.ImageDataGenerator(rotation_range=40,\n",
    "                                         width_shift_range=0.2,\n",
    "                                         height_shift_range=0.2,\n",
    "                                         shear_range=0.2,\n",
    "                                         zoom_range=0.2,\n",
    "                                         horizontal_flip=True,\n",
    "                                         rescale=1./255)"
   ]
  },
  {
   "cell_type": "code",
   "execution_count": null,
   "metadata": {},
   "outputs": [],
   "source": [
    "train_batches = train_datagen.flow_from_directory(train_dir,\n",
    "                                                target_size=(150, 150),\n",
    "                                                class_mode='binary',\n",
    "                                                batch_size=20)\n",
    "validation_batches = test_datagen.flow_from_directory(validation_dir,\n",
    "                                                   target_size=(150, 150),\n",
    "                                                   class_mode='binary',\n",
    "                                                   batch_size=20)"
   ]
  },
  {
   "cell_type": "markdown",
   "metadata": {},
   "source": [
    "### Model"
   ]
  },
  {
   "cell_type": "code",
   "execution_count": null,
   "metadata": {},
   "outputs": [],
   "source": [
    "from keras import models, layers, optimizers"
   ]
  },
  {
   "cell_type": "code",
   "execution_count": null,
   "metadata": {},
   "outputs": [],
   "source": [
    "#Create convolutional neural network\n",
    "convnet = models.Sequential()\n",
    "\n",
    "convnet.add( layers.Conv2D(32, (3,3), activation='relu', input_shape=(150, 150, 3)) )\n",
    "convnet.add( layers.MaxPooling2D() )\n",
    "\n",
    "convnet.add( layers.Conv2D(64, (3, 3), activation='relu') )\n",
    "convnet.add( layers.MaxPooling2D() )\n",
    "\n",
    "convnet.add( layers.Conv2D(128, (3, 3), activation='relu') )\n",
    "convnet.add( layers.MaxPooling2D() )\n",
    "\n",
    "convnet.add( layers.Conv2D(128, (3, 3), activation='relu') )\n",
    "convnet.add( layers.MaxPooling2D() )\n",
    "\n",
    "convnet.add( layers.Flatten() )\n",
    "convnet.add( layers.Dropout(0.5) )\n",
    "convnet.add( layers.Dense( 512, activation='relu' ) )\n",
    "convnet.add( layers.Dense( 1, activation='sigmoid' ) )\n",
    "\n",
    "convnet.summary()"
   ]
  },
  {
   "cell_type": "code",
   "execution_count": null,
   "metadata": {},
   "outputs": [],
   "source": [
    "convnet.compile( optimizer=optimizers.RMSprop(lr=1e-4), loss='binary_crossentropy', metrics=['acc'] )"
   ]
  },
  {
   "cell_type": "markdown",
   "metadata": {},
   "source": [
    "### Train"
   ]
  },
  {
   "cell_type": "code",
   "execution_count": null,
   "metadata": {},
   "outputs": [],
   "source": [
    "history = convnet.fit_generator(train_batches, steps_per_epoch=100, epochs=epochs, validation_data=validation_batches, validation_steps=50)\n",
    "convnet.save(os.path.join(output_dir, 'cats_vs_dogs_small_dropout_2.h5'))"
   ]
  },
  {
   "cell_type": "markdown",
   "metadata": {},
   "source": [
    "### Plots"
   ]
  },
  {
   "cell_type": "code",
   "execution_count": null,
   "metadata": {},
   "outputs": [],
   "source": [
    "val_loss = history.history['val_loss']\n",
    "val_acc = history.history['val_acc']\n",
    "\n",
    "train_loss = history.history['loss']\n",
    "train_acc = history.history['acc']\n",
    "\n",
    "epoch = history.epoch"
   ]
  },
  {
   "cell_type": "code",
   "execution_count": null,
   "metadata": {},
   "outputs": [],
   "source": [
    "# Loss plots\n",
    "plt.figure()\n",
    "\n",
    "plt.plot(epoch, train_loss, 'bo', label='Training loss')\n",
    "plt.plot(epoch, val_loss, 'rx', label='Validation loss')\n",
    "plt.xlabel('Epoch')\n",
    "plt.ylabel('Loss')\n",
    "plt.title('Training and validation loss')\n",
    "plt.legend()\n",
    "plt.show()"
   ]
  },
  {
   "cell_type": "code",
   "execution_count": null,
   "metadata": {},
   "outputs": [],
   "source": [
    "# Accuracy plots\n",
    "plt.figure()\n",
    "\n",
    "plt.plot( epoch, train_acc, 'bo', label='Training accuracy' )\n",
    "plt.plot( epoch, val_acc, 'rx', label='Validation accuracy' )\n",
    "plt.xlabel('Epoch')\n",
    "plt.ylabel('Loss')\n",
    "plt.title('Training and validation accuracy')\n",
    "plt.legend()\n",
    "plt.show()"
   ]
  }
 ],
 "metadata": {
  "kernelspec": {
   "display_name": "Python 3",
   "language": "python",
   "name": "python3"
  },
  "language_info": {
   "codemirror_mode": {
    "name": "ipython",
    "version": 3
   },
   "file_extension": ".py",
   "mimetype": "text/x-python",
   "name": "python",
   "nbconvert_exporter": "python",
   "pygments_lexer": "ipython3",
   "version": "3.6.1"
  }
 },
 "nbformat": 4,
 "nbformat_minor": 2
}
