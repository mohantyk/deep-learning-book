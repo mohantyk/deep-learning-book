{
 "cells": [
  {
   "cell_type": "code",
   "execution_count": 1,
   "metadata": {},
   "outputs": [],
   "source": [
    "import warnings\n",
    "warnings.simplefilter(action='ignore', category=FutureWarning)"
   ]
  },
  {
   "cell_type": "code",
   "execution_count": 2,
   "metadata": {},
   "outputs": [],
   "source": [
    "max_features=10000\n",
    "maxlen = 500\n",
    "embedding_dim = 32\n",
    "batch_size = 128\n",
    "epochs = 10"
   ]
  },
  {
   "cell_type": "code",
   "execution_count": 30,
   "metadata": {},
   "outputs": [],
   "source": [
    "import matplotlib.pyplot as plt"
   ]
  },
  {
   "cell_type": "code",
   "execution_count": 3,
   "metadata": {},
   "outputs": [
    {
     "name": "stderr",
     "output_type": "stream",
     "text": [
      "Using TensorFlow backend.\n"
     ]
    }
   ],
   "source": [
    "from keras.datasets import imdb"
   ]
  },
  {
   "cell_type": "code",
   "execution_count": 4,
   "metadata": {},
   "outputs": [],
   "source": [
    "# Load imdb dataset\n",
    "(x_train, y_train), (x_test, y_test) = imdb.load_data( num_words=max_features )"
   ]
  },
  {
   "cell_type": "code",
   "execution_count": 5,
   "metadata": {},
   "outputs": [],
   "source": [
    "from keras.preprocessing.sequence import pad_sequences"
   ]
  },
  {
   "cell_type": "code",
   "execution_count": 6,
   "metadata": {},
   "outputs": [],
   "source": [
    "# Pad to maxlen words\n",
    "\n",
    "x_train = pad_sequences(x_train, maxlen)\n",
    "x_test = pad_sequences(x_test, maxlen)"
   ]
  },
  {
   "cell_type": "markdown",
   "metadata": {},
   "source": [
    "## RNN"
   ]
  },
  {
   "cell_type": "code",
   "execution_count": 8,
   "metadata": {},
   "outputs": [],
   "source": [
    "# Create RNN\n",
    "from keras.models import Sequential\n",
    "from keras.layers import Embedding, SimpleRNN, Dense"
   ]
  },
  {
   "cell_type": "code",
   "execution_count": 8,
   "metadata": {},
   "outputs": [
    {
     "name": "stdout",
     "output_type": "stream",
     "text": [
      "_________________________________________________________________\n",
      "Layer (type)                 Output Shape              Param #   \n",
      "=================================================================\n",
      "embedding_1 (Embedding)      (None, 500, 32)           320000    \n",
      "_________________________________________________________________\n",
      "simple_rnn_1 (SimpleRNN)     (None, 32)                2080      \n",
      "_________________________________________________________________\n",
      "dense_1 (Dense)              (None, 1)                 33        \n",
      "=================================================================\n",
      "Total params: 322,113\n",
      "Trainable params: 322,113\n",
      "Non-trainable params: 0\n",
      "_________________________________________________________________\n"
     ]
    }
   ],
   "source": [
    "model = Sequential()\n",
    "model.add( Embedding( max_features, embedding_dim, input_length=maxlen) )\n",
    "model.add( SimpleRNN(32) )\n",
    "model.add( Dense(1, activation='sigmoid') )\n",
    "model.summary()"
   ]
  },
  {
   "cell_type": "code",
   "execution_count": 9,
   "metadata": {},
   "outputs": [
    {
     "name": "stdout",
     "output_type": "stream",
     "text": [
      "Train on 20000 samples, validate on 5000 samples\n",
      "Epoch 1/10\n",
      "20000/20000 [==============================] - 91s 5ms/step - loss: 0.6418 - acc: 0.6132 - val_loss: 0.5336 - val_acc: 0.7402\n",
      "Epoch 2/10\n",
      "20000/20000 [==============================] - 53s 3ms/step - loss: 0.4098 - acc: 0.8250 - val_loss: 0.3824 - val_acc: 0.8392\n",
      "Epoch 3/10\n",
      "20000/20000 [==============================] - 53s 3ms/step - loss: 0.2989 - acc: 0.8803 - val_loss: 0.3830 - val_acc: 0.8348\n",
      "Epoch 4/10\n",
      "20000/20000 [==============================] - 53s 3ms/step - loss: 0.2288 - acc: 0.9114 - val_loss: 0.3802 - val_acc: 0.8458\n",
      "Epoch 5/10\n",
      "20000/20000 [==============================] - 53s 3ms/step - loss: 0.1678 - acc: 0.9378 - val_loss: 0.4987 - val_acc: 0.8398\n",
      "Epoch 6/10\n",
      "20000/20000 [==============================] - 53s 3ms/step - loss: 0.1173 - acc: 0.9606 - val_loss: 0.4478 - val_acc: 0.8196\n",
      "Epoch 7/10\n",
      "20000/20000 [==============================] - 53s 3ms/step - loss: 0.0767 - acc: 0.9762 - val_loss: 0.4860 - val_acc: 0.8226\n",
      "Epoch 8/10\n",
      "20000/20000 [==============================] - 52s 3ms/step - loss: 0.0479 - acc: 0.9869 - val_loss: 0.5103 - val_acc: 0.8306\n",
      "Epoch 9/10\n",
      "20000/20000 [==============================] - 52s 3ms/step - loss: 0.0268 - acc: 0.9930 - val_loss: 0.5464 - val_acc: 0.8396\n",
      "Epoch 10/10\n",
      "20000/20000 [==============================] - 52s 3ms/step - loss: 0.0247 - acc: 0.9920 - val_loss: 0.8286 - val_acc: 0.7734\n"
     ]
    }
   ],
   "source": [
    "model.compile('rmsprop', 'binary_crossentropy', ['accuracy'])\n",
    "history = model.fit(x_train, y_train,\n",
    "                   batch_size,\n",
    "                   epochs,\n",
    "                   validation_split=0.2)\n",
    "model.save_weights('simple-rnn-imdb.h5')"
   ]
  },
  {
   "cell_type": "code",
   "execution_count": 11,
   "metadata": {},
   "outputs": [],
   "source": [
    "# Plots\n",
    "hist = history.history\n",
    "train_acc = hist['acc']\n",
    "train_loss = hist['loss']\n",
    "val_acc = hist['val_acc']\n",
    "val_loss = hist['val_loss']\n",
    "\n",
    "epochs = history.epoch"
   ]
  },
  {
   "cell_type": "code",
   "execution_count": 12,
   "metadata": {},
   "outputs": [
    {
     "data": {
      "image/png": "[encoded data removed]",
      "text/plain": [
       "<Figure size 432x288 with 1 Axes>"
      ]
     },
     "metadata": {},
     "output_type": "display_data"
    }
   ],
   "source": [
    "plt.figure()\n",
    "plt.plot(epochs, train_acc, 'k.', label='Training accuracy')\n",
    "plt.plot(epochs, val_acc, 'r-', label='Validation accuracy')\n",
    "plt.title('Accuracy')\n",
    "plt.show()"
   ]
  },
  {
   "cell_type": "code",
   "execution_count": 13,
   "metadata": {},
   "outputs": [
    {
     "data": {
      "image/png": "[encoded data removed]",
      "text/plain": [
       "<Figure size 432x288 with 1 Axes>"
      ]
     },
     "metadata": {},
     "output_type": "display_data"
    }
   ],
   "source": [
    "plt.figure()\n",
    "plt.plot(epochs, train_loss, 'k.', label='Training loss')\n",
    "plt.plot(epochs, val_loss, 'r-', label='Validation loss')\n",
    "plt.title('Loss')\n",
    "plt.show()"
   ]
  },
  {
   "cell_type": "markdown",
   "metadata": {},
   "source": [
    "## LSTM"
   ]
  },
  {
   "cell_type": "code",
   "execution_count": 14,
   "metadata": {},
   "outputs": [],
   "source": [
    "from keras.layers import LSTM"
   ]
  },
  {
   "cell_type": "code",
   "execution_count": 15,
   "metadata": {},
   "outputs": [
    {
     "name": "stdout",
     "output_type": "stream",
     "text": [
      "_________________________________________________________________\n",
      "Layer (type)                 Output Shape              Param #   \n",
      "=================================================================\n",
      "embedding_2 (Embedding)      (None, 500, 32)           320000    \n",
      "_________________________________________________________________\n",
      "lstm_1 (LSTM)                (None, 32)                8320      \n",
      "_________________________________________________________________\n",
      "dense_2 (Dense)              (None, 1)                 33        \n",
      "=================================================================\n",
      "Total params: 328,353\n",
      "Trainable params: 328,353\n",
      "Non-trainable params: 0\n",
      "_________________________________________________________________\n"
     ]
    }
   ],
   "source": [
    "lstm_model = Sequential()\n",
    "lstm_model.add( Embedding( max_features, embedding_dim, input_length=maxlen ) )\n",
    "lstm_model.add( LSTM(32) )\n",
    "lstm_model.add( Dense(1, activation='sigmoid') )\n",
    "lstm_model.summary()"
   ]
  },
  {
   "cell_type": "code",
   "execution_count": 17,
   "metadata": {},
   "outputs": [
    {
     "name": "stdout",
     "output_type": "stream",
     "text": [
      "Train on 20000 samples, validate on 5000 samples\n",
      "Epoch 1/10\n",
      "20000/20000 [==============================] - 38s 2ms/step - loss: 0.6252 - acc: 0.6695 - val_loss: 0.4784 - val_acc: 0.8002\n",
      "Epoch 2/10\n",
      "20000/20000 [==============================] - 37s 2ms/step - loss: 0.4356 - acc: 0.8266 - val_loss: 0.3755 - val_acc: 0.8612\n",
      "Epoch 3/10\n",
      "20000/20000 [==============================] - 37s 2ms/step - loss: 0.3302 - acc: 0.8728 - val_loss: 0.7901 - val_acc: 0.7520\n",
      "Epoch 4/10\n",
      "20000/20000 [==============================] - 37s 2ms/step - loss: 0.2848 - acc: 0.8945 - val_loss: 0.3095 - val_acc: 0.8766\n",
      "Epoch 5/10\n",
      "20000/20000 [==============================] - 37s 2ms/step - loss: 0.2470 - acc: 0.9090 - val_loss: 0.3067 - val_acc: 0.8718\n",
      "Epoch 6/10\n",
      "20000/20000 [==============================] - 37s 2ms/step - loss: 0.2203 - acc: 0.9201 - val_loss: 0.3523 - val_acc: 0.8420\n",
      "Epoch 7/10\n",
      "20000/20000 [==============================] - 37s 2ms/step - loss: 0.1938 - acc: 0.9302 - val_loss: 0.2840 - val_acc: 0.8844\n",
      "Epoch 8/10\n",
      "20000/20000 [==============================] - 37s 2ms/step - loss: 0.1732 - acc: 0.9374 - val_loss: 0.3005 - val_acc: 0.8796\n",
      "Epoch 9/10\n",
      "20000/20000 [==============================] - 37s 2ms/step - loss: 0.1654 - acc: 0.9397 - val_loss: 0.2980 - val_acc: 0.8770\n",
      "Epoch 10/10\n",
      "20000/20000 [==============================] - 37s 2ms/step - loss: 0.1426 - acc: 0.9496 - val_loss: 0.3860 - val_acc: 0.8808\n"
     ]
    }
   ],
   "source": [
    "lstm_model.compile('rmsprop', 'binary_crossentropy', metrics=['accuracy'])\n",
    "lstm_history = lstm_model.fit(x_train, y_train,\n",
    "                             batch_size=512, epochs=10,\n",
    "                             validation_split=0.2 )\n",
    "lstm_model.save_weights('lstm-imdb.h5')"
   ]
  },
  {
   "cell_type": "code",
   "execution_count": 18,
   "metadata": {},
   "outputs": [],
   "source": [
    "hist = lstm_history.history\n",
    "train_acc = hist['acc']\n",
    "train_loss = hist['loss']\n",
    "val_acc = hist['val_acc']\n",
    "val_loss = hist['val_loss']\n",
    "\n",
    "epochs = lstm_history.epoch"
   ]
  },
  {
   "cell_type": "code",
   "execution_count": 19,
   "metadata": {},
   "outputs": [
    {
     "data": {
      "image/png": "[encoded data removed]",
      "text/plain": [
       "<Figure size 432x288 with 1 Axes>"
      ]
     },
     "metadata": {},
     "output_type": "display_data"
    }
   ],
   "source": [
    "plt.figure()\n",
    "plt.plot(epochs, train_acc, 'k.', label='Training accuracy')\n",
    "plt.plot(epochs, val_acc, 'r-', label='Validation accuracy')\n",
    "plt.title('Accuracy')\n",
    "plt.show()"
   ]
  },
  {
   "cell_type": "code",
   "execution_count": 20,
   "metadata": {},
   "outputs": [
    {
     "data": {
      "image/png": "[encoded data removed]",
      "text/plain": [
       "<Figure size 432x288 with 1 Axes>"
      ]
     },
     "metadata": {},
     "output_type": "display_data"
    }
   ],
   "source": [
    "plt.figure()\n",
    "plt.plot(epochs, train_loss, 'k.', label='Training loss')\n",
    "plt.plot(epochs, val_loss, 'r-', label='Validation loss')\n",
    "plt.title('Loss')\n",
    "plt.show()"
   ]
  },
  {
   "cell_type": "markdown",
   "metadata": {},
   "source": [
    "#### 1D CNN"
   ]
  },
  {
   "cell_type": "code",
   "execution_count": 26,
   "metadata": {},
   "outputs": [],
   "source": [
    "from keras.layers import Conv1D, MaxPooling1D, GlobalMaxPooling1D\n",
    "from keras.optimizers import RMSprop"
   ]
  },
  {
   "cell_type": "code",
   "execution_count": 27,
   "metadata": {},
   "outputs": [
    {
     "name": "stdout",
     "output_type": "stream",
     "text": [
      "_________________________________________________________________\n",
      "Layer (type)                 Output Shape              Param #   \n",
      "=================================================================\n",
      "embedding_6 (Embedding)      (None, 500, 128)          1280000   \n",
      "_________________________________________________________________\n",
      "conv1d_9 (Conv1D)            (None, 494, 32)           28704     \n",
      "_________________________________________________________________\n",
      "max_pooling1d_8 (MaxPooling1 (None, 98, 32)            0         \n",
      "_________________________________________________________________\n",
      "conv1d_10 (Conv1D)           (None, 92, 32)            7200      \n",
      "_________________________________________________________________\n",
      "global_max_pooling1d_2 (Glob (None, 32)                0         \n",
      "_________________________________________________________________\n",
      "dense_5 (Dense)              (None, 1)                 33        \n",
      "=================================================================\n",
      "Total params: 1,315,937\n",
      "Trainable params: 1,315,937\n",
      "Non-trainable params: 0\n",
      "_________________________________________________________________\n"
     ]
    }
   ],
   "source": [
    "cnn_model = Sequential()\n",
    "cnn_model.add( Embedding( max_features, 128, input_length=maxlen) )\n",
    "cnn_model.add( Conv1D(32, 7, activation='relu') )\n",
    "cnn_model.add( MaxPooling1D(5) )\n",
    "cnn_model.add( Conv1D(32, 7, activation='relu') )\n",
    "cnn_model.add( GlobalMaxPooling1D() )\n",
    "cnn_model.add( Dense(1, activation='sigmoid') )\n",
    "cnn_model.summary()"
   ]
  },
  {
   "cell_type": "code",
   "execution_count": 28,
   "metadata": {},
   "outputs": [
    {
     "name": "stdout",
     "output_type": "stream",
     "text": [
      "Train on 20000 samples, validate on 5000 samples\n",
      "Epoch 1/10\n",
      "20000/20000 [==============================] - 92s 5ms/step - loss: 0.6921 - acc: 0.5258 - val_loss: 0.6903 - val_acc: 0.5964\n",
      "Epoch 2/10\n",
      "20000/20000 [==============================] - 93s 5ms/step - loss: 0.6844 - acc: 0.6955 - val_loss: 0.6833 - val_acc: 0.6626\n",
      "Epoch 3/10\n",
      "20000/20000 [==============================] - 92s 5ms/step - loss: 0.6668 - acc: 0.7573 - val_loss: 0.6540 - val_acc: 0.7430\n",
      "Epoch 4/10\n",
      "20000/20000 [==============================] - 97s 5ms/step - loss: 0.6084 - acc: 0.7990 - val_loss: 0.5620 - val_acc: 0.8088\n",
      "Epoch 5/10\n",
      "20000/20000 [==============================] - 97s 5ms/step - loss: 0.4898 - acc: 0.8315 - val_loss: 0.4394 - val_acc: 0.8372\n",
      "Epoch 6/10\n",
      "20000/20000 [==============================] - 92s 5ms/step - loss: 0.3780 - acc: 0.8589 - val_loss: 0.3713 - val_acc: 0.8480\n",
      "Epoch 7/10\n",
      "20000/20000 [==============================] - 95s 5ms/step - loss: 0.3149 - acc: 0.8780 - val_loss: 0.3397 - val_acc: 0.8600\n",
      "Epoch 8/10\n",
      "20000/20000 [==============================] - 95s 5ms/step - loss: 0.2766 - acc: 0.8922 - val_loss: 0.3271 - val_acc: 0.8590\n",
      "Epoch 9/10\n",
      "20000/20000 [==============================] - 95s 5ms/step - loss: 0.2499 - acc: 0.9036 - val_loss: 0.3171 - val_acc: 0.8684\n",
      "Epoch 10/10\n",
      "20000/20000 [==============================] - 101s 5ms/step - loss: 0.2291 - acc: 0.9135 - val_loss: 0.3148 - val_acc: 0.8694\n"
     ]
    }
   ],
   "source": [
    "cnn_model.compile( RMSprop(lr=1e-4), 'binary_crossentropy', ['acc'] )\n",
    "cnn_history = cnn_model.fit(x_train, y_train, \n",
    "                           batch_size=batch_size, \n",
    "                           epochs=epochs,\n",
    "                           validation_split=0.2\n",
    "                           )\n",
    "cnn_model.save_weights('models/cnn-imdb.h5')"
   ]
  },
  {
   "cell_type": "code",
   "execution_count": 31,
   "metadata": {},
   "outputs": [
    {
     "data": {
      "image/png": "[encoded data removed]",
      "text/plain": [
       "<matplotlib.figure.Figure at 0x127f10128>"
      ]
     },
     "metadata": {},
     "output_type": "display_data"
    }
   ],
   "source": [
    "hist = cnn_history.history\n",
    "epochs = cnn_history.epoch\n",
    "\n",
    "train_acc = hist['acc']\n",
    "train_loss = hist['loss']\n",
    "val_acc = hist['val_acc']\n",
    "val_loss = hist['val_loss']\n",
    "\n",
    "plt.figure()\n",
    "plt.plot(epochs, train_acc, 'k.', label='Training accuracy')\n",
    "plt.plot(epochs, val_acc, 'r-', label='Validation accuracy')\n",
    "plt.title('Accuracy')\n",
    "plt.legend()\n",
    "plt.show()"
   ]
  }
 ],
 "metadata": {
  "kernelspec": {
   "display_name": "Python 3",
   "language": "python",
   "name": "python3"
  },
  "language_info": {
   "codemirror_mode": {
    "name": "ipython",
    "version": 3
   },
   "file_extension": ".py",
   "mimetype": "text/x-python",
   "name": "python",
   "nbconvert_exporter": "python",
   "pygments_lexer": "ipython3",
   "version": "3.6.1"
  }
 },
 "nbformat": 4,
 "nbformat_minor": 2
}
