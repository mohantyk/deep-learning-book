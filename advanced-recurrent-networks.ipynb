{
 "cells": [
  {
   "cell_type": "code",
   "execution_count": 1,
   "metadata": {},
   "outputs": [],
   "source": [
    "import warnings\n",
    "warnings.simplefilter('ignore', FutureWarning)"
   ]
  },
  {
   "cell_type": "code",
   "execution_count": 2,
   "metadata": {},
   "outputs": [],
   "source": [
    "import os\n",
    "import pandas as pd\n",
    "import matplotlib.pyplot as plt\n",
    "import numpy as np\n",
    "import random"
   ]
  },
  {
   "cell_type": "code",
   "execution_count": 3,
   "metadata": {},
   "outputs": [],
   "source": [
    "dataset = '../datasets/jena_climate/jena_climate_2009_2016.csv'"
   ]
  },
  {
   "cell_type": "code",
   "execution_count": 4,
   "metadata": {},
   "outputs": [
    {
     "data": {
      "text/html": [
       "<div>\n",
       "<style>\n",
       "    .dataframe thead tr:only-child th {\n",
       "        text-align: right;\n",
       "    }\n",
       "\n",
       "    .dataframe thead th {\n",
       "        text-align: left;\n",
       "    }\n",
       "\n",
       "    .dataframe tbody tr th {\n",
       "        vertical-align: top;\n",
       "    }\n",
       "</style>\n",
       "<table border=\"1\" class=\"dataframe\">\n",
       "  <thead>\n",
       "    <tr style=\"text-align: right;\">\n",
       "      <th></th>\n",
       "      <th>p (mbar)</th>\n",
       "      <th>T (degC)</th>\n",
       "      <th>Tpot (K)</th>\n",
       "      <th>Tdew (degC)</th>\n",
       "      <th>rh (%)</th>\n",
       "      <th>VPmax (mbar)</th>\n",
       "      <th>VPact (mbar)</th>\n",
       "      <th>VPdef (mbar)</th>\n",
       "      <th>sh (g/kg)</th>\n",
       "      <th>H2OC (mmol/mol)</th>\n",
       "      <th>rho (g/m**3)</th>\n",
       "      <th>wv (m/s)</th>\n",
       "      <th>max. wv (m/s)</th>\n",
       "      <th>wd (deg)</th>\n",
       "    </tr>\n",
       "    <tr>\n",
       "      <th>Date Time</th>\n",
       "      <th></th>\n",
       "      <th></th>\n",
       "      <th></th>\n",
       "      <th></th>\n",
       "      <th></th>\n",
       "      <th></th>\n",
       "      <th></th>\n",
       "      <th></th>\n",
       "      <th></th>\n",
       "      <th></th>\n",
       "      <th></th>\n",
       "      <th></th>\n",
       "      <th></th>\n",
       "      <th></th>\n",
       "    </tr>\n",
       "  </thead>\n",
       "  <tbody>\n",
       "    <tr>\n",
       "      <th>01.01.2009 00:10:00</th>\n",
       "      <td>996.52</td>\n",
       "      <td>-8.02</td>\n",
       "      <td>265.40</td>\n",
       "      <td>-8.90</td>\n",
       "      <td>93.3</td>\n",
       "      <td>3.33</td>\n",
       "      <td>3.11</td>\n",
       "      <td>0.22</td>\n",
       "      <td>1.94</td>\n",
       "      <td>3.12</td>\n",
       "      <td>1307.75</td>\n",
       "      <td>1.03</td>\n",
       "      <td>1.75</td>\n",
       "      <td>152.3</td>\n",
       "    </tr>\n",
       "    <tr>\n",
       "      <th>01.01.2009 00:20:00</th>\n",
       "      <td>996.57</td>\n",
       "      <td>-8.41</td>\n",
       "      <td>265.01</td>\n",
       "      <td>-9.28</td>\n",
       "      <td>93.4</td>\n",
       "      <td>3.23</td>\n",
       "      <td>3.02</td>\n",
       "      <td>0.21</td>\n",
       "      <td>1.89</td>\n",
       "      <td>3.03</td>\n",
       "      <td>1309.80</td>\n",
       "      <td>0.72</td>\n",
       "      <td>1.50</td>\n",
       "      <td>136.1</td>\n",
       "    </tr>\n",
       "    <tr>\n",
       "      <th>01.01.2009 00:30:00</th>\n",
       "      <td>996.53</td>\n",
       "      <td>-8.51</td>\n",
       "      <td>264.91</td>\n",
       "      <td>-9.31</td>\n",
       "      <td>93.9</td>\n",
       "      <td>3.21</td>\n",
       "      <td>3.01</td>\n",
       "      <td>0.20</td>\n",
       "      <td>1.88</td>\n",
       "      <td>3.02</td>\n",
       "      <td>1310.24</td>\n",
       "      <td>0.19</td>\n",
       "      <td>0.63</td>\n",
       "      <td>171.6</td>\n",
       "    </tr>\n",
       "    <tr>\n",
       "      <th>01.01.2009 00:40:00</th>\n",
       "      <td>996.51</td>\n",
       "      <td>-8.31</td>\n",
       "      <td>265.12</td>\n",
       "      <td>-9.07</td>\n",
       "      <td>94.2</td>\n",
       "      <td>3.26</td>\n",
       "      <td>3.07</td>\n",
       "      <td>0.19</td>\n",
       "      <td>1.92</td>\n",
       "      <td>3.08</td>\n",
       "      <td>1309.19</td>\n",
       "      <td>0.34</td>\n",
       "      <td>0.50</td>\n",
       "      <td>198.0</td>\n",
       "    </tr>\n",
       "    <tr>\n",
       "      <th>01.01.2009 00:50:00</th>\n",
       "      <td>996.51</td>\n",
       "      <td>-8.27</td>\n",
       "      <td>265.15</td>\n",
       "      <td>-9.04</td>\n",
       "      <td>94.1</td>\n",
       "      <td>3.27</td>\n",
       "      <td>3.08</td>\n",
       "      <td>0.19</td>\n",
       "      <td>1.92</td>\n",
       "      <td>3.09</td>\n",
       "      <td>1309.00</td>\n",
       "      <td>0.32</td>\n",
       "      <td>0.63</td>\n",
       "      <td>214.3</td>\n",
       "    </tr>\n",
       "  </tbody>\n",
       "</table>\n",
       "</div>"
      ],
      "text/plain": [
       "                     p (mbar)  T (degC)  Tpot (K)  Tdew (degC)  rh (%)  \\\n",
       "Date Time                                                                \n",
       "01.01.2009 00:10:00    996.52     -8.02    265.40        -8.90    93.3   \n",
       "01.01.2009 00:20:00    996.57     -8.41    265.01        -9.28    93.4   \n",
       "01.01.2009 00:30:00    996.53     -8.51    264.91        -9.31    93.9   \n",
       "01.01.2009 00:40:00    996.51     -8.31    265.12        -9.07    94.2   \n",
       "01.01.2009 00:50:00    996.51     -8.27    265.15        -9.04    94.1   \n",
       "\n",
       "                     VPmax (mbar)  VPact (mbar)  VPdef (mbar)  sh (g/kg)  \\\n",
       "Date Time                                                                  \n",
       "01.01.2009 00:10:00          3.33          3.11          0.22       1.94   \n",
       "01.01.2009 00:20:00          3.23          3.02          0.21       1.89   \n",
       "01.01.2009 00:30:00          3.21          3.01          0.20       1.88   \n",
       "01.01.2009 00:40:00          3.26          3.07          0.19       1.92   \n",
       "01.01.2009 00:50:00          3.27          3.08          0.19       1.92   \n",
       "\n",
       "                     H2OC (mmol/mol)  rho (g/m**3)  wv (m/s)  max. wv (m/s)  \\\n",
       "Date Time                                                                     \n",
       "01.01.2009 00:10:00             3.12       1307.75      1.03           1.75   \n",
       "01.01.2009 00:20:00             3.03       1309.80      0.72           1.50   \n",
       "01.01.2009 00:30:00             3.02       1310.24      0.19           0.63   \n",
       "01.01.2009 00:40:00             3.08       1309.19      0.34           0.50   \n",
       "01.01.2009 00:50:00             3.09       1309.00      0.32           0.63   \n",
       "\n",
       "                     wd (deg)  \n",
       "Date Time                      \n",
       "01.01.2009 00:10:00     152.3  \n",
       "01.01.2009 00:20:00     136.1  \n",
       "01.01.2009 00:30:00     171.6  \n",
       "01.01.2009 00:40:00     198.0  \n",
       "01.01.2009 00:50:00     214.3  "
      ]
     },
     "execution_count": 4,
     "metadata": {},
     "output_type": "execute_result"
    }
   ],
   "source": [
    "df = pd.read_csv(dataset, index_col=0)\n",
    "df.head()"
   ]
  },
  {
   "cell_type": "code",
   "execution_count": 5,
   "metadata": {},
   "outputs": [
    {
     "data": {
      "text/html": [
       "<div>\n",
       "<style>\n",
       "    .dataframe thead tr:only-child th {\n",
       "        text-align: right;\n",
       "    }\n",
       "\n",
       "    .dataframe thead th {\n",
       "        text-align: left;\n",
       "    }\n",
       "\n",
       "    .dataframe tbody tr th {\n",
       "        vertical-align: top;\n",
       "    }\n",
       "</style>\n",
       "<table border=\"1\" class=\"dataframe\">\n",
       "  <thead>\n",
       "    <tr style=\"text-align: right;\">\n",
       "      <th></th>\n",
       "      <th>p (mbar)</th>\n",
       "      <th>T (degC)</th>\n",
       "      <th>Tpot (K)</th>\n",
       "      <th>Tdew (degC)</th>\n",
       "      <th>rh (%)</th>\n",
       "      <th>VPmax (mbar)</th>\n",
       "      <th>VPact (mbar)</th>\n",
       "      <th>VPdef (mbar)</th>\n",
       "      <th>sh (g/kg)</th>\n",
       "      <th>H2OC (mmol/mol)</th>\n",
       "      <th>rho (g/m**3)</th>\n",
       "      <th>wv (m/s)</th>\n",
       "      <th>max. wv (m/s)</th>\n",
       "      <th>wd (deg)</th>\n",
       "    </tr>\n",
       "  </thead>\n",
       "  <tbody>\n",
       "    <tr>\n",
       "      <th>0</th>\n",
       "      <td>0.874229</td>\n",
       "      <td>-2.074010</td>\n",
       "      <td>-2.127439</td>\n",
       "      <td>-2.058613</td>\n",
       "      <td>1.049500</td>\n",
       "      <td>-1.323973</td>\n",
       "      <td>-1.535254</td>\n",
       "      <td>-0.780586</td>\n",
       "      <td>-1.536971</td>\n",
       "      <td>-1.539461</td>\n",
       "      <td>2.293603</td>\n",
       "      <td>-0.010271</td>\n",
       "      <td>-0.018931</td>\n",
       "      <td>-0.258921</td>\n",
       "    </tr>\n",
       "    <tr>\n",
       "      <th>1</th>\n",
       "      <td>0.880211</td>\n",
       "      <td>-2.120310</td>\n",
       "      <td>-2.173297</td>\n",
       "      <td>-2.115071</td>\n",
       "      <td>1.055569</td>\n",
       "      <td>-1.336894</td>\n",
       "      <td>-1.556764</td>\n",
       "      <td>-0.782628</td>\n",
       "      <td>-1.555795</td>\n",
       "      <td>-1.560710</td>\n",
       "      <td>2.344885</td>\n",
       "      <td>-0.015008</td>\n",
       "      <td>-0.022553</td>\n",
       "      <td>-0.445812</td>\n",
       "    </tr>\n",
       "    <tr>\n",
       "      <th>2</th>\n",
       "      <td>0.875425</td>\n",
       "      <td>-2.132182</td>\n",
       "      <td>-2.185056</td>\n",
       "      <td>-2.119528</td>\n",
       "      <td>1.085916</td>\n",
       "      <td>-1.339478</td>\n",
       "      <td>-1.559154</td>\n",
       "      <td>-0.784670</td>\n",
       "      <td>-1.559560</td>\n",
       "      <td>-1.563071</td>\n",
       "      <td>2.355891</td>\n",
       "      <td>-0.023106</td>\n",
       "      <td>-0.035159</td>\n",
       "      <td>-0.036268</td>\n",
       "    </tr>\n",
       "    <tr>\n",
       "      <th>3</th>\n",
       "      <td>0.873032</td>\n",
       "      <td>-2.108438</td>\n",
       "      <td>-2.160363</td>\n",
       "      <td>-2.083871</td>\n",
       "      <td>1.104124</td>\n",
       "      <td>-1.333018</td>\n",
       "      <td>-1.544814</td>\n",
       "      <td>-0.786712</td>\n",
       "      <td>-1.544501</td>\n",
       "      <td>-1.548905</td>\n",
       "      <td>2.329625</td>\n",
       "      <td>-0.020814</td>\n",
       "      <td>-0.037042</td>\n",
       "      <td>0.268295</td>\n",
       "    </tr>\n",
       "    <tr>\n",
       "      <th>4</th>\n",
       "      <td>0.873032</td>\n",
       "      <td>-2.103690</td>\n",
       "      <td>-2.156835</td>\n",
       "      <td>-2.079413</td>\n",
       "      <td>1.098055</td>\n",
       "      <td>-1.331726</td>\n",
       "      <td>-1.542424</td>\n",
       "      <td>-0.786712</td>\n",
       "      <td>-1.544501</td>\n",
       "      <td>-1.546544</td>\n",
       "      <td>2.324872</td>\n",
       "      <td>-0.021120</td>\n",
       "      <td>-0.035159</td>\n",
       "      <td>0.456339</td>\n",
       "    </tr>\n",
       "  </tbody>\n",
       "</table>\n",
       "</div>"
      ],
      "text/plain": [
       "   p (mbar)  T (degC)  Tpot (K)  Tdew (degC)    rh (%)  VPmax (mbar)  \\\n",
       "0  0.874229 -2.074010 -2.127439    -2.058613  1.049500     -1.323973   \n",
       "1  0.880211 -2.120310 -2.173297    -2.115071  1.055569     -1.336894   \n",
       "2  0.875425 -2.132182 -2.185056    -2.119528  1.085916     -1.339478   \n",
       "3  0.873032 -2.108438 -2.160363    -2.083871  1.104124     -1.333018   \n",
       "4  0.873032 -2.103690 -2.156835    -2.079413  1.098055     -1.331726   \n",
       "\n",
       "   VPact (mbar)  VPdef (mbar)  sh (g/kg)  H2OC (mmol/mol)  rho (g/m**3)  \\\n",
       "0     -1.535254     -0.780586  -1.536971        -1.539461      2.293603   \n",
       "1     -1.556764     -0.782628  -1.555795        -1.560710      2.344885   \n",
       "2     -1.559154     -0.784670  -1.559560        -1.563071      2.355891   \n",
       "3     -1.544814     -0.786712  -1.544501        -1.548905      2.329625   \n",
       "4     -1.542424     -0.786712  -1.544501        -1.546544      2.324872   \n",
       "\n",
       "   wv (m/s)  max. wv (m/s)  wd (deg)  \n",
       "0 -0.010271      -0.018931 -0.258921  \n",
       "1 -0.015008      -0.022553 -0.445812  \n",
       "2 -0.023106      -0.035159 -0.036268  \n",
       "3 -0.020814      -0.037042  0.268295  \n",
       "4 -0.021120      -0.035159  0.456339  "
      ]
     },
     "execution_count": 5,
     "metadata": {},
     "output_type": "execute_result"
    }
   ],
   "source": [
    "df_normalized = (df - df.mean())/df.std()\n",
    "df_normalized = df_normalized.reset_index(drop=True)\n",
    "df_normalized.head()"
   ]
  },
  {
   "cell_type": "code",
   "execution_count": 6,
   "metadata": {},
   "outputs": [
    {
     "data": {
      "image/png": "[encoded data removed]",
      "text/plain": [
       "<matplotlib.figure.Figure at 0x112eaecf8>"
      ]
     },
     "metadata": {},
     "output_type": "display_data"
    }
   ],
   "source": [
    "df_normalized['T (degC)'].plot()\n",
    "plt.title('Long term seasonality')\n",
    "plt.show()"
   ]
  },
  {
   "cell_type": "code",
   "execution_count": 7,
   "metadata": {},
   "outputs": [
    {
     "data": {
      "image/png": "[encoded data removed]",
      "text/plain": [
       "<matplotlib.figure.Figure at 0x117f0a2b0>"
      ]
     },
     "metadata": {},
     "output_type": "display_data"
    }
   ],
   "source": [
    "df_normalized['T (degC)'][:1440].plot()\n",
    "plt.title('Short term')\n",
    "plt.show()"
   ]
  },
  {
   "cell_type": "code",
   "execution_count": 8,
   "metadata": {},
   "outputs": [],
   "source": [
    "def generator(data, lookback, delay, min_index=0, max_index=None,\n",
    "              shuffle=False, batch_size=128, step=6):\n",
    "    \n",
    "    if max_index is None:\n",
    "        max_index = data.shape[0] - delay - 1\n",
    "    stop = min_index + lookback \n",
    "    \n",
    "    while True:\n",
    "        if shuffle:\n",
    "            rows = np.random.randint(min_index + lookback, max_index, batch_size)\n",
    "            \n",
    "        else:\n",
    "            batch_stop = min(stop + batch_size, max_index)\n",
    "            rows = np.arange(stop, batch_stop, 1)\n",
    "            stop += len(rows)\n",
    "            \n",
    "            if  stop + batch_size >= max_index:\n",
    "                stop = min_index + lookback #Cycle generator back to beginning\n",
    "            \n",
    "        samples = np.zeros( (len(rows), lookback//step, data.shape[-1]) )\n",
    "        targets = np.zeros( (len(rows),) )\n",
    "        \n",
    "        for idx, row in enumerate(rows):\n",
    "            indices = range(row-lookback, row, step)\n",
    "            samples[idx] = data.iloc[indices].values\n",
    "            targets[idx] = data.iloc[row + delay]['T (degC)']\n",
    "        yield samples, targets  "
   ]
  },
  {
   "cell_type": "code",
   "execution_count": 9,
   "metadata": {},
   "outputs": [],
   "source": [
    "lookback = 1440\n",
    "delay = 144\n",
    "batch_size = 128\n",
    "step = 6"
   ]
  },
  {
   "cell_type": "code",
   "execution_count": 47,
   "metadata": {},
   "outputs": [],
   "source": [
    "train_gen = generator(df_normalized, lookback=lookback, delay=delay, min_index=0, max_index=200000, shuffle=True, batch_size=batch_size, step=step)\n",
    "val_gen = generator(df_normalized, lookback=lookback, delay=delay, min_index=200001, max_index=300000, shuffle=False, batch_size=batch_size, step=step)\n",
    "test_gen = generator(df_normalized, lookback=lookback, delay=delay, min_index=300001, max_index=None, shuffle=False, batch_size=batch_size, step=step)\n",
    "\n",
    "train_steps = 200000 - lookback\n",
    "val_steps = 300000 - 200001 - lookback\n",
    "test_steps = df_normalized.shape[0] - 300001 - lookback"
   ]
  },
  {
   "cell_type": "markdown",
   "metadata": {},
   "source": [
    "### Models"
   ]
  },
  {
   "cell_type": "markdown",
   "metadata": {},
   "source": [
    "#### Naive model"
   ]
  },
  {
   "cell_type": "code",
   "execution_count": 18,
   "metadata": {},
   "outputs": [
    {
     "name": "stdout",
     "output_type": "stream",
     "text": [
      "Avg mae: 0.30451654590151545\n",
      "Celsius mae: 2.5650540787337666\n",
      "CPU times: user 42.6 s, sys: 579 ms, total: 43.2 s\n",
      "Wall time: 43.4 s\n"
     ]
    }
   ],
   "source": [
    "%%time \n",
    "\n",
    "# Baseline\n",
    "# Predict future temperature to be the current temperature \n",
    "# Calculate MAE\n",
    "\n",
    "def evaluate_naive_method():\n",
    "    batch_mae = []\n",
    "    for idx in range(0, val_steps, batch_size):\n",
    "            sample, target = next(val_gen)\n",
    "            preds = sample[:, -1, 1]\n",
    "            mae = np.mean(np.abs(preds - target))\n",
    "            batch_mae.append( mae )\n",
    "    avg_mae = np.mean(batch_mae)\n",
    "    print('Avg mae: {}'.format(avg_mae))\n",
    "    print('Celsius mae: {}'.format(avg_mae*df.std()[1]))\n",
    "    return avg_mae\n",
    "\n",
    "evaluate_naive_method()"
   ]
  },
  {
   "cell_type": "markdown",
   "metadata": {},
   "source": [
    "#### Simple NN"
   ]
  },
  {
   "cell_type": "code",
   "execution_count": 19,
   "metadata": {},
   "outputs": [],
   "source": [
    "from keras.models import Sequential\n",
    "from keras.layers import Flatten, Dense"
   ]
  },
  {
   "cell_type": "code",
   "execution_count": 30,
   "metadata": {},
   "outputs": [],
   "source": [
    "model = Sequential()\n",
    "model.add( Flatten( input_shape=(lookback // step, df_normalized.shape[-1]) ) )\n",
    "model.add( Dense( 32, activation='relu') )\n",
    "model.add( Dense(1) )\n",
    "model.compile('rmsprop', 'mae')"
   ]
  },
  {
   "cell_type": "code",
   "execution_count": 32,
   "metadata": {},
   "outputs": [
    {
     "name": "stdout",
     "output_type": "stream",
     "text": [
      "Epoch 1/20\n",
      "500/500 [==============================] - 82s 164ms/step - loss: 1.4571 - val_loss: 0.6351\n",
      "Epoch 2/20\n",
      "500/500 [==============================] - 88s 176ms/step - loss: 0.4225 - val_loss: 0.3480\n",
      "Epoch 3/20\n",
      "500/500 [==============================] - 83s 167ms/step - loss: 0.3170 - val_loss: 0.3329\n",
      "Epoch 4/20\n",
      "500/500 [==============================] - 85s 170ms/step - loss: 0.2932 - val_loss: 0.3120\n",
      "Epoch 5/20\n",
      "500/500 [==============================] - 91s 182ms/step - loss: 0.2792 - val_loss: 0.3213\n",
      "Epoch 6/20\n",
      "500/500 [==============================] - 88s 176ms/step - loss: 0.2692 - val_loss: 0.3347\n",
      "Epoch 7/20\n",
      "500/500 [==============================] - 84s 168ms/step - loss: 0.2614 - val_loss: 0.3418\n",
      "Epoch 8/20\n",
      "500/500 [==============================] - 85s 169ms/step - loss: 0.2539 - val_loss: 0.3307\n",
      "Epoch 9/20\n",
      "500/500 [==============================] - 86s 172ms/step - loss: 0.2492 - val_loss: 0.3617\n",
      "Epoch 10/20\n",
      "500/500 [==============================] - 85s 170ms/step - loss: 0.2423 - val_loss: 0.3557\n",
      "Epoch 11/20\n",
      "500/500 [==============================] - 85s 170ms/step - loss: 0.2393 - val_loss: 0.3241\n",
      "Epoch 12/20\n",
      "500/500 [==============================] - 86s 172ms/step - loss: 0.2347 - val_loss: 0.3701\n",
      "Epoch 13/20\n",
      "500/500 [==============================] - 196s 392ms/step - loss: 0.2311 - val_loss: 0.3362\n",
      "Epoch 14/20\n",
      "500/500 [==============================] - 189s 378ms/step - loss: 0.2289 - val_loss: 0.3423\n",
      "Epoch 15/20\n",
      "500/500 [==============================] - 84s 168ms/step - loss: 0.2255 - val_loss: 0.3802\n",
      "Epoch 16/20\n",
      "500/500 [==============================] - 85s 170ms/step - loss: 0.2216 - val_loss: 0.3687\n",
      "Epoch 17/20\n",
      "500/500 [==============================] - 86s 171ms/step - loss: 0.2197 - val_loss: 0.3517\n",
      "Epoch 18/20\n",
      "500/500 [==============================] - 85s 171ms/step - loss: 0.2169 - val_loss: 0.3450\n",
      "Epoch 19/20\n",
      "500/500 [==============================] - 86s 172ms/step - loss: 0.2142 - val_loss: 0.3758\n",
      "Epoch 20/20\n",
      "500/500 [==============================] - 86s 171ms/step - loss: 0.2113 - val_loss: 0.3409\n"
     ]
    }
   ],
   "source": [
    "vanilla_nn_history = model.fit_generator( train_gen, steps_per_epoch=500,\n",
    "                                        epochs=20,\n",
    "                                        validation_data = val_gen,\n",
    "                                        validation_steps = val_steps // batch_size)"
   ]
  },
  {
   "cell_type": "code",
   "execution_count": 33,
   "metadata": {},
   "outputs": [],
   "source": [
    "import matplotlib.pyplot as plt"
   ]
  },
  {
   "cell_type": "code",
   "execution_count": 40,
   "metadata": {},
   "outputs": [
    {
     "data": {
      "image/png": "[encoded data removed]",
      "text/plain": [
       "<matplotlib.figure.Figure at 0x1168d2ac8>"
      ]
     },
     "metadata": {},
     "output_type": "display_data"
    }
   ],
   "source": [
    "# Plots\n",
    "hist = vanilla_nn_history.history\n",
    "train_loss = hist['loss']\n",
    "val_loss = hist['val_loss']\n",
    "epochs = vanilla_nn_history.epoch\n",
    "\n",
    "plt.figure()\n",
    "plt.plot(epochs[1:], train_loss[1:], 'k.', label='Training loss')\n",
    "plt.plot(epochs[1:], val_loss[1:], 'r-', label='Validation loss')\n",
    "plt.plot(epochs[1:], 0.304*np.ones_like(epochs[1:]), 'b-', label='naive method')\n",
    "plt.title('Loss')\n",
    "plt.legend()\n",
    "plt.show()"
   ]
  },
  {
   "cell_type": "markdown",
   "metadata": {},
   "source": [
    "#### GRU"
   ]
  },
  {
   "cell_type": "code",
   "execution_count": 42,
   "metadata": {},
   "outputs": [],
   "source": [
    "from keras.layers import GRU"
   ]
  },
  {
   "cell_type": "code",
   "execution_count": 51,
   "metadata": {},
   "outputs": [],
   "source": [
    "gru_model = Sequential()\n",
    "gru_model.add( GRU(32, input_shape=(lookback // step, df_normalized.shape[-1]) ) )\n",
    "gru_model.add( Dense(1) )\n",
    "\n",
    "gru_model.compile( 'rmsprop', 'mae' )"
   ]
  },
  {
   "cell_type": "code",
   "execution_count": 53,
   "metadata": {},
   "outputs": [
    {
     "name": "stdout",
     "output_type": "stream",
     "text": [
      "Epoch 1/10\n",
      "300/300 [==============================] - 278s 928ms/step - loss: 0.3144 - val_loss: 0.2896\n",
      "Epoch 2/10\n",
      "300/300 [==============================] - 268s 895ms/step - loss: 0.3027 - val_loss: 0.2853\n",
      "Epoch 3/10\n",
      "300/300 [==============================] - 274s 912ms/step - loss: 0.3000 - val_loss: 0.2924\n",
      "Epoch 4/10\n",
      "300/300 [==============================] - 282s 939ms/step - loss: 0.2964 - val_loss: 0.2841\n",
      "Epoch 5/10\n",
      "300/300 [==============================] - 274s 914ms/step - loss: 0.2920 - val_loss: 0.2896\n",
      "Epoch 6/10\n",
      "300/300 [==============================] - 278s 928ms/step - loss: 0.2881 - val_loss: 0.2834\n",
      "Epoch 7/10\n",
      "300/300 [==============================] - 272s 906ms/step - loss: 0.2851 - val_loss: 0.2822\n",
      "Epoch 8/10\n",
      "300/300 [==============================] - 255s 849ms/step - loss: 0.2800 - val_loss: 0.2838\n",
      "Epoch 9/10\n",
      "300/300 [==============================] - 248s 826ms/step - loss: 0.2765 - val_loss: 0.2811\n",
      "Epoch 10/10\n",
      "300/300 [==============================] - 250s 832ms/step - loss: 0.2726 - val_loss: 0.2793\n"
     ]
    }
   ],
   "source": [
    "gru_history = gru_model.fit_generator(train_gen, \n",
    "                        steps_per_epoch=train_steps // batch_size, \n",
    "                        epochs = 10,\n",
    "                        validation_data = val_gen,\n",
    "                        validation_steps = val_steps // batch_size)"
   ]
  },
  {
   "cell_type": "code",
   "execution_count": 54,
   "metadata": {},
   "outputs": [],
   "source": [
    "gru_model.save_weights('models/gru-temperature.h5')"
   ]
  },
  {
   "cell_type": "code",
   "execution_count": 55,
   "metadata": {},
   "outputs": [
    {
     "data": {
      "image/png": "[encoded data removed]",
      "text/plain": [
       "<matplotlib.figure.Figure at 0x124679cc0>"
      ]
     },
     "metadata": {},
     "output_type": "display_data"
    }
   ],
   "source": [
    "# Plots\n",
    "hist = gru_history.history\n",
    "epochs = gru_history.epoch\n",
    "train_loss = hist['loss']\n",
    "val_loss = hist['val_loss']\n",
    "\n",
    "plt.figure()\n",
    "plt.plot(epochs[1:], train_loss[1:], 'k.', label='Training loss')\n",
    "plt.plot(epochs[1:], val_loss[1:], 'r-', label='Validation loss')\n",
    "plt.plot(epochs[1:], 0.304*np.ones_like(epochs[1:]), 'b-', label='naive method')\n",
    "plt.title('Loss')\n",
    "plt.legend()\n",
    "plt.show()"
   ]
  },
  {
   "cell_type": "markdown",
   "metadata": {},
   "source": [
    "#### 1D CNN"
   ]
  },
  {
   "cell_type": "code",
   "execution_count": 57,
   "metadata": {},
   "outputs": [],
   "source": [
    "from keras.layers import Conv1D, MaxPooling1D, GlobalMaxPooling1D"
   ]
  },
  {
   "cell_type": "code",
   "execution_count": 60,
   "metadata": {},
   "outputs": [
    {
     "name": "stdout",
     "output_type": "stream",
     "text": [
      "_________________________________________________________________\n",
      "Layer (type)                 Output Shape              Param #   \n",
      "=================================================================\n",
      "conv1d_4 (Conv1D)            (None, 236, 32)           2272      \n",
      "_________________________________________________________________\n",
      "max_pooling1d_3 (MaxPooling1 (None, 78, 32)            0         \n",
      "_________________________________________________________________\n",
      "conv1d_5 (Conv1D)            (None, 74, 32)            5152      \n",
      "_________________________________________________________________\n",
      "max_pooling1d_4 (MaxPooling1 (None, 24, 32)            0         \n",
      "_________________________________________________________________\n",
      "conv1d_6 (Conv1D)            (None, 20, 32)            5152      \n",
      "_________________________________________________________________\n",
      "global_max_pooling1d_2 (Glob (None, 32)                0         \n",
      "_________________________________________________________________\n",
      "dense_9 (Dense)              (None, 1)                 33        \n",
      "=================================================================\n",
      "Total params: 12,609\n",
      "Trainable params: 12,609\n",
      "Non-trainable params: 0\n",
      "_________________________________________________________________\n"
     ]
    }
   ],
   "source": [
    "cnn_model = Sequential()\n",
    "cnn_model.add( Conv1D( 32, 5, activation='relu', input_shape=(lookback // step, df_normalized.shape[-1])) )\n",
    "cnn_model.add( MaxPooling1D(3) )\n",
    "\n",
    "cnn_model.add( Conv1D( 32, 5, activation='relu' ))\n",
    "cnn_model.add( MaxPooling1D(3) )\n",
    "\n",
    "cnn_model.add( Conv1D( 32, 5, activation='relu' ))\n",
    "cnn_model.add( GlobalMaxPooling1D() )\n",
    "\n",
    "cnn_model.add( Dense(1) )\n",
    "cnn_model.summary()"
   ]
  },
  {
   "cell_type": "code",
   "execution_count": 61,
   "metadata": {},
   "outputs": [
    {
     "name": "stdout",
     "output_type": "stream",
     "text": [
      "Epoch 1/10\n",
      "500/500 [==============================] - 121s 242ms/step - loss: 0.4371 - val_loss: 0.4530\n",
      "Epoch 2/10\n",
      "500/500 [==============================] - 108s 217ms/step - loss: 0.3826 - val_loss: 0.4662\n",
      "Epoch 3/10\n",
      "500/500 [==============================] - 116s 233ms/step - loss: 0.3604 - val_loss: 0.4617\n",
      "Epoch 4/10\n",
      "500/500 [==============================] - 125s 250ms/step - loss: 0.3409 - val_loss: 0.4606\n",
      "Epoch 5/10\n",
      "500/500 [==============================] - 121s 242ms/step - loss: 0.3309 - val_loss: 0.4578\n",
      "Epoch 6/10\n",
      "500/500 [==============================] - 142s 285ms/step - loss: 0.3218 - val_loss: 0.4826\n",
      "Epoch 7/10\n",
      "500/500 [==============================] - 120s 240ms/step - loss: 0.3134 - val_loss: 0.4774\n",
      "Epoch 8/10\n",
      "500/500 [==============================] - 131s 262ms/step - loss: 0.3057 - val_loss: 0.4833\n",
      "Epoch 9/10\n",
      "500/500 [==============================] - 117s 235ms/step - loss: 0.2992 - val_loss: 0.4783\n",
      "Epoch 10/10\n",
      "500/500 [==============================] - 126s 252ms/step - loss: 0.2928 - val_loss: 0.4753\n"
     ]
    }
   ],
   "source": [
    "cnn_model.compile('rmsprop', 'mae')\n",
    "cnn_history = cnn_model.fit_generator(train_gen, \n",
    "                        steps_per_epoch=500, \n",
    "                        epochs = 10,\n",
    "                        validation_data = val_gen,\n",
    "                        validation_steps = val_steps // batch_size)\n",
    "cnn_model.save_weights('models/cnn-jena.h5')"
   ]
  },
  {
   "cell_type": "code",
   "execution_count": 62,
   "metadata": {},
   "outputs": [
    {
     "data": {
      "image/png": "[encoded data removed]",
      "text/plain": [
       "<matplotlib.figure.Figure at 0x122916e10>"
      ]
     },
     "metadata": {},
     "output_type": "display_data"
    }
   ],
   "source": [
    "# Plots\n",
    "hist = cnn_history.history\n",
    "epochs = cnn_history.epoch\n",
    "train_loss = hist['loss']\n",
    "val_loss = hist['val_loss']\n",
    "\n",
    "plt.figure()\n",
    "plt.plot(epochs[1:], train_loss[1:], 'k.', label='Training loss')\n",
    "plt.plot(epochs[1:], val_loss[1:], 'r-', label='Validation loss')\n",
    "plt.plot(epochs[1:], 0.304*np.ones_like(epochs[1:]), 'b-', label='naive method')\n",
    "plt.title('Loss')\n",
    "plt.legend()\n",
    "plt.show()"
   ]
  },
  {
   "cell_type": "markdown",
   "metadata": {},
   "source": [
    "#### CNN with GRU"
   ]
  },
  {
   "cell_type": "code",
   "execution_count": 66,
   "metadata": {},
   "outputs": [
    {
     "name": "stdout",
     "output_type": "stream",
     "text": [
      "_________________________________________________________________\n",
      "Layer (type)                 Output Shape              Param #   \n",
      "=================================================================\n",
      "conv1d_9 (Conv1D)            (None, 236, 32)           2272      \n",
      "_________________________________________________________________\n",
      "max_pooling1d_6 (MaxPooling1 (None, 78, 32)            0         \n",
      "_________________________________________________________________\n",
      "conv1d_10 (Conv1D)           (None, 74, 32)            5152      \n",
      "_________________________________________________________________\n",
      "gru_7 (GRU)                  (None, 32)                6240      \n",
      "_________________________________________________________________\n",
      "dense_11 (Dense)             (None, 1)                 33        \n",
      "=================================================================\n",
      "Total params: 13,697\n",
      "Trainable params: 13,697\n",
      "Non-trainable params: 0\n",
      "_________________________________________________________________\n"
     ]
    }
   ],
   "source": [
    "cnn_gru_model = Sequential()\n",
    "cnn_gru_model.add( Conv1D(32, 5, activation='relu', input_shape=(lookback // step, df_normalized.shape[-1])) )\n",
    "cnn_gru_model.add( MaxPooling1D(3) )\n",
    "cnn_gru_model.add( Conv1D(32, 5, activation='relu') )\n",
    "cnn_gru_model.add( GRU(32, dropout=0.1, recurrent_dropout=0.5) )\n",
    "cnn_gru_model.add( Dense(1) )\n",
    "cnn_gru_model.summary()"
   ]
  },
  {
   "cell_type": "code",
   "execution_count": 67,
   "metadata": {},
   "outputs": [
    {
     "name": "stdout",
     "output_type": "stream",
     "text": [
      "Epoch 1/10\n",
      "300/300 [==============================] - 161s 538ms/step - loss: 0.3709 - val_loss: 0.3077\n",
      "Epoch 2/10\n",
      "300/300 [==============================] - 186s 619ms/step - loss: 0.3350 - val_loss: 0.3063\n",
      "Epoch 3/10\n",
      "300/300 [==============================] - 228s 760ms/step - loss: 0.3256 - val_loss: 0.2992\n",
      "Epoch 4/10\n",
      "300/300 [==============================] - 226s 752ms/step - loss: 0.3153 - val_loss: 0.3035\n",
      "Epoch 5/10\n",
      "300/300 [==============================] - 219s 731ms/step - loss: 0.3074 - val_loss: 0.2977\n",
      "Epoch 6/10\n",
      "300/300 [==============================] - 201s 669ms/step - loss: 0.3016 - val_loss: 0.3065\n",
      "Epoch 7/10\n",
      "300/300 [==============================] - 205s 685ms/step - loss: 0.2940 - val_loss: 0.3049\n",
      "Epoch 8/10\n",
      "300/300 [==============================] - 202s 673ms/step - loss: 0.2880 - val_loss: 0.3078\n",
      "Epoch 9/10\n",
      "300/300 [==============================] - 184s 613ms/step - loss: 0.2871 - val_loss: 0.3032\n",
      "Epoch 10/10\n",
      "300/300 [==============================] - 187s 624ms/step - loss: 0.2799 - val_loss: 0.3058\n"
     ]
    }
   ],
   "source": [
    "cnn_gru_model.compile( 'rmsprop', 'mae')\n",
    "cnn_gru_history = cnn_gru_model.fit_generator(train_gen, \n",
    "                        steps_per_epoch=300, \n",
    "                        epochs = 10,\n",
    "                        validation_data = val_gen,\n",
    "                        validation_steps = val_steps // batch_size)\n",
    "cnn_gru_model.save_weights('models/cnn-gru-jena.h5')"
   ]
  },
  {
   "cell_type": "code",
   "execution_count": 68,
   "metadata": {},
   "outputs": [
    {
     "data": {
      "image/png": "[encoded data removed]",
      "text/plain": [
       "<matplotlib.figure.Figure at 0x1224b5f98>"
      ]
     },
     "metadata": {},
     "output_type": "display_data"
    }
   ],
   "source": [
    "hist = cnn_gru_history.history\n",
    "epochs = cnn_gru_history.epoch\n",
    "train_loss = hist['loss']\n",
    "val_loss = hist['val_loss']\n",
    "\n",
    "plt.figure()\n",
    "plt.plot(epochs[1:], train_loss[1:], 'k.', label='Training loss')\n",
    "plt.plot(epochs[1:], val_loss[1:], 'r-', label='Validation loss')\n",
    "plt.plot(epochs[1:], 0.304*np.ones_like(epochs[1:]), 'b-', label='naive method')\n",
    "plt.title('Loss')\n",
    "plt.legend()\n",
    "plt.show()"
   ]
  }
 ],
 "metadata": {
  "kernelspec": {
   "display_name": "Python 3",
   "language": "python",
   "name": "python3"
  },
  "language_info": {
   "codemirror_mode": {
    "name": "ipython",
    "version": 3
   },
   "file_extension": ".py",
   "mimetype": "text/x-python",
   "name": "python",
   "nbconvert_exporter": "python",
   "pygments_lexer": "ipython3",
   "version": "3.6.1"
  }
 },
 "nbformat": 4,
 "nbformat_minor": 2
}
