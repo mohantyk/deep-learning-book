{
 "cells": [
  {
   "cell_type": "code",
   "execution_count": null,
   "metadata": {},
   "outputs": [],
   "source": [
    "%matplotlib inline"
   ]
  },
  {
   "cell_type": "code",
   "execution_count": null,
   "metadata": {},
   "outputs": [],
   "source": [
    "from keras import models, layers"
   ]
  },
  {
   "cell_type": "markdown",
   "metadata": {},
   "source": [
    "### Create model"
   ]
  },
  {
   "cell_type": "code",
   "execution_count": null,
   "metadata": {},
   "outputs": [],
   "source": [
    "convnet = models.Sequential()\n",
    "convnet.add( layers.Conv2D(32, (3,3), activation='relu', input_shape=(150,150,3)) )\n",
    "convnet.add( layers.MaxPooling2D( (2,2) ))\n",
    "convnet.add( layers.Conv2D(64, (3,3), activation='relu') )\n",
    "convnet.add( layers.MaxPooling2D( (2,2) ) )\n",
    "convnet.add( layers.Conv2D(128, (3,3), activation='relu') )\n",
    "convnet.add( layers.MaxPooling2D( (2,2) ))\n",
    "convnet.add( layers.Conv2D(128, (3,3), activation='relu') )\n",
    "convnet.add( layers.MaxPooling2D( (2,2) ))\n",
    "convnet.add( layers.Flatten() )\n",
    "convnet.add( layers.Dense(512, activation='relu') )\n",
    "convnet.add( layers.Dense(1, activation='sigmoid') )\n",
    "convnet.summary()"
   ]
  },
  {
   "cell_type": "code",
   "execution_count": null,
   "metadata": {},
   "outputs": [],
   "source": [
    "from keras.optimizers import RMSprop"
   ]
  },
  {
   "cell_type": "code",
   "execution_count": null,
   "metadata": {},
   "outputs": [],
   "source": [
    "convnet.compile(optimizer=RMSprop(lr=1e-4), loss='binary_crossentropy', metrics=['accuracy'])"
   ]
  },
  {
   "cell_type": "markdown",
   "metadata": {},
   "source": [
    "### Process images"
   ]
  },
  {
   "cell_type": "code",
   "execution_count": null,
   "metadata": {},
   "outputs": [],
   "source": [
    "from keras.preprocessing.image import ImageDataGenerator"
   ]
  },
  {
   "cell_type": "code",
   "execution_count": null,
   "metadata": {},
   "outputs": [],
   "source": [
    "test_dir = 'data/dogs-vs-cats-small/test'\n",
    "train_dir = 'data/dogs-vs-cats-small/train'\n",
    "validation_dir = 'data/dogs-vs-cats-small/validation/'"
   ]
  },
  {
   "cell_type": "code",
   "execution_count": null,
   "metadata": {},
   "outputs": [],
   "source": [
    "train_datagen = ImageDataGenerator(rescale=1./255)\n",
    "validation_datagen = ImageDataGenerator(rescale=1./255)\n",
    "test_datagen = ImageDataGenerator(rescale=1./255)"
   ]
  },
  {
   "cell_type": "code",
   "execution_count": null,
   "metadata": {},
   "outputs": [],
   "source": [
    "test_generator = test_datagen.flow_from_directory(directory=test_dir,\n",
    "                                  target_size=(150, 150),\n",
    "                                  class_mode='binary',\n",
    "                                  batch_size=20)"
   ]
  },
  {
   "cell_type": "code",
   "execution_count": null,
   "metadata": {},
   "outputs": [],
   "source": [
    "train_generator = train_datagen.flow_from_directory(directory=train_dir,\n",
    "                                  target_size=(150, 150),\n",
    "                                  class_mode='binary',\n",
    "                                  batch_size=20)"
   ]
  },
  {
   "cell_type": "code",
   "execution_count": null,
   "metadata": {},
   "outputs": [],
   "source": [
    "validation_generator = validation_datagen.flow_from_directory(directory=validation_dir,\n",
    "                                        target_size=(150,150),\n",
    "                                        class_mode='binary',\n",
    "                                        batch_size=20)"
   ]
  },
  {
   "cell_type": "code",
   "execution_count": null,
   "metadata": {},
   "outputs": [],
   "source": [
    "test_image_batch, test_label_batch = next(test_generator)\n",
    "print('Shape of batch: {shape}'.format(shape=test_image_batch.shape))"
   ]
  },
  {
   "cell_type": "markdown",
   "metadata": {},
   "source": [
    "### Train "
   ]
  },
  {
   "cell_type": "code",
   "execution_count": null,
   "metadata": {},
   "outputs": [],
   "source": [
    "history = convnet.fit_generator(train_generator,\n",
    "                     steps_per_epoch=100,\n",
    "                     epochs=30, \n",
    "                     validation_data=validation_generator,\n",
    "                     validation_steps=50)"
   ]
  },
  {
   "cell_type": "code",
   "execution_count": null,
   "metadata": {},
   "outputs": [],
   "source": [
    "convnet.save('cats_vs_dogs_small_1.h5')"
   ]
  },
  {
   "cell_type": "markdown",
   "metadata": {},
   "source": [
    "### Plots"
   ]
  },
  {
   "cell_type": "code",
   "execution_count": null,
   "metadata": {},
   "outputs": [],
   "source": [
    "import matplotlib.pyplot as plt"
   ]
  },
  {
   "cell_type": "code",
   "execution_count": null,
   "metadata": {},
   "outputs": [],
   "source": [
    "val_loss = history.history['val_loss']\n",
    "val_acc = history.history['val_acc']\n",
    "\n",
    "train_loss = history.history['loss']\n",
    "train_acc = history.history['acc']\n",
    "\n",
    "epoch = history.epoch"
   ]
  },
  {
   "cell_type": "code",
   "execution_count": null,
   "metadata": {},
   "outputs": [],
   "source": [
    "# Loss plots\n",
    "plt.figure()\n",
    "\n",
    "plt.plot(epoch, train_loss, 'bo', label='Training loss')\n",
    "plt.plot(epoch, val_loss, 'rx', label='Validation loss')\n",
    "plt.xlabel('Epoch')\n",
    "plt.ylabel('Loss')\n",
    "plt.title('Training and validation loss')\n",
    "plt.legend()\n",
    "plt.show()"
   ]
  },
  {
   "cell_type": "code",
   "execution_count": null,
   "metadata": {},
   "outputs": [],
   "source": [
    "# Accuracy plots\n",
    "plt.figure()\n",
    "\n",
    "plt.plot( epoch, train_acc, 'bo', label='Training accuracy' )\n",
    "plt.plot( epoch, val_acc, 'rx', label='Validation accuracy' )\n",
    "plt.xlabel('Epoch')\n",
    "plt.ylabel('Loss')\n",
    "plt.title('Training and validation accuracy')\n",
    "plt.legend()\n",
    "plt.show()"
   ]
  }
 ],
 "metadata": {
  "kernelspec": {
   "display_name": "Python 3",
   "language": "python",
   "name": "python3"
  },
  "language_info": {
   "codemirror_mode": {
    "name": "ipython",
    "version": 3
   },
   "file_extension": ".py",
   "mimetype": "text/x-python",
   "name": "python",
   "nbconvert_exporter": "python",
   "pygments_lexer": "ipython3",
   "version": "3.6.1"
  }
 },
 "nbformat": 4,
 "nbformat_minor": 2
}
