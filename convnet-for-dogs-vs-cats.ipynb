{
 "cells": [
  {
   "cell_type": "code",
   "execution_count": 1,
   "metadata": {},
   "outputs": [],
   "source": [
    "%matplotlib inline"
   ]
  },
  {
   "cell_type": "code",
   "execution_count": null,
   "metadata": {},
   "outputs": [],
   "source": [
    "from keras import models, layers"
   ]
  },
  {
   "cell_type": "markdown",
   "metadata": {},
   "source": [
    "### Create model"
   ]
  },
  {
   "cell_type": "code",
   "execution_count": 3,
   "metadata": {},
   "outputs": [
    {
     "name": "stdout",
     "output_type": "stream",
     "text": [
      "_________________________________________________________________\n",
      "Layer (type)                 Output Shape              Param #   \n",
      "=================================================================\n",
      "conv2d_1 (Conv2D)            (None, 148, 148, 32)      896       \n",
      "_________________________________________________________________\n",
      "max_pooling2d_1 (MaxPooling2 (None, 74, 74, 32)        0         \n",
      "_________________________________________________________________\n",
      "conv2d_2 (Conv2D)            (None, 72, 72, 64)        18496     \n",
      "_________________________________________________________________\n",
      "max_pooling2d_2 (MaxPooling2 (None, 36, 36, 64)        0         \n",
      "_________________________________________________________________\n",
      "conv2d_3 (Conv2D)            (None, 34, 34, 128)       73856     \n",
      "_________________________________________________________________\n",
      "max_pooling2d_3 (MaxPooling2 (None, 17, 17, 128)       0         \n",
      "_________________________________________________________________\n",
      "conv2d_4 (Conv2D)            (None, 15, 15, 128)       147584    \n",
      "_________________________________________________________________\n",
      "max_pooling2d_4 (MaxPooling2 (None, 7, 7, 128)         0         \n",
      "_________________________________________________________________\n",
      "flatten_1 (Flatten)          (None, 6272)              0         \n",
      "_________________________________________________________________\n",
      "dense_1 (Dense)              (None, 512)               3211776   \n",
      "_________________________________________________________________\n",
      "dense_2 (Dense)              (None, 1)                 513       \n",
      "=================================================================\n",
      "Total params: 3,453,121\n",
      "Trainable params: 3,453,121\n",
      "Non-trainable params: 0\n",
      "_________________________________________________________________\n"
     ]
    }
   ],
   "source": [
    "convnet = models.Sequential()\n",
    "convnet.add( layers.Conv2D(32, (3,3), activation='relu', input_shape=(150,150,3)) )\n",
    "convnet.add( layers.MaxPooling2D( (2,2) ))\n",
    "convnet.add( layers.Conv2D(64, (3,3), activation='relu') )\n",
    "convnet.add( layers.MaxPooling2D( (2,2) ) )\n",
    "convnet.add( layers.Conv2D(128, (3,3), activation='relu') )\n",
    "convnet.add( layers.MaxPooling2D( (2,2) ))\n",
    "convnet.add( layers.Conv2D(128, (3,3), activation='relu') )\n",
    "convnet.add( layers.MaxPooling2D( (2,2) ))\n",
    "convnet.add( layers.Flatten() )\n",
    "convnet.add( layers.Dense(512, activation='relu') )\n",
    "convnet.add( layers.Dense(1, activation='sigmoid') )\n",
    "convnet.summary()"
   ]
  },
  {
   "cell_type": "code",
   "execution_count": 4,
   "metadata": {},
   "outputs": [],
   "source": [
    "from keras.optimizers import RMSprop"
   ]
  },
  {
   "cell_type": "code",
   "execution_count": 5,
   "metadata": {},
   "outputs": [],
   "source": [
    "convnet.compile(optimizer=RMSprop(lr=1e-4), loss='binary_crossentropy', metrics=['accuracy'])"
   ]
  },
  {
   "cell_type": "markdown",
   "metadata": {},
   "source": [
    "### Process images"
   ]
  },
  {
   "cell_type": "code",
   "execution_count": 30,
   "metadata": {},
   "outputs": [],
   "source": [
    "from keras.preprocessing.image import ImageDataGenerator"
   ]
  },
  {
   "cell_type": "code",
   "execution_count": 31,
   "metadata": {},
   "outputs": [],
   "source": [
    "test_dir = 'data/dogs-vs-cats-small/test'\n",
    "train_dir = 'data/dogs-vs-cats-small/train'\n",
    "validation_dir = 'data/dogs-vs-cats-small/validation/'"
   ]
  },
  {
   "cell_type": "code",
   "execution_count": 32,
   "metadata": {},
   "outputs": [],
   "source": [
    "train_datagen = ImageDataGenerator(rescale=1./255)\n",
    "validation_datagen = ImageDataGenerator(rescale=1./255)\n",
    "test_datagen = ImageDataGenerator(rescale=1./255)"
   ]
  },
  {
   "cell_type": "code",
   "execution_count": 33,
   "metadata": {},
   "outputs": [
    {
     "name": "stdout",
     "output_type": "stream",
     "text": [
      "Found 1000 images belonging to 2 classes.\n"
     ]
    }
   ],
   "source": [
    "test_generator = test_datagen.flow_from_directory(directory=test_dir,\n",
    "                                  target_size=(150, 150),\n",
    "                                  class_mode='binary',\n",
    "                                  batch_size=20)"
   ]
  },
  {
   "cell_type": "code",
   "execution_count": 34,
   "metadata": {},
   "outputs": [
    {
     "name": "stdout",
     "output_type": "stream",
     "text": [
      "Found 2000 images belonging to 2 classes.\n"
     ]
    }
   ],
   "source": [
    "train_generator = train_datagen.flow_from_directory(directory=train_dir,\n",
    "                                  target_size=(150, 150),\n",
    "                                  class_mode='binary',\n",
    "                                  batch_size=20)"
   ]
  },
  {
   "cell_type": "code",
   "execution_count": 35,
   "metadata": {},
   "outputs": [
    {
     "name": "stdout",
     "output_type": "stream",
     "text": [
      "Found 1000 images belonging to 2 classes.\n"
     ]
    }
   ],
   "source": [
    "validation_generator = validation_datagen.flow_from_directory(directory=validation_dir,\n",
    "                                        target_size=(150,150),\n",
    "                                        class_mode='binary',\n",
    "                                        batch_size=20)"
   ]
  },
  {
   "cell_type": "code",
   "execution_count": 36,
   "metadata": {},
   "outputs": [
    {
     "name": "stdout",
     "output_type": "stream",
     "text": [
      "Shape of batch: (20, 150, 150, 3)\n"
     ]
    }
   ],
   "source": [
    "test_image_batch, test_label_batch = next(test_generator)\n",
    "print('Shape of batch: {shape}'.format(shape=test_image_batch.shape))"
   ]
  },
  {
   "cell_type": "markdown",
   "metadata": {},
   "source": [
    "### Train "
   ]
  },
  {
   "cell_type": "code",
   "execution_count": 37,
   "metadata": {},
   "outputs": [
    {
     "name": "stdout",
     "output_type": "stream",
     "text": [
      "Epoch 1/30\n",
      "100/100 [==============================] - 173s 2s/step - loss: 0.6878 - acc: 0.5425 - val_loss: 0.6740 - val_acc: 0.5380\n",
      "Epoch 2/30\n",
      "100/100 [==============================] - 174s 2s/step - loss: 0.6534 - acc: 0.6310 - val_loss: 0.7047 - val_acc: 0.5490\n",
      "Epoch 3/30\n",
      "100/100 [==============================] - 180s 2s/step - loss: 0.6060 - acc: 0.6815 - val_loss: 0.6069 - val_acc: 0.6680\n",
      "Epoch 4/30\n",
      "100/100 [==============================] - 175s 2s/step - loss: 0.5664 - acc: 0.6995 - val_loss: 0.6018 - val_acc: 0.6630\n",
      "Epoch 5/30\n",
      "100/100 [==============================] - 194s 2s/step - loss: 0.5333 - acc: 0.7280 - val_loss: 0.5857 - val_acc: 0.6740\n",
      "Epoch 6/30\n",
      "100/100 [==============================] - 179s 2s/step - loss: 0.5113 - acc: 0.7485 - val_loss: 0.5588 - val_acc: 0.7090\n",
      "Epoch 7/30\n",
      "100/100 [==============================] - 183s 2s/step - loss: 0.4819 - acc: 0.7730 - val_loss: 0.6374 - val_acc: 0.6730\n",
      "Epoch 8/30\n",
      "100/100 [==============================] - 193s 2s/step - loss: 0.4663 - acc: 0.7775 - val_loss: 0.5575 - val_acc: 0.7030\n",
      "Epoch 9/30\n",
      "100/100 [==============================] - 185s 2s/step - loss: 0.4385 - acc: 0.7825 - val_loss: 0.5753 - val_acc: 0.7080\n",
      "Epoch 10/30\n",
      "100/100 [==============================] - 176s 2s/step - loss: 0.4091 - acc: 0.8190 - val_loss: 0.5532 - val_acc: 0.7110\n",
      "Epoch 11/30\n",
      "100/100 [==============================] - 177s 2s/step - loss: 0.3921 - acc: 0.8220 - val_loss: 0.5600 - val_acc: 0.7090\n",
      "Epoch 12/30\n",
      "100/100 [==============================] - 175s 2s/step - loss: 0.3638 - acc: 0.8460 - val_loss: 0.5657 - val_acc: 0.7110\n",
      "Epoch 13/30\n",
      "100/100 [==============================] - 174s 2s/step - loss: 0.3422 - acc: 0.8580 - val_loss: 0.7355 - val_acc: 0.6960\n",
      "Epoch 14/30\n",
      "100/100 [==============================] - 174s 2s/step - loss: 0.3175 - acc: 0.8615 - val_loss: 0.5853 - val_acc: 0.7330\n",
      "Epoch 15/30\n",
      "100/100 [==============================] - 175s 2s/step - loss: 0.2862 - acc: 0.8810 - val_loss: 0.6174 - val_acc: 0.7200\n",
      "Epoch 16/30\n",
      "100/100 [==============================] - 176s 2s/step - loss: 0.2726 - acc: 0.8905 - val_loss: 0.6840 - val_acc: 0.7170\n",
      "Epoch 17/30\n",
      "100/100 [==============================] - 178s 2s/step - loss: 0.2490 - acc: 0.9080 - val_loss: 0.6172 - val_acc: 0.7240\n",
      "Epoch 18/30\n",
      "100/100 [==============================] - 161s 2s/step - loss: 0.2291 - acc: 0.9060 - val_loss: 0.6400 - val_acc: 0.7250\n",
      "Epoch 19/30\n",
      "100/100 [==============================] - 160s 2s/step - loss: 0.2080 - acc: 0.9230 - val_loss: 0.7151 - val_acc: 0.7320\n",
      "Epoch 20/30\n",
      "100/100 [==============================] - 161s 2s/step - loss: 0.1885 - acc: 0.9310 - val_loss: 0.7311 - val_acc: 0.6990\n",
      "Epoch 21/30\n",
      "100/100 [==============================] - 160s 2s/step - loss: 0.1620 - acc: 0.9420 - val_loss: 0.7186 - val_acc: 0.7220\n",
      "Epoch 22/30\n",
      "100/100 [==============================] - 161s 2s/step - loss: 0.1437 - acc: 0.9540 - val_loss: 0.7141 - val_acc: 0.7270\n",
      "Epoch 23/30\n",
      "100/100 [==============================] - 159s 2s/step - loss: 0.1268 - acc: 0.9595 - val_loss: 0.7778 - val_acc: 0.7150\n",
      "Epoch 24/30\n",
      "100/100 [==============================] - 156s 2s/step - loss: 0.1066 - acc: 0.9645 - val_loss: 0.8114 - val_acc: 0.7090\n",
      "Epoch 25/30\n",
      "100/100 [==============================] - 156s 2s/step - loss: 0.0979 - acc: 0.9670 - val_loss: 0.8313 - val_acc: 0.7110\n",
      "Epoch 26/30\n",
      "100/100 [==============================] - 157s 2s/step - loss: 0.0808 - acc: 0.9700 - val_loss: 0.9124 - val_acc: 0.7380\n",
      "Epoch 27/30\n",
      "100/100 [==============================] - 157s 2s/step - loss: 0.0779 - acc: 0.9775 - val_loss: 0.9435 - val_acc: 0.7390\n",
      "Epoch 28/30\n",
      "100/100 [==============================] - 157s 2s/step - loss: 0.0614 - acc: 0.9805 - val_loss: 1.2488 - val_acc: 0.7120\n",
      "Epoch 29/30\n",
      "100/100 [==============================] - 157s 2s/step - loss: 0.0535 - acc: 0.9835 - val_loss: 1.0211 - val_acc: 0.7320\n",
      "Epoch 30/30\n",
      "100/100 [==============================] - 156s 2s/step - loss: 0.0458 - acc: 0.9845 - val_loss: 1.0843 - val_acc: 0.7380\n"
     ]
    }
   ],
   "source": [
    "history = convnet.fit_generator(train_generator,\n",
    "                     steps_per_epoch=100,\n",
    "                     epochs=30, \n",
    "                     validation_data=validation_generator,\n",
    "                     validation_steps=50)"
   ]
  },
  {
   "cell_type": "code",
   "execution_count": 38,
   "metadata": {},
   "outputs": [],
   "source": [
    "convnet.save('cats_vs_dogs_small_1.h5')"
   ]
  },
  {
   "cell_type": "code",
   "execution_count": null,
   "metadata": {},
   "outputs": [],
   "source": []
  }
 ],
 "metadata": {
  "kernelspec": {
   "display_name": "Python 3",
   "language": "python",
   "name": "python3"
  },
  "language_info": {
   "codemirror_mode": {
    "name": "ipython",
    "version": 3
   },
   "file_extension": ".py",
   "mimetype": "text/x-python",
   "name": "python",
   "nbconvert_exporter": "python",
   "pygments_lexer": "ipython3",
   "version": "3.6.1"
  }
 },
 "nbformat": 4,
 "nbformat_minor": 2
}
