{
 "cells": [
  {
   "cell_type": "code",
   "execution_count": 1,
   "metadata": {},
   "outputs": [],
   "source": [
    "import numpy as np\n",
    "import os\n",
    "import shutil\n",
    "import sys"
   ]
  },
  {
   "cell_type": "code",
   "execution_count": 2,
   "metadata": {},
   "outputs": [],
   "source": [
    "datasets = '../datasets/'\n",
    "glove_file_location = os.path.join(datasets, 'glove.6B/glove.6B.100d.txt')"
   ]
  },
  {
   "cell_type": "code",
   "execution_count": 3,
   "metadata": {},
   "outputs": [
    {
     "name": "stdout",
     "output_type": "stream",
     "text": [
      "Loaded 400000 words from database.\n",
      "CPU times: user 13.6 s, sys: 424 ms, total: 14.1 s\n",
      "Wall time: 14.2 s\n"
     ]
    }
   ],
   "source": [
    "%%time \n",
    "# Process the Glove vectors into a dictionary\n",
    "embeddings_index = {}\n",
    "max_database_size = 400000\n",
    "with open(glove_file_location, encoding='utf-8') as f:\n",
    "    for line in f:\n",
    "        parsed_line = line.split()\n",
    "        # The explicit string conversion below seems to fix a weird unicode runtime issue\n",
    "        word = str(parsed_line[0]) \n",
    "        vector = np.array(parsed_line[1:], dtype='float32')\n",
    "        embeddings_index[word] = vector\n",
    "        if len(embeddings_index) >= max_database_size:\n",
    "            break\n",
    "\n",
    "print('Loaded {0} words from database.'.format(len(embeddings_index)))\n",
    "    "
   ]
  },
  {
   "cell_type": "code",
   "execution_count": 4,
   "metadata": {},
   "outputs": [
    {
     "name": "stdout",
     "output_type": "stream",
     "text": [
      "[ 0.17137   -0.33437    0.11471   -0.52008   -0.79816    0.48592\n",
      " -0.73885    0.28653   -0.6273     0.26786   -0.32081    0.11757\n",
      "  0.61241    0.25964   -0.21165   -0.63307    0.40135    0.26175\n",
      " -0.16827   -0.0092904  0.35687   -0.31246    0.79867    0.54921\n",
      "  0.17423   -0.30704   -0.23997   -0.64167    0.36679   -0.27327\n",
      "  0.64719    0.32952   -0.46198    0.057414  -0.088337  -0.027794\n",
      " -0.074753   0.52992   -0.48819   -0.17822    0.045592  -0.39832\n",
      "  0.5287     0.01556    0.23284   -0.011029  -0.15533   -0.065942\n",
      "  0.22879   -1.0154    -0.2172     0.26772   -0.32618    1.6999\n",
      "  0.055699  -2.586      0.75177   -0.76514    1.9965     0.28489\n",
      " -0.1825     1.3012    -0.074158   0.22211    0.8391     0.12388\n",
      "  0.4363     0.4045     0.25744   -0.63188   -0.34572   -0.097293\n",
      "  0.14742   -1.5755    -0.098063   0.36815   -0.83086   -0.41775\n",
      " -1.3509     0.11379    0.76722    0.75707   -0.24826    0.4637\n",
      " -1.8673    -0.46703   -0.01854    0.010588  -0.76759    0.21896\n",
      " -0.46664    0.32206    0.2232     0.30753   -1.179     -0.85791\n",
      " -1.0137    -0.11272    1.1948     0.53682  ]\n"
     ]
    }
   ],
   "source": [
    "word  = 'their'\n",
    "if word in embeddings_index:\n",
    "    print(embeddings_index[word])\n"
   ]
  },
  {
   "cell_type": "markdown",
   "metadata": {},
   "source": [
    "#### Tokenize raw imdb database\n",
    "\n",
    "- Use 10000 words to tokenize\n",
    "- Use 200 training samples only\n",
    "- Use 10000 validation samples\n",
    "- Use 100 words from each sample "
   ]
  }
 ],
 "metadata": {
  "kernelspec": {
   "display_name": "Python 3",
   "language": "python",
   "name": "python3"
  },
  "language_info": {
   "codemirror_mode": {
    "name": "ipython",
    "version": 3
   },
   "file_extension": ".py",
   "mimetype": "text/x-python",
   "name": "python",
   "nbconvert_exporter": "python",
   "pygments_lexer": "ipython3",
   "version": "3.6.1"
  }
 },
 "nbformat": 4,
 "nbformat_minor": 2
}
