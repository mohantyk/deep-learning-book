{
 "cells": [
  {
   "cell_type": "code",
   "execution_count": 1,
   "metadata": {},
   "outputs": [],
   "source": [
    "import numpy as np\n",
    "import os\n",
    "import shutil\n",
    "import sys"
   ]
  },
  {
   "cell_type": "code",
   "execution_count": 2,
   "metadata": {},
   "outputs": [],
   "source": [
    "import warnings\n",
    "warnings.simplefilter(action='ignore', category=FutureWarning)"
   ]
  },
  {
   "cell_type": "code",
   "execution_count": 3,
   "metadata": {},
   "outputs": [],
   "source": [
    "datasets = '../datasets/'\n",
    "glove_file_location = os.path.join(datasets, 'glove.6B/glove.6B.100d.txt')"
   ]
  },
  {
   "cell_type": "code",
   "execution_count": 4,
   "metadata": {},
   "outputs": [
    {
     "name": "stdout",
     "output_type": "stream",
     "text": [
      "Loaded 400000 words from database.\n",
      "CPU times: user 13.4 s, sys: 430 ms, total: 13.9 s\n",
      "Wall time: 14.1 s\n"
     ]
    }
   ],
   "source": [
    "%%time \n",
    "# Process the Glove vectors into a dictionary\n",
    "embeddings_index = {}\n",
    "max_database_size = 400000\n",
    "with open(glove_file_location, encoding='utf-8') as f:\n",
    "    for line in f:\n",
    "        parsed_line = line.split()\n",
    "        # The explicit string conversion below seems to fix a weird unicode runtime issue\n",
    "        word = str(parsed_line[0]) \n",
    "        vector = np.array(parsed_line[1:], dtype='float32')\n",
    "        embeddings_index[word] = vector\n",
    "        if len(embeddings_index) >= max_database_size:\n",
    "            break\n",
    "\n",
    "print('Loaded {0} words from database.'.format(len(embeddings_index)))\n",
    "    "
   ]
  },
  {
   "cell_type": "markdown",
   "metadata": {},
   "source": [
    "### Tokenize raw imdb database\n",
    "\n",
    "- Use 10000 words to tokenize\n",
    "- Use 200 training samples only\n",
    "- Use 10000 validation samples\n",
    "- Use 100 words from each sample "
   ]
  },
  {
   "cell_type": "code",
   "execution_count": 5,
   "metadata": {},
   "outputs": [],
   "source": [
    "num_words = 10000\n",
    "num_train = 200\n",
    "num_validation = 10000\n",
    "maxlen = 100"
   ]
  },
  {
   "cell_type": "code",
   "execution_count": 6,
   "metadata": {},
   "outputs": [],
   "source": [
    "imdb_location = os.path.join(datasets, 'aclImdb')\n",
    "train_location = os.path.join(imdb_location, 'train')"
   ]
  },
  {
   "cell_type": "code",
   "execution_count": 7,
   "metadata": {},
   "outputs": [
    {
     "name": "stderr",
     "output_type": "stream",
     "text": [
      "Using TensorFlow backend.\n"
     ]
    }
   ],
   "source": [
    "from keras.preprocessing.text import Tokenizer\n",
    "from keras.preprocessing.sequence import pad_sequences"
   ]
  },
  {
   "cell_type": "code",
   "execution_count": 8,
   "metadata": {},
   "outputs": [
    {
     "name": "stdout",
     "output_type": "stream",
     "text": [
      "Completed processing *neg* folder. Total reviews: 12500\n",
      "Completed processing *pos* folder. Total reviews: 25000\n",
      "CPU times: user 1.64 s, sys: 2.55 s, total: 4.18 s\n",
      "Wall time: 5.81 s\n"
     ]
    }
   ],
   "source": [
    "%%time\n",
    "\n",
    "texts = []\n",
    "labels = []\n",
    "folders = ['neg', 'pos']\n",
    "\n",
    "for folder in folders:\n",
    "    complete_path = os.path.join(train_location, folder)\n",
    "    for filename in os.listdir(complete_path):\n",
    "        if filename[-4:] == '.txt':\n",
    "            file = os.path.join(complete_path, filename)\n",
    "            with open(file, encoding='utf-8') as f:\n",
    "                review = f.read()\n",
    "                texts.append(str(review))\n",
    "                if folder == 'neg':\n",
    "                    labels.append(0)\n",
    "                else:\n",
    "                    labels.append(1)\n",
    "                \n",
    "    print('Completed processing *{0}* folder. Total reviews: {1}'.format(folder, len(labels)))\n"
   ]
  },
  {
   "cell_type": "code",
   "execution_count": 9,
   "metadata": {},
   "outputs": [],
   "source": [
    "tokenizer = Tokenizer( num_words )\n",
    "tokenizer.fit_on_texts( texts )"
   ]
  },
  {
   "cell_type": "code",
   "execution_count": 10,
   "metadata": {},
   "outputs": [],
   "source": [
    "tokenized_texts = tokenizer.texts_to_sequences(texts)"
   ]
  },
  {
   "cell_type": "code",
   "execution_count": 11,
   "metadata": {},
   "outputs": [],
   "source": [
    "padded_sequences = pad_sequences(tokenized_texts, maxlen)"
   ]
  },
  {
   "cell_type": "code",
   "execution_count": 12,
   "metadata": {},
   "outputs": [],
   "source": [
    "# Choose 200 training samples randomly (100 from positive and 100 from negative)\n",
    "negative_indices = np.random.randint(0, 12500, size=100)\n",
    "positive_indices = np.random.randint(12500, 25000, size=100)\n",
    "\n",
    "data = padded_sequences[np.concatenate((negative_indices, positive_indices))]\n",
    "\n",
    "labels_array = np.array(labels)\n",
    "data_labels = labels_array[np.concatenate((negative_indices, positive_indices))]"
   ]
  },
  {
   "cell_type": "code",
   "execution_count": 13,
   "metadata": {},
   "outputs": [],
   "source": [
    "p = np.random.permutation(len(data))\n",
    "x_train = data[p]\n",
    "y_train = data_labels[p]"
   ]
  }
 ],
 "metadata": {
  "kernelspec": {
   "display_name": "Python 3",
   "language": "python",
   "name": "python3"
  },
  "language_info": {
   "codemirror_mode": {
    "name": "ipython",
    "version": 3
   },
   "file_extension": ".py",
   "mimetype": "text/x-python",
   "name": "python",
   "nbconvert_exporter": "python",
   "pygments_lexer": "ipython3",
   "version": "3.6.1"
  }
 },
 "nbformat": 4,
 "nbformat_minor": 2
}
