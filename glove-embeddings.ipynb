{
 "cells": [
  {
   "cell_type": "code",
   "execution_count": 1,
   "metadata": {},
   "outputs": [],
   "source": [
    "import numpy as np\n",
    "import os\n",
    "import shutil\n",
    "import sys"
   ]
  },
  {
   "cell_type": "code",
   "execution_count": 2,
   "metadata": {},
   "outputs": [],
   "source": [
    "import warnings\n",
    "warnings.simplefilter(action='ignore', category=FutureWarning)"
   ]
  },
  {
   "cell_type": "code",
   "execution_count": 3,
   "metadata": {},
   "outputs": [],
   "source": [
    "datasets = '../datasets/'\n",
    "glove_file_location = os.path.join(datasets, 'glove.6B/glove.6B.100d.txt')"
   ]
  },
  {
   "cell_type": "code",
   "execution_count": 4,
   "metadata": {},
   "outputs": [
    {
     "name": "stdout",
     "output_type": "stream",
     "text": [
      "Loaded 400000 words from database.\n",
      "CPU times: user 14.3 s, sys: 492 ms, total: 14.8 s\n",
      "Wall time: 15 s\n"
     ]
    }
   ],
   "source": [
    "%%time \n",
    "# Process the Glove vectors into a dictionary\n",
    "embeddings_index = {}\n",
    "max_database_size = 400000\n",
    "with open(glove_file_location, encoding='utf-8') as f:\n",
    "    for line in f:\n",
    "        parsed_line = line.split()\n",
    "        # The explicit string conversion below seems to fix a weird unicode runtime issue\n",
    "        word = str(parsed_line[0]) \n",
    "        vector = np.array(parsed_line[1:], dtype='float32')\n",
    "        embeddings_index[word] = vector\n",
    "        if len(embeddings_index) >= max_database_size:\n",
    "            break\n",
    "\n",
    "print('Loaded {0} words from database.'.format(len(embeddings_index)))\n",
    "    "
   ]
  },
  {
   "cell_type": "markdown",
   "metadata": {},
   "source": [
    "#### Tokenize raw imdb database\n",
    "\n",
    "- Use 10000 words to tokenize\n",
    "- Use 200 training samples only\n",
    "- Use 10000 validation samples\n",
    "- Use 100 words from each sample "
   ]
  },
  {
   "cell_type": "code",
   "execution_count": 5,
   "metadata": {},
   "outputs": [],
   "source": [
    "num_words = 10000\n",
    "num_train = 200\n",
    "num_validation = 10000\n",
    "maxlen = 100"
   ]
  },
  {
   "cell_type": "code",
   "execution_count": 6,
   "metadata": {},
   "outputs": [],
   "source": [
    "imdb_location = os.path.join(datasets, 'aclImdb')\n",
    "train_location = os.path.join(imdb_location, 'train')"
   ]
  },
  {
   "cell_type": "code",
   "execution_count": 7,
   "metadata": {},
   "outputs": [
    {
     "name": "stderr",
     "output_type": "stream",
     "text": [
      "Using TensorFlow backend.\n"
     ]
    }
   ],
   "source": [
    "from keras.preprocessing.text import Tokenizer\n",
    "from keras.preprocessing.sequence import pad_sequences"
   ]
  },
  {
   "cell_type": "code",
   "execution_count": 8,
   "metadata": {},
   "outputs": [
    {
     "name": "stdout",
     "output_type": "stream",
     "text": [
      "Completed processing *neg* folder. Total reviews: 12500\n",
      "Completed processing *pos* folder. Total reviews: 25000\n",
      "CPU times: user 1.73 s, sys: 2.35 s, total: 4.08 s\n",
      "Wall time: 5.59 s\n"
     ]
    }
   ],
   "source": [
    "%%time\n",
    "\n",
    "text = []\n",
    "labels = []\n",
    "folders = ['neg', 'pos']\n",
    "\n",
    "for folder in folders:\n",
    "    complete_path = os.path.join(train_location, folder)\n",
    "    for filename in os.listdir(complete_path):\n",
    "        if filename[-4:] == '.txt':\n",
    "            file = os.path.join(complete_path, filename)\n",
    "            with open(file, encoding='utf-8') as f:\n",
    "                review = f.read()\n",
    "                text.append(str(review))\n",
    "                if folder == 'neg':\n",
    "                    labels.append(0)\n",
    "                else:\n",
    "                    labels.append(1)\n",
    "                \n",
    "    print('Completed processing *{0}* folder. Total reviews: {1}'.format(folder, len(labels)))\n"
   ]
  }
 ],
 "metadata": {
  "kernelspec": {
   "display_name": "Python 3",
   "language": "python",
   "name": "python3"
  },
  "language_info": {
   "codemirror_mode": {
    "name": "ipython",
    "version": 3
   },
   "file_extension": ".py",
   "mimetype": "text/x-python",
   "name": "python",
   "nbconvert_exporter": "python",
   "pygments_lexer": "ipython3",
   "version": "3.6.1"
  }
 },
 "nbformat": 4,
 "nbformat_minor": 2
}
