{
 "cells": [
  {
   "cell_type": "code",
   "execution_count": 1,
   "metadata": {},
   "outputs": [],
   "source": [
    "import numpy as np\n",
    "import os\n",
    "import shutil\n",
    "import sys"
   ]
  },
  {
   "cell_type": "code",
   "execution_count": 2,
   "metadata": {},
   "outputs": [],
   "source": [
    "import warnings\n",
    "warnings.simplefilter(action='ignore', category=FutureWarning)"
   ]
  },
  {
   "cell_type": "code",
   "execution_count": 3,
   "metadata": {},
   "outputs": [],
   "source": [
    "datasets = '../datasets/'\n",
    "glove_file_location = os.path.join(datasets, 'glove.6B/glove.6B.100d.txt')"
   ]
  },
  {
   "cell_type": "markdown",
   "metadata": {},
   "source": [
    "### Tokenize raw imdb database\n",
    "\n",
    "- Use 10000 words to tokenize\n",
    "- Use 200 training samples only\n",
    "- Use 10000 validation samples\n",
    "- Use 100 words from each sample "
   ]
  },
  {
   "cell_type": "code",
   "execution_count": 4,
   "metadata": {},
   "outputs": [],
   "source": [
    "num_words = 10000\n",
    "num_train = 200\n",
    "num_validation = 10000\n",
    "maxlen = 100\n",
    "embedding_dim = 100"
   ]
  },
  {
   "cell_type": "code",
   "execution_count": 5,
   "metadata": {},
   "outputs": [],
   "source": [
    "imdb_location = os.path.join(datasets, 'aclImdb')\n",
    "train_location = os.path.join(imdb_location, 'train')"
   ]
  },
  {
   "cell_type": "code",
   "execution_count": 6,
   "metadata": {},
   "outputs": [
    {
     "name": "stderr",
     "output_type": "stream",
     "text": [
      "Using TensorFlow backend.\n"
     ]
    }
   ],
   "source": [
    "from keras.preprocessing.text import Tokenizer\n",
    "from keras.preprocessing.sequence import pad_sequences"
   ]
  },
  {
   "cell_type": "code",
   "execution_count": 7,
   "metadata": {},
   "outputs": [
    {
     "name": "stdout",
     "output_type": "stream",
     "text": [
      "Completed processing *neg* folder. Total reviews: 12500\n",
      "Completed processing *pos* folder. Total reviews: 25000\n",
      "CPU times: user 1.03 s, sys: 472 ms, total: 1.5 s\n",
      "Wall time: 1.52 s\n"
     ]
    }
   ],
   "source": [
    "%%time\n",
    "\n",
    "texts = []\n",
    "labels = []\n",
    "folders = ['neg', 'pos']\n",
    "\n",
    "for folder in folders:\n",
    "    complete_path = os.path.join(train_location, folder)\n",
    "    for filename in os.listdir(complete_path):\n",
    "        if filename[-4:] == '.txt':\n",
    "            file = os.path.join(complete_path, filename)\n",
    "            with open(file, encoding='utf-8') as f:\n",
    "                review = f.read()\n",
    "                texts.append(str(review))\n",
    "                if folder == 'neg':\n",
    "                    labels.append(0)\n",
    "                else:\n",
    "                    labels.append(1)\n",
    "                \n",
    "    print('Completed processing *{0}* folder. Total reviews: {1}'.format(folder, len(labels)))\n"
   ]
  },
  {
   "cell_type": "code",
   "execution_count": 8,
   "metadata": {},
   "outputs": [],
   "source": [
    "tokenizer = Tokenizer( num_words )\n",
    "tokenizer.fit_on_texts( texts )\n",
    "\n",
    "word2idx = tokenizer.word_index\n",
    "idx2word = {idx : word for word, idx in word2idx.items()}"
   ]
  },
  {
   "cell_type": "code",
   "execution_count": 9,
   "metadata": {},
   "outputs": [],
   "source": [
    "tokenized_texts = tokenizer.texts_to_sequences(texts)\n",
    "padded_sequences = pad_sequences(tokenized_texts, maxlen)"
   ]
  },
  {
   "cell_type": "code",
   "execution_count": 10,
   "metadata": {},
   "outputs": [],
   "source": [
    "# Choose 200 training samples randomly (100 from positive and 100 from negative)\n",
    "negative_indices = np.random.randint(0, 12500, size=100)\n",
    "positive_indices = np.random.randint(12500, 25000, size=100)\n",
    "\n",
    "data = padded_sequences[np.concatenate((negative_indices, positive_indices))]\n",
    "\n",
    "labels_array = np.array(labels)\n",
    "data_labels = labels_array[np.concatenate((negative_indices, positive_indices))]\n",
    "\n",
    "p = np.random.permutation(len(data))\n",
    "x_train = data[p]\n",
    "y_train = data_labels[p]"
   ]
  },
  {
   "cell_type": "code",
   "execution_count": 11,
   "metadata": {},
   "outputs": [],
   "source": [
    "# Validation data\n",
    "# Choose 10000 validation samples randomly\n",
    "negative_indices = np.random.randint(0, 12500, size=5000)\n",
    "positive_indices = np.random.randint(12500, 25000, size=5000)\n",
    "\n",
    "data = padded_sequences[np.concatenate((negative_indices, positive_indices))]\n",
    "\n",
    "labels_array = np.array(labels)\n",
    "data_labels = labels_array[np.concatenate((negative_indices, positive_indices))]\n",
    "\n",
    "p = np.random.permutation(len(data))\n",
    "x_val = data[p]\n",
    "y_val = data_labels[p]"
   ]
  },
  {
   "cell_type": "code",
   "execution_count": 12,
   "metadata": {},
   "outputs": [
    {
     "name": "stdout",
     "output_type": "stream",
     "text": [
      "Loaded 60159 words from database.\n",
      "CPU times: user 13.3 s, sys: 238 ms, total: 13.6 s\n",
      "Wall time: 13.7 s\n"
     ]
    }
   ],
   "source": [
    "%%time \n",
    "# Process the Glove vectors into a dictionary\n",
    "embeddings_index = {}\n",
    "max_database_size = 400000\n",
    "with open(glove_file_location, encoding='utf-8') as f:\n",
    "    for line in f:\n",
    "        parsed_line = line.split()\n",
    "        # The explicit string conversion below seems to fix a weird unicode runtime issue\n",
    "        word = str(parsed_line[0]) \n",
    "        vector = np.array(parsed_line[1:], dtype='float32')\n",
    "        if word in word2idx:\n",
    "            embeddings_index[word] = vector\n",
    "            \n",
    "        if len(embeddings_index) >= max_database_size:\n",
    "            break\n",
    "\n",
    "print('Loaded {0} words from database.'.format(len(embeddings_index)))\n",
    "    "
   ]
  },
  {
   "cell_type": "code",
   "execution_count": 13,
   "metadata": {},
   "outputs": [
    {
     "name": "stdout",
     "output_type": "stream",
     "text": [
      "idx = 1000\n",
      "idx = 2000\n",
      "idx = 3000\n",
      "idx = 4000\n",
      "idx = 5000\n",
      "idx = 6000\n",
      "idx = 7000\n",
      "idx = 8000\n",
      "idx = 9000\n",
      "CPU times: user 25.9 ms, sys: 5.85 ms, total: 31.8 ms\n",
      "Wall time: 29.6 ms\n"
     ]
    }
   ],
   "source": [
    "%%time \n",
    "\n",
    "# Create the embedding matrix (word_idx -> glove vector)\n",
    "idx2vec = np.zeros( (num_words, embedding_dim) )\n",
    "for idx in range(1, num_words):\n",
    "    if idx%1000 == 0:\n",
    "        print('idx = {}'.format(idx))\n",
    "        \n",
    "    word = idx2word[idx]\n",
    "    if word in embeddings_index:\n",
    "        idx2vec[idx] = embeddings_index[word]"
   ]
  },
  {
   "cell_type": "markdown",
   "metadata": {},
   "source": [
    "#### Neural network"
   ]
  },
  {
   "cell_type": "code",
   "execution_count": 14,
   "metadata": {},
   "outputs": [],
   "source": [
    "from keras.models import Sequential\n",
    "from keras.layers import Embedding, Flatten, Dense"
   ]
  },
  {
   "cell_type": "code",
   "execution_count": 15,
   "metadata": {},
   "outputs": [
    {
     "name": "stdout",
     "output_type": "stream",
     "text": [
      "_________________________________________________________________\n",
      "Layer (type)                 Output Shape              Param #   \n",
      "=================================================================\n",
      "embedding_1 (Embedding)      (None, 100, 100)          1000000   \n",
      "_________________________________________________________________\n",
      "flatten_1 (Flatten)          (None, 10000)             0         \n",
      "_________________________________________________________________\n",
      "dense_1 (Dense)              (None, 32)                320032    \n",
      "_________________________________________________________________\n",
      "dense_2 (Dense)              (None, 1)                 33        \n",
      "=================================================================\n",
      "Total params: 1,320,065\n",
      "Trainable params: 1,320,065\n",
      "Non-trainable params: 0\n",
      "_________________________________________________________________\n"
     ]
    }
   ],
   "source": [
    "model = Sequential()\n",
    "model.add( Embedding( num_words, embedding_dim, input_length=maxlen) )\n",
    "model.add( Flatten() )\n",
    "model.add( Dense(32, activation='relu') )\n",
    "model.add( Dense(1, activation='sigmoid') )\n",
    "model.summary()"
   ]
  },
  {
   "cell_type": "code",
   "execution_count": 16,
   "metadata": {},
   "outputs": [
    {
     "name": "stdout",
     "output_type": "stream",
     "text": [
      "_________________________________________________________________\n",
      "Layer (type)                 Output Shape              Param #   \n",
      "=================================================================\n",
      "embedding_1 (Embedding)      (None, 100, 100)          1000000   \n",
      "_________________________________________________________________\n",
      "flatten_1 (Flatten)          (None, 10000)             0         \n",
      "_________________________________________________________________\n",
      "dense_1 (Dense)              (None, 32)                320032    \n",
      "_________________________________________________________________\n",
      "dense_2 (Dense)              (None, 1)                 33        \n",
      "=================================================================\n",
      "Total params: 1,320,065\n",
      "Trainable params: 320,065\n",
      "Non-trainable params: 1,000,000\n",
      "_________________________________________________________________\n"
     ]
    }
   ],
   "source": [
    "# Load glove embeddings\n",
    "model.layers[0].set_weights([idx2vec])\n",
    "model.layers[0].trainable = False\n",
    "model.summary()"
   ]
  },
  {
   "cell_type": "code",
   "execution_count": 17,
   "metadata": {},
   "outputs": [
    {
     "name": "stdout",
     "output_type": "stream",
     "text": [
      "Train on 200 samples, validate on 10000 samples\n",
      "Epoch 1/10\n",
      "200/200 [==============================] - 1s 5ms/step - loss: 1.7531 - acc: 0.4650 - val_loss: 0.6918 - val_acc: 0.5239\n",
      "Epoch 2/10\n",
      "200/200 [==============================] - 1s 4ms/step - loss: 0.6405 - acc: 0.5900 - val_loss: 0.6963 - val_acc: 0.5105\n",
      "Epoch 3/10\n",
      "200/200 [==============================] - 1s 4ms/step - loss: 0.5838 - acc: 0.6950 - val_loss: 1.0273 - val_acc: 0.5000\n",
      "Epoch 4/10\n",
      "200/200 [==============================] - 1s 4ms/step - loss: 0.6008 - acc: 0.6350 - val_loss: 0.7634 - val_acc: 0.5000\n",
      "Epoch 5/10\n",
      "200/200 [==============================] - 1s 4ms/step - loss: 0.5065 - acc: 0.6500 - val_loss: 0.8137 - val_acc: 0.5009\n",
      "Epoch 6/10\n",
      "200/200 [==============================] - 1s 4ms/step - loss: 0.4344 - acc: 0.7200 - val_loss: 0.7698 - val_acc: 0.5008\n",
      "Epoch 7/10\n",
      "200/200 [==============================] - 1s 4ms/step - loss: 0.4369 - acc: 0.7350 - val_loss: 1.0320 - val_acc: 0.5002\n",
      "Epoch 8/10\n",
      "200/200 [==============================] - 1s 4ms/step - loss: 0.4917 - acc: 0.7450 - val_loss: 1.0901 - val_acc: 0.4999\n",
      "Epoch 9/10\n",
      "200/200 [==============================] - 1s 4ms/step - loss: 0.4169 - acc: 0.8250 - val_loss: 0.7292 - val_acc: 0.5095\n",
      "Epoch 10/10\n",
      "200/200 [==============================] - 1s 4ms/step - loss: 0.3654 - acc: 0.9100 - val_loss: 0.8795 - val_acc: 0.5024\n"
     ]
    }
   ],
   "source": [
    "# Train neural network\n",
    "model.compile( optimizer='rmsprop', loss='binary_crossentropy', metrics=['accuracy'])\n",
    "history = model.fit(x_train, y_train,\n",
    "          batch_size=32, epochs=10,\n",
    "          validation_data=(x_val, y_val))\n",
    "model.save_weights('models/pre_trained_glove_model.h5')"
   ]
  },
  {
   "cell_type": "markdown",
   "metadata": {},
   "source": [
    "#### Plots"
   ]
  },
  {
   "cell_type": "code",
   "execution_count": 18,
   "metadata": {},
   "outputs": [],
   "source": [
    "import matplotlib.pyplot as plt"
   ]
  },
  {
   "cell_type": "code",
   "execution_count": 19,
   "metadata": {},
   "outputs": [],
   "source": [
    "# Plot neural net fitting\n",
    "hist = history.history\n",
    "train_acc = hist['acc']\n",
    "train_loss = hist['loss']\n",
    "val_acc = hist['val_acc']\n",
    "val_loss = hist['val_loss']\n",
    "\n",
    "epochs = history.epoch"
   ]
  },
  {
   "cell_type": "code",
   "execution_count": 20,
   "metadata": {},
   "outputs": [
    {
     "data": {
      "image/png": "[encoded data removed]",
      "text/plain": [
       "<matplotlib.figure.Figure at 0x11c63d7f0>"
      ]
     },
     "metadata": {},
     "output_type": "display_data"
    }
   ],
   "source": [
    "plt.figure()\n",
    "plt.plot(epochs, train_acc, 'k.', label='Training accuracy')\n",
    "plt.plot(epochs, val_acc, 'r-', label='Validation accuracy')\n",
    "plt.title('Accuracy')\n",
    "plt.show()"
   ]
  },
  {
   "cell_type": "code",
   "execution_count": 21,
   "metadata": {},
   "outputs": [
    {
     "data": {
      "image/png": "[encoded data removed]",
      "text/plain": [
       "<matplotlib.figure.Figure at 0x11c772320>"
      ]
     },
     "metadata": {},
     "output_type": "display_data"
    }
   ],
   "source": [
    "plt.figure()\n",
    "plt.plot(epochs, train_loss, 'k.', label='Training loss')\n",
    "plt.plot(epochs, val_loss, 'r-', label='Validation loss')\n",
    "plt.title('Loss')\n",
    "plt.show()"
   ]
  }
 ],
 "metadata": {
  "kernelspec": {
   "display_name": "Python 3",
   "language": "python",
   "name": "python3"
  },
  "language_info": {
   "codemirror_mode": {
    "name": "ipython",
    "version": 3
   },
   "file_extension": ".py",
   "mimetype": "text/x-python",
   "name": "python",
   "nbconvert_exporter": "python",
   "pygments_lexer": "ipython3",
   "version": "3.6.1"
  }
 },
 "nbformat": 4,
 "nbformat_minor": 2
}
