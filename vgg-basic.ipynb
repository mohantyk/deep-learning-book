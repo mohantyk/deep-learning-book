{
 "cells": [
  {
   "cell_type": "code",
   "execution_count": 1,
   "metadata": {},
   "outputs": [],
   "source": [
    "%matplotlib inline"
   ]
  },
  {
   "cell_type": "code",
   "execution_count": 3,
   "metadata": {},
   "outputs": [],
   "source": [
    "import warnings\n",
    "warnings.simplefilter(action=\"ignore\", category=FutureWarning)"
   ]
  },
  {
   "cell_type": "code",
   "execution_count": 12,
   "metadata": {},
   "outputs": [],
   "source": [
    "import os"
   ]
  },
  {
   "cell_type": "code",
   "execution_count": 62,
   "metadata": {},
   "outputs": [],
   "source": [
    "from keras.applications import vgg16\n",
    "from keras import models, layers, optimizers\n",
    "import numpy as np"
   ]
  },
  {
   "cell_type": "code",
   "execution_count": 5,
   "metadata": {},
   "outputs": [
    {
     "name": "stdout",
     "output_type": "stream",
     "text": [
      "Downloading data from https://github.com/fchollet/deep-learning-models/releases/download/v0.1/vgg16_weights_tf_dim_ordering_tf_kernels_notop.h5\n",
      "58892288/58889256 [==============================] - 10s 0us/step\n",
      "_________________________________________________________________\n",
      "Layer (type)                 Output Shape              Param #   \n",
      "=================================================================\n",
      "input_1 (InputLayer)         (None, 150, 150, 3)       0         \n",
      "_________________________________________________________________\n",
      "block1_conv1 (Conv2D)        (None, 150, 150, 64)      1792      \n",
      "_________________________________________________________________\n",
      "block1_conv2 (Conv2D)        (None, 150, 150, 64)      36928     \n",
      "_________________________________________________________________\n",
      "block1_pool (MaxPooling2D)   (None, 75, 75, 64)        0         \n",
      "_________________________________________________________________\n",
      "block2_conv1 (Conv2D)        (None, 75, 75, 128)       73856     \n",
      "_________________________________________________________________\n",
      "block2_conv2 (Conv2D)        (None, 75, 75, 128)       147584    \n",
      "_________________________________________________________________\n",
      "block2_pool (MaxPooling2D)   (None, 37, 37, 128)       0         \n",
      "_________________________________________________________________\n",
      "block3_conv1 (Conv2D)        (None, 37, 37, 256)       295168    \n",
      "_________________________________________________________________\n",
      "block3_conv2 (Conv2D)        (None, 37, 37, 256)       590080    \n",
      "_________________________________________________________________\n",
      "block3_conv3 (Conv2D)        (None, 37, 37, 256)       590080    \n",
      "_________________________________________________________________\n",
      "block3_pool (MaxPooling2D)   (None, 18, 18, 256)       0         \n",
      "_________________________________________________________________\n",
      "block4_conv1 (Conv2D)        (None, 18, 18, 512)       1180160   \n",
      "_________________________________________________________________\n",
      "block4_conv2 (Conv2D)        (None, 18, 18, 512)       2359808   \n",
      "_________________________________________________________________\n",
      "block4_conv3 (Conv2D)        (None, 18, 18, 512)       2359808   \n",
      "_________________________________________________________________\n",
      "block4_pool (MaxPooling2D)   (None, 9, 9, 512)         0         \n",
      "_________________________________________________________________\n",
      "block5_conv1 (Conv2D)        (None, 9, 9, 512)         2359808   \n",
      "_________________________________________________________________\n",
      "block5_conv2 (Conv2D)        (None, 9, 9, 512)         2359808   \n",
      "_________________________________________________________________\n",
      "block5_conv3 (Conv2D)        (None, 9, 9, 512)         2359808   \n",
      "_________________________________________________________________\n",
      "block5_pool (MaxPooling2D)   (None, 4, 4, 512)         0         \n",
      "=================================================================\n",
      "Total params: 14,714,688\n",
      "Trainable params: 14,714,688\n",
      "Non-trainable params: 0\n",
      "_________________________________________________________________\n"
     ]
    }
   ],
   "source": [
    "vgg = vgg16.VGG16( include_top=False, weights='imagenet', input_shape=(150, 150, 3) )\n",
    "vgg.summary()"
   ]
  },
  {
   "cell_type": "markdown",
   "metadata": {
    "slideshow": {
     "slide_type": "-"
    }
   },
   "source": [
    "### Fast approach\n",
    "* No data augmentation\n",
    "* Run all images through convnet once to create features, and store features as numpy arrays\n",
    "* Create a dense network and train it on the saved arrays"
   ]
  },
  {
   "cell_type": "code",
   "execution_count": 7,
   "metadata": {},
   "outputs": [],
   "source": [
    "RUNNING_ON_FLOYDHUB = False"
   ]
  },
  {
   "cell_type": "code",
   "execution_count": 8,
   "metadata": {},
   "outputs": [],
   "source": [
    "# Directories\n",
    "# TODO: change for running with floydhub\n",
    "if not RUNNING_ON_FLOYDHUB:\n",
    "    train_dir = './data/dogs-vs-cats-small/train/'\n",
    "    test_dir = './data/dogs-vs-cats-small/test/'\n",
    "    validation_dir = './data/dogs-vs-cats-small/validation/'\n",
    "else:\n",
    "    pass"
   ]
  },
  {
   "cell_type": "code",
   "execution_count": 9,
   "metadata": {},
   "outputs": [],
   "source": [
    "from keras.preprocessing.image import ImageDataGenerator"
   ]
  },
  {
   "cell_type": "code",
   "execution_count": 10,
   "metadata": {},
   "outputs": [],
   "source": [
    "# Create image generators\n",
    "datagen = ImageDataGenerator(rescale=1./255)"
   ]
  },
  {
   "cell_type": "code",
   "execution_count": 11,
   "metadata": {},
   "outputs": [
    {
     "name": "stdout",
     "output_type": "stream",
     "text": [
      "Found 2000 images belonging to 2 classes.\n",
      "Found 1000 images belonging to 2 classes.\n"
     ]
    }
   ],
   "source": [
    "train_batches = datagen.flow_from_directory(train_dir,\n",
    "                                           target_size=(150, 150),\n",
    "                                           class_mode='binary',\n",
    "                                           batch_size=20)\n",
    "validation_batches = datagen.flow_from_directory(validation_dir,\n",
    "                                           target_size=(150, 150),\n",
    "                                           class_mode='binary',\n",
    "                                           batch_size=20)"
   ]
  },
  {
   "cell_type": "code",
   "execution_count": 15,
   "metadata": {},
   "outputs": [],
   "source": [
    "num_of_training_images = 2000\n",
    "num_of_validation_images = 1000"
   ]
  },
  {
   "cell_type": "code",
   "execution_count": 27,
   "metadata": {},
   "outputs": [],
   "source": [
    "import time"
   ]
  },
  {
   "cell_type": "code",
   "execution_count": 31,
   "metadata": {},
   "outputs": [
    {
     "name": "stdout",
     "output_type": "stream",
     "text": [
      "idx = 10. Took 10.76 seconds.\n",
      "idx = 20. Took 9.92 seconds.\n",
      "idx = 30. Took 9.19 seconds.\n",
      "idx = 40. Took 9.26 seconds.\n",
      "idx = 50. Took 10.01 seconds.\n",
      "idx = 60. Took 9.34 seconds.\n",
      "idx = 70. Took 9.75 seconds.\n",
      "idx = 80. Took 9.82 seconds.\n",
      "idx = 90. Took 9.60 seconds.\n",
      "idx = 100. Took 9.75 seconds.\n"
     ]
    }
   ],
   "source": [
    "# Create training features\n",
    "images_processed = 0\n",
    "idx = 0\n",
    "batch_size = 20\n",
    "training_features = np.zeros((num_of_training_images, 4*4*512)) # Each feature is the 4 * 4 * 512 output from vgg\n",
    "training_labels = np.zeros((num_of_training_images,))\n",
    "\n",
    "for input_batch, label_batch in train_batches:\n",
    "    start = time.time()\n",
    "    features = vgg.predict(input_batch)\n",
    "    features = features.reshape( (batch_size, 4*4*512) )\n",
    "    training_features[idx*batch_size:(idx+1)*batch_size,:] = features\n",
    "    training_labels[idx*batch_size:(idx+1)*batch_size] = label_batch\n",
    "    \n",
    "    idx += 1\n",
    "    if idx%10 == 0:\n",
    "        print('idx = {0}. Took {1:.2f} seconds.'.format(idx, time.time() - start))\n",
    "    images_processed += batch_size\n",
    "    if images_processed >= num_of_training_images:\n",
    "        break"
   ]
  },
  {
   "cell_type": "code",
   "execution_count": 42,
   "metadata": {},
   "outputs": [
    {
     "name": "stdout",
     "output_type": "stream",
     "text": [
      "idx = 10. Took 7.54 seconds.\n",
      "idx = 20. Took 7.12 seconds.\n",
      "idx = 30. Took 7.45 seconds.\n",
      "idx = 40. Took 7.45 seconds.\n",
      "idx = 50. Took 7.08 seconds.\n"
     ]
    }
   ],
   "source": [
    "# Create validation features\n",
    "images_processed = 0\n",
    "idx = 0\n",
    "batch_size = 20\n",
    "validation_features = np.zeros((num_of_validation_images, 4*4*512)) # Each feature is the 4 * 4 * 512 output from vgg\n",
    "validation_labels = np.zeros((num_of_validation_images,))\n",
    "\n",
    "for input_batch, label_batch in validation_batches:\n",
    "    start = time.time()\n",
    "    features = vgg.predict(input_batch)\n",
    "    features = features.reshape( (batch_size, 4*4*512) )\n",
    "    validation_features[idx*batch_size:(idx+1)*batch_size,:] = features\n",
    "    validation_labels[idx*batch_size:(idx+1)*batch_size] = label_batch\n",
    "    \n",
    "    idx += 1\n",
    "    if idx%10 == 0:\n",
    "        print('idx = {0}. Took {1:.2f} seconds.'.format(idx, time.time() - start))\n",
    "    images_processed += batch_size\n",
    "    if images_processed >= num_of_validation_images:\n",
    "        break"
   ]
  },
  {
   "cell_type": "code",
   "execution_count": 51,
   "metadata": {},
   "outputs": [],
   "source": [
    "import pickle"
   ]
  },
  {
   "cell_type": "code",
   "execution_count": 55,
   "metadata": {},
   "outputs": [],
   "source": [
    "# Save the features and labels to save time\n",
    "with open('vgg_generated_features.pckl', 'wb') as f:\n",
    "    pickle.dump( [training_features, training_labels, validation_features, validation_labels] , f)"
   ]
  },
  {
   "cell_type": "markdown",
   "metadata": {},
   "source": [
    "#### Dense Neural Net"
   ]
  },
  {
   "cell_type": "code",
   "execution_count": 61,
   "metadata": {},
   "outputs": [
    {
     "name": "stdout",
     "output_type": "stream",
     "text": [
      "_________________________________________________________________\n",
      "Layer (type)                 Output Shape              Param #   \n",
      "=================================================================\n",
      "dense_6 (Dense)              (None, 256)               2097408   \n",
      "_________________________________________________________________\n",
      "dropout_1 (Dropout)          (None, 256)               0         \n",
      "_________________________________________________________________\n",
      "dense_7 (Dense)              (None, 1)                 257       \n",
      "=================================================================\n",
      "Total params: 2,097,665\n",
      "Trainable params: 2,097,665\n",
      "Non-trainable params: 0\n",
      "_________________________________________________________________\n"
     ]
    }
   ],
   "source": [
    "model = models.Sequential()\n",
    "model.add( layers.Dense( 256, activation='relu', input_shape=(4*4*512,) ) )\n",
    "model.add( layers.Dropout(0.5) )\n",
    "model.add( layers.Dense( 1, activation='sigmoid' ) )\n",
    "model.summary()"
   ]
  },
  {
   "cell_type": "code",
   "execution_count": 63,
   "metadata": {},
   "outputs": [],
   "source": [
    "model.compile( optimizer=optimizers.RMSprop(lr=2e-5), loss='binary_crossentropy', metrics=['acc'] )"
   ]
  },
  {
   "cell_type": "code",
   "execution_count": 65,
   "metadata": {},
   "outputs": [
    {
     "name": "stdout",
     "output_type": "stream",
     "text": [
      "CPU times: user 3 µs, sys: 2 µs, total: 5 µs\n",
      "Wall time: 10 µs\n",
      "Train on 2000 samples, validate on 1000 samples\n",
      "Epoch 1/30\n",
      "2000/2000 [==============================] - 4s 2ms/step - loss: 0.5894 - acc: 0.6830 - val_loss: 0.4623 - val_acc: 0.8220\n",
      "Epoch 2/30\n",
      "2000/2000 [==============================] - 5s 2ms/step - loss: 0.4293 - acc: 0.8115 - val_loss: 0.3993 - val_acc: 0.8140\n",
      "Epoch 3/30\n",
      "2000/2000 [==============================] - 5s 3ms/step - loss: 0.3441 - acc: 0.8505 - val_loss: 0.3371 - val_acc: 0.8650\n",
      "Epoch 4/30\n",
      "2000/2000 [==============================] - 4s 2ms/step - loss: 0.3069 - acc: 0.8755 - val_loss: 0.3063 - val_acc: 0.8870\n",
      "Epoch 5/30\n",
      "2000/2000 [==============================] - 4s 2ms/step - loss: 0.2680 - acc: 0.8955 - val_loss: 0.2990 - val_acc: 0.8670\n",
      "Epoch 6/30\n",
      "2000/2000 [==============================] - 4s 2ms/step - loss: 0.2604 - acc: 0.8990 - val_loss: 0.2857 - val_acc: 0.8750\n",
      "Epoch 7/30\n",
      "2000/2000 [==============================] - 7s 4ms/step - loss: 0.2299 - acc: 0.9125 - val_loss: 0.2756 - val_acc: 0.8820\n",
      "Epoch 8/30\n",
      "2000/2000 [==============================] - 7s 3ms/step - loss: 0.2177 - acc: 0.9205 - val_loss: 0.2611 - val_acc: 0.8990\n",
      "Epoch 9/30\n",
      "2000/2000 [==============================] - 7s 3ms/step - loss: 0.1988 - acc: 0.9320 - val_loss: 0.2557 - val_acc: 0.8950\n",
      "Epoch 10/30\n",
      "2000/2000 [==============================] - 6s 3ms/step - loss: 0.1868 - acc: 0.9370 - val_loss: 0.2515 - val_acc: 0.8960\n",
      "Epoch 11/30\n",
      "2000/2000 [==============================] - 5s 3ms/step - loss: 0.1797 - acc: 0.9360 - val_loss: 0.2524 - val_acc: 0.8920\n",
      "Epoch 12/30\n",
      "2000/2000 [==============================] - 4s 2ms/step - loss: 0.1682 - acc: 0.9415 - val_loss: 0.2453 - val_acc: 0.8960\n",
      "Epoch 13/30\n",
      "2000/2000 [==============================] - 5s 2ms/step - loss: 0.1564 - acc: 0.9460 - val_loss: 0.2433 - val_acc: 0.8970\n",
      "Epoch 14/30\n",
      "2000/2000 [==============================] - 5s 3ms/step - loss: 0.1580 - acc: 0.9495 - val_loss: 0.2408 - val_acc: 0.8980\n",
      "Epoch 15/30\n",
      "2000/2000 [==============================] - 4s 2ms/step - loss: 0.1462 - acc: 0.9485 - val_loss: 0.2397 - val_acc: 0.8990\n",
      "Epoch 16/30\n",
      "2000/2000 [==============================] - 5s 2ms/step - loss: 0.1327 - acc: 0.9605 - val_loss: 0.2403 - val_acc: 0.8930\n",
      "Epoch 17/30\n",
      "2000/2000 [==============================] - 5s 3ms/step - loss: 0.1245 - acc: 0.9595 - val_loss: 0.2450 - val_acc: 0.8940\n",
      "Epoch 18/30\n",
      "2000/2000 [==============================] - 6s 3ms/step - loss: 0.1234 - acc: 0.9660 - val_loss: 0.2375 - val_acc: 0.8950\n",
      "Epoch 19/30\n",
      "2000/2000 [==============================] - 4s 2ms/step - loss: 0.1180 - acc: 0.9610 - val_loss: 0.2405 - val_acc: 0.8930\n",
      "Epoch 20/30\n",
      "2000/2000 [==============================] - 4s 2ms/step - loss: 0.1115 - acc: 0.9660 - val_loss: 0.2395 - val_acc: 0.8930\n",
      "Epoch 21/30\n",
      "2000/2000 [==============================] - 4s 2ms/step - loss: 0.1041 - acc: 0.9665 - val_loss: 0.2405 - val_acc: 0.8940\n",
      "Epoch 22/30\n",
      "2000/2000 [==============================] - 4s 2ms/step - loss: 0.1003 - acc: 0.9720 - val_loss: 0.2477 - val_acc: 0.8930\n",
      "Epoch 23/30\n",
      "2000/2000 [==============================] - 4s 2ms/step - loss: 0.0989 - acc: 0.9690 - val_loss: 0.2487 - val_acc: 0.8920\n",
      "Epoch 24/30\n",
      "2000/2000 [==============================] - 4s 2ms/step - loss: 0.0917 - acc: 0.9685 - val_loss: 0.2511 - val_acc: 0.8900\n",
      "Epoch 25/30\n",
      "2000/2000 [==============================] - 4s 2ms/step - loss: 0.0876 - acc: 0.9785 - val_loss: 0.2510 - val_acc: 0.8920\n",
      "Epoch 26/30\n",
      "2000/2000 [==============================] - 4s 2ms/step - loss: 0.0853 - acc: 0.9750 - val_loss: 0.2405 - val_acc: 0.8970\n",
      "Epoch 27/30\n",
      "2000/2000 [==============================] - 4s 2ms/step - loss: 0.0816 - acc: 0.9780 - val_loss: 0.2468 - val_acc: 0.8930\n",
      "Epoch 28/30\n",
      "2000/2000 [==============================] - 4s 2ms/step - loss: 0.0737 - acc: 0.9775 - val_loss: 0.2407 - val_acc: 0.8990\n",
      "Epoch 29/30\n",
      "2000/2000 [==============================] - 4s 2ms/step - loss: 0.0712 - acc: 0.9835 - val_loss: 0.2515 - val_acc: 0.8910\n",
      "Epoch 30/30\n",
      "2000/2000 [==============================] - 4s 2ms/step - loss: 0.0656 - acc: 0.9825 - val_loss: 0.2453 - val_acc: 0.8940\n"
     ]
    }
   ],
   "source": [
    "%%time\n",
    "\n",
    "history = model.fit(training_features, training_labels, batch_size=20, epochs=30, validation_data=(validation_features, validation_labels) )"
   ]
  },
  {
   "cell_type": "code",
   "execution_count": 66,
   "metadata": {},
   "outputs": [],
   "source": [
    "#### Plots"
   ]
  },
  {
   "cell_type": "code",
   "execution_count": 67,
   "metadata": {},
   "outputs": [],
   "source": [
    "import matplotlib.pyplot as plt"
   ]
  },
  {
   "cell_type": "code",
   "execution_count": 68,
   "metadata": {},
   "outputs": [],
   "source": [
    "val_loss = history.history['val_loss']\n",
    "val_acc = history.history['val_acc']\n",
    "\n",
    "train_loss = history.history['loss']\n",
    "train_acc = history.history['acc']\n",
    "\n",
    "epoch = history.epoch"
   ]
  },
  {
   "cell_type": "code",
   "execution_count": 69,
   "metadata": {},
   "outputs": [
    {
     "data": {
      "image/png": "[encoded data removed]",
      "text/plain": [
       "<matplotlib.figure.Figure at 0x10e8aaac8>"
      ]
     },
     "metadata": {},
     "output_type": "display_data"
    }
   ],
   "source": [
    "# Loss plots\n",
    "plt.figure()\n",
    "\n",
    "plt.plot(epoch, train_loss, 'bo', label='Training loss')\n",
    "plt.plot(epoch, val_loss, 'r-', label='Validation loss')\n",
    "plt.xlabel('Epoch')\n",
    "plt.ylabel('Loss')\n",
    "plt.title('Training and validation loss')\n",
    "plt.legend()\n",
    "plt.show()"
   ]
  },
  {
   "cell_type": "code",
   "execution_count": 70,
   "metadata": {},
   "outputs": [
    {
     "data": {
      "image/png": "[encoded data removed]",
      "text/plain": [
       "<matplotlib.figure.Figure at 0x122042860>"
      ]
     },
     "metadata": {},
     "output_type": "display_data"
    }
   ],
   "source": [
    "# Accuracy plots\n",
    "plt.figure()\n",
    "\n",
    "plt.plot( epoch, train_acc, 'bo', label='Training accuracy' )\n",
    "plt.plot( epoch, val_acc, 'r-', label='Validation accuracy' )\n",
    "plt.xlabel('Epoch')\n",
    "plt.ylabel('Loss')\n",
    "plt.title('Training and validation accuracy')\n",
    "plt.legend()\n",
    "plt.show()"
   ]
  }
 ],
 "metadata": {
  "kernelspec": {
   "display_name": "Python 3",
   "language": "python",
   "name": "python3"
  },
  "language_info": {
   "codemirror_mode": {
    "name": "ipython",
    "version": 3
   },
   "file_extension": ".py",
   "mimetype": "text/x-python",
   "name": "python",
   "nbconvert_exporter": "python",
   "pygments_lexer": "ipython3",
   "version": "3.6.1"
  }
 },
 "nbformat": 4,
 "nbformat_minor": 2
}
