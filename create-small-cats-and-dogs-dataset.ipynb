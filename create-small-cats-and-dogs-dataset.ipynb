{
 "cells": [
  {
   "cell_type": "code",
   "execution_count": 1,
   "metadata": {},
   "outputs": [],
   "source": [
    "import os, shutil"
   ]
  },
  {
   "cell_type": "code",
   "execution_count": 2,
   "metadata": {},
   "outputs": [],
   "source": [
    "original_train_dir = './data/train/'"
   ]
  },
  {
   "cell_type": "code",
   "execution_count": 3,
   "metadata": {},
   "outputs": [],
   "source": [
    "#Directory for small dataset\n",
    "base_dir = './data/dogs-vs-cats-small'\n",
    "os.makedirs(base_dir)"
   ]
  },
  {
   "cell_type": "code",
   "execution_count": 4,
   "metadata": {},
   "outputs": [],
   "source": [
    "#Create train dir\n",
    "train_dir = os.path.join(base_dir, 'train')\n",
    "os.makedirs(train_dir)"
   ]
  },
  {
   "cell_type": "code",
   "execution_count": 5,
   "metadata": {},
   "outputs": [],
   "source": [
    "#Create validation dir\n",
    "validation_dir = os.path.join(base_dir, 'validation')\n",
    "os.makedirs(validation_dir)"
   ]
  },
  {
   "cell_type": "code",
   "execution_count": 6,
   "metadata": {},
   "outputs": [],
   "source": [
    "#Create test dir\n",
    "test_dir = os.path.join(base_dir, 'test')\n",
    "os.makedirs(test_dir)"
   ]
  },
  {
   "cell_type": "code",
   "execution_count": 11,
   "metadata": {},
   "outputs": [],
   "source": [
    "#Create train/cats and train/dogs directories\n",
    "train_cats_dir = os.path.join(train_dir, 'cats')\n",
    "os.makedirs(train_cats_dir, exist_ok=True)\n",
    "train_dogs_dir = os.path.join(train_dir, 'dogs')\n",
    "os.makedirs(train_dogs_dir)"
   ]
  },
  {
   "cell_type": "code",
   "execution_count": 12,
   "metadata": {},
   "outputs": [],
   "source": [
    "#Create validation/cats and validation/dogs directories\n",
    "validation_cats_dir = os.path.join(validation_dir, 'cats')\n",
    "validation_dogs_dir = os.path.join(validation_dir, 'dogs')\n",
    "os.makedirs(validation_cats_dir)\n",
    "os.makedirs(validation_dogs_dir)"
   ]
  },
  {
   "cell_type": "code",
   "execution_count": 13,
   "metadata": {},
   "outputs": [],
   "source": [
    "#Create test/cats and test/dogs directories\n",
    "test_cats_dir = os.path.join(test_dir, 'cats')\n",
    "test_dogs_dir = os.path.join(test_dir, 'dogs')\n",
    "os.makedirs(test_cats_dir)\n",
    "os.makedirs(test_dogs_dir)"
   ]
  },
  {
   "cell_type": "code",
   "execution_count": 20,
   "metadata": {},
   "outputs": [],
   "source": [
    "#Move 1000 cat images to train/cats\n",
    "for img in ['cat.{0}.jpg'.format(i) for i in range(1000)]:\n",
    "    shutil.copy(os.path.join(original_train_dir,img), train_cats_dir)"
   ]
  },
  {
   "cell_type": "code",
   "execution_count": 21,
   "metadata": {},
   "outputs": [],
   "source": [
    "#Move 1000 dog images to train/dogs\n",
    "for img in ['dog.{0}.jpg'.format(i) for i in range(1000)]:\n",
    "    shutil.copy(os.path.join(original_train_dir,img), train_dogs_dir)"
   ]
  },
  {
   "cell_type": "code",
   "execution_count": 23,
   "metadata": {},
   "outputs": [],
   "source": [
    "#Move next 500 cat and dog images to validation/cats and validation/dogs\n",
    "for img in ['cat.{0}.jpg'.format(i) for i in range(1000, 1500)]:\n",
    "    shutil.copy(os.path.join(original_train_dir, img), validation_cats_dir)\n",
    "for img in ['dog.{0}.jpg'.format(i) for i in range(1000, 1500)]:\n",
    "    shutil.copy(os.path.join(original_train_dir, img), validation_dogs_dir)"
   ]
  },
  {
   "cell_type": "code",
   "execution_count": 24,
   "metadata": {},
   "outputs": [],
   "source": [
    "#Move next 500 cat and dog images to test/cats and test/dogs\n",
    "for img in ['cat.{0}.jpg'.format(i) for i in range(1500, 2000)]:\n",
    "    shutil.copy(os.path.join(original_train_dir, img), test_cats_dir)\n",
    "for img in ['dog.{0}.jpg'.format(i) for i in range(1500, 2000)]:\n",
    "    shutil.copy(os.path.join(original_train_dir, img), test_dogs_dir)"
   ]
  },
  {
   "cell_type": "code",
   "execution_count": 25,
   "metadata": {},
   "outputs": [
    {
     "name": "stdout",
     "output_type": "stream",
     "text": [
      "Files in train/cats: 1000\n",
      "Files in train/dogs: 1000\n",
      "Files in test/cats: 500\n",
      "Files in test/dogs: 500\n",
      "Files in validation/cats: 500\n",
      "Files in validation/dogs: 500\n"
     ]
    }
   ],
   "source": [
    "print('Files in train/cats: {}'.format( len(os.listdir(train_cats_dir)) ))\n",
    "print('Files in train/dogs: {}'.format( len(os.listdir(train_dogs_dir)) ))\n",
    "print('Files in test/cats: {}'.format( len(os.listdir(test_cats_dir)) ))\n",
    "print('Files in test/dogs: {}'.format( len(os.listdir(test_dogs_dir)) ))\n",
    "print('Files in validation/cats: {}'.format( len(os.listdir(validation_cats_dir)) ))\n",
    "print('Files in validation/dogs: {}'.format( len(os.listdir(validation_dogs_dir)) ))"
   ]
  }
 ],
 "metadata": {
  "kernelspec": {
   "display_name": "Python 3",
   "language": "python",
   "name": "python3"
  },
  "language_info": {
   "codemirror_mode": {
    "name": "ipython",
    "version": 3
   },
   "file_extension": ".py",
   "mimetype": "text/x-python",
   "name": "python",
   "nbconvert_exporter": "python",
   "pygments_lexer": "ipython3",
   "version": "3.6.1"
  }
 },
 "nbformat": 4,
 "nbformat_minor": 2
}
