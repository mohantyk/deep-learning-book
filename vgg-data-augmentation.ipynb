{
 "cells": [
  {
   "cell_type": "code",
   "execution_count": 1,
   "metadata": {},
   "outputs": [],
   "source": [
    "%matplotlib inline"
   ]
  },
  {
   "cell_type": "code",
   "execution_count": 2,
   "metadata": {},
   "outputs": [],
   "source": [
    "import warnings\n",
    "warnings.simplefilter(action='ignore', category=FutureWarning)"
   ]
  },
  {
   "cell_type": "code",
   "execution_count": 3,
   "metadata": {},
   "outputs": [
    {
     "name": "stderr",
     "output_type": "stream",
     "text": [
      "Using TensorFlow backend.\n"
     ]
    }
   ],
   "source": [
    "from keras.preprocessing.image import ImageDataGenerator\n",
    "from keras.applications.vgg16 import VGG16\n",
    "from keras import models, layers, optimizers\n",
    "import numpy as np\n",
    "import matplotlib.pyplot as plt\n",
    "import os"
   ]
  },
  {
   "cell_type": "code",
   "execution_count": 4,
   "metadata": {},
   "outputs": [],
   "source": [
    "# Execution flags\n",
    "RUNNING_ON_FLOYDHUB = True\n",
    "epochs = 30"
   ]
  },
  {
   "cell_type": "code",
   "execution_count": 5,
   "metadata": {},
   "outputs": [],
   "source": [
    "if not RUNNING_ON_FLOYDHUB:\n",
    "    train_dir = 'data/dogs-vs-cats-small/train/'\n",
    "    test_dir = 'data/dogs-vs-cats-small/test/'\n",
    "    validation_dir = 'data/dogs-vs-cats-small/validation/'\n",
    "    output_dir = './'\n",
    "else:\n",
    "    # Make sure the mount point is /data\n",
    "    train_dir = '/data/dogs-vs-cats-small/train/'\n",
    "    test_dir = '/data/dogs-vs-cats-small/test/'\n",
    "    validation_dir = '/data/dogs-vs-cats-small/validation/'\n",
    "    output_dir = '/output/'\n",
    "save_path = os.path.join(output_dir, 'cats_vs_dogs_vgg_data_augmentation.h5')"
   ]
  },
  {
   "cell_type": "code",
   "execution_count": 6,
   "metadata": {},
   "outputs": [],
   "source": [
    "# Create augmented data generator\n",
    "train_datagen = ImageDataGenerator(rotation_range=40,\n",
    "                                  width_shift_range=0.2,\n",
    "                                  height_shift_range=0.2,\n",
    "                                  shear_range=0.2,\n",
    "                                  zoom_range=0.2,\n",
    "                                  fill_mode='nearest',\n",
    "                                  horizontal_flip=True,\n",
    "                                  rescale=1./255)\n",
    "test_datagen = ImageDataGenerator(rescale=1./255) # Test data should not be augmented"
   ]
  },
  {
   "cell_type": "code",
   "execution_count": 7,
   "metadata": {},
   "outputs": [
    {
     "name": "stdout",
     "output_type": "stream",
     "text": [
      "Found 2000 images belonging to 2 classes.\n",
      "Found 1000 images belonging to 2 classes.\n"
     ]
    }
   ],
   "source": [
    "train_batches = train_datagen.flow_from_directory(train_dir, target_size=(150, 150), class_mode='binary', batch_size=20)\n",
    "validation_batches = test_datagen.flow_from_directory(validation_dir, target_size=(150, 150), class_mode='binary', batch_size=20)"
   ]
  },
  {
   "cell_type": "code",
   "execution_count": 8,
   "metadata": {},
   "outputs": [],
   "source": [
    "num_of_training_examples = 2000\n",
    "num_of_validation_examples = 1000"
   ]
  },
  {
   "cell_type": "markdown",
   "metadata": {},
   "source": [
    "### Model"
   ]
  },
  {
   "cell_type": "code",
   "execution_count": 9,
   "metadata": {},
   "outputs": [
    {
     "name": "stdout",
     "output_type": "stream",
     "text": [
      "Downloading data from https://github.com/fchollet/deep-learning-models/releases/download/v0.1/vgg16_weights_tf_dim_ordering_tf_kernels_notop.h5\n",
      "57319424/58889256 [============================>.] - ETA: 0s_________________________________________________________________\n",
      "Layer (type)                 Output Shape              Param #   \n",
      "=================================================================\n",
      "input_1 (InputLayer)         (None, 150, 150, 3)       0         \n",
      "_________________________________________________________________\n",
      "block1_conv1 (Conv2D)        (None, 150, 150, 64)      1792      \n",
      "_________________________________________________________________\n",
      "block1_conv2 (Conv2D)        (None, 150, 150, 64)      36928     \n",
      "_________________________________________________________________\n",
      "block1_pool (MaxPooling2D)   (None, 75, 75, 64)        0         \n",
      "_________________________________________________________________\n",
      "block2_conv1 (Conv2D)        (None, 75, 75, 128)       73856     \n",
      "_________________________________________________________________\n",
      "block2_conv2 (Conv2D)        (None, 75, 75, 128)       147584    \n",
      "_________________________________________________________________\n",
      "block2_pool (MaxPooling2D)   (None, 37, 37, 128)       0         \n",
      "_________________________________________________________________\n",
      "block3_conv1 (Conv2D)        (None, 37, 37, 256)       295168    \n",
      "_________________________________________________________________\n",
      "block3_conv2 (Conv2D)        (None, 37, 37, 256)       590080    \n",
      "_________________________________________________________________\n",
      "block3_conv3 (Conv2D)        (None, 37, 37, 256)       590080    \n",
      "_________________________________________________________________\n",
      "block3_pool (MaxPooling2D)   (None, 18, 18, 256)       0         \n",
      "_________________________________________________________________\n",
      "block4_conv1 (Conv2D)        (None, 18, 18, 512)       1180160   \n",
      "_________________________________________________________________\n",
      "block4_conv2 (Conv2D)        (None, 18, 18, 512)       2359808   \n",
      "_________________________________________________________________\n",
      "block4_conv3 (Conv2D)        (None, 18, 18, 512)       2359808   \n",
      "_________________________________________________________________\n",
      "block4_pool (MaxPooling2D)   (None, 9, 9, 512)         0         \n",
      "_________________________________________________________________\n",
      "block5_conv1 (Conv2D)        (None, 9, 9, 512)         2359808   \n",
      "_________________________________________________________________\n",
      "block5_conv2 (Conv2D)        (None, 9, 9, 512)         2359808   \n",
      "_________________________________________________________________\n",
      "block5_conv3 (Conv2D)        (None, 9, 9, 512)         2359808   \n",
      "_________________________________________________________________\n",
      "block5_pool (MaxPooling2D)   (None, 4, 4, 512)         0         \n",
      "=================================================================\n",
      "Total params: 14,714,688\n",
      "Trainable params: 14,714,688\n",
      "Non-trainable params: 0\n",
      "_________________________________________________________________\n"
     ]
    }
   ],
   "source": [
    "#Convolutional base\n",
    "conv_base = VGG16(include_top=False, weights='imagenet', input_shape=(150, 150, 3))\n",
    "conv_base.summary()"
   ]
  },
  {
   "cell_type": "code",
   "execution_count": 10,
   "metadata": {},
   "outputs": [],
   "source": [
    "model = models.Sequential()\n",
    "model.add( conv_base )\n",
    "model.add( layers.Flatten() )\n",
    "model.add( layers.Dense(256, activation='relu') )\n",
    "model.add( layers.Dense(1, activation='sigmoid') )"
   ]
  },
  {
   "cell_type": "code",
   "execution_count": 11,
   "metadata": {},
   "outputs": [
    {
     "name": "stdout",
     "output_type": "stream",
     "text": [
      "Num of trainable weights before freezing convolutional base = 30\n",
      "Num of trainable weights after freezing convolutional base = 4\n"
     ]
    }
   ],
   "source": [
    "# Freeze convolutional base\n",
    "print('Num of trainable weights before freezing convolutional base = {}'.format( len(model.trainable_weights) ))\n",
    "conv_base.trainable = False\n",
    "print('Num of trainable weights after freezing convolutional base = {}'.format( len(model.trainable_weights) ))"
   ]
  },
  {
   "cell_type": "code",
   "execution_count": 12,
   "metadata": {},
   "outputs": [],
   "source": [
    "model.compile( optimizer=optimizers.RMSprop(lr=2e-5), loss='binary_crossentropy', metrics=['acc'])"
   ]
  },
  {
   "cell_type": "code",
   "execution_count": 13,
   "metadata": {},
   "outputs": [
    {
     "name": "stdout",
     "output_type": "stream",
     "text": [
      "Epoch 1/30\n",
      "100/100 [==============================] - 72s - loss: 0.4502 - acc: 0.7855 - val_loss: 0.1836 - val_acc: 0.9290\n",
      "Epoch 2/30\n",
      "100/100 [==============================] - 68s - loss: 0.2741 - acc: 0.8935 - val_loss: 0.1376 - val_acc: 0.9390\n",
      "Epoch 3/30\n",
      "100/100 [==============================] - 68s - loss: 0.2248 - acc: 0.9040 - val_loss: 0.1059 - val_acc: 0.9560\n",
      "Epoch 4/30\n",
      "100/100 [==============================] - 68s - loss: 0.1718 - acc: 0.9300 - val_loss: 0.1718 - val_acc: 0.9370\n",
      "Epoch 5/30\n",
      "100/100 [==============================] - 68s - loss: 0.1523 - acc: 0.9425 - val_loss: 0.0984 - val_acc: 0.9550\n",
      "Epoch 6/30\n",
      "100/100 [==============================] - 68s - loss: 0.1457 - acc: 0.9435 - val_loss: 0.0786 - val_acc: 0.9730\n",
      "Epoch 7/30\n",
      "100/100 [==============================] - 68s - loss: 0.1274 - acc: 0.9490 - val_loss: 0.0976 - val_acc: 0.9500\n",
      "Epoch 8/30\n",
      "100/100 [==============================] - 68s - loss: 0.1159 - acc: 0.9605 - val_loss: 0.0905 - val_acc: 0.9620\n",
      "Epoch 9/30\n",
      "100/100 [==============================] - 68s - loss: 0.1041 - acc: 0.9655 - val_loss: 0.0662 - val_acc: 0.9750\n",
      "Epoch 10/30\n",
      "100/100 [==============================] - 68s - loss: 0.1042 - acc: 0.9600 - val_loss: 0.0882 - val_acc: 0.9610\n",
      "Epoch 11/30\n",
      "100/100 [==============================] - 68s - loss: 0.0870 - acc: 0.9645 - val_loss: 0.0956 - val_acc: 0.9590\n",
      "Epoch 12/30\n",
      "100/100 [==============================] - 68s - loss: 0.0969 - acc: 0.9680 - val_loss: 0.0742 - val_acc: 0.9690\n",
      "Epoch 13/30\n",
      "100/100 [==============================] - 68s - loss: 0.0702 - acc: 0.9765 - val_loss: 0.1414 - val_acc: 0.9540\n",
      "Epoch 14/30\n",
      "100/100 [==============================] - 67s - loss: 0.0692 - acc: 0.9760 - val_loss: 0.2989 - val_acc: 0.8990\n",
      "Epoch 15/30\n",
      "100/100 [==============================] - 67s - loss: 0.0641 - acc: 0.9785 - val_loss: 0.1047 - val_acc: 0.9690\n",
      "Epoch 16/30\n",
      "100/100 [==============================] - 67s - loss: 0.0733 - acc: 0.9730 - val_loss: 0.1679 - val_acc: 0.9520\n",
      "Epoch 17/30\n",
      "100/100 [==============================] - 67s - loss: 0.0552 - acc: 0.9815 - val_loss: 0.1322 - val_acc: 0.9500\n",
      "Epoch 18/30\n",
      "100/100 [==============================] - 67s - loss: 0.0665 - acc: 0.9740 - val_loss: 0.0808 - val_acc: 0.9710\n",
      "Epoch 19/30\n",
      "100/100 [==============================] - 67s - loss: 0.0591 - acc: 0.9770 - val_loss: 0.1174 - val_acc: 0.9720\n",
      "Epoch 20/30\n",
      "100/100 [==============================] - 67s - loss: 0.0620 - acc: 0.9810 - val_loss: 0.1307 - val_acc: 0.9620\n",
      "Epoch 21/30\n",
      "100/100 [==============================] - 67s - loss: 0.0561 - acc: 0.9835 - val_loss: 0.0967 - val_acc: 0.9690\n",
      "Epoch 22/30\n",
      "100/100 [==============================] - 67s - loss: 0.0518 - acc: 0.9835 - val_loss: 0.1088 - val_acc: 0.9700\n",
      "Epoch 23/30\n",
      "100/100 [==============================] - 67s - loss: 0.0610 - acc: 0.9835 - val_loss: 0.1370 - val_acc: 0.9550\n",
      "Epoch 24/30\n",
      "100/100 [==============================] - 67s - loss: 0.0465 - acc: 0.9835 - val_loss: 0.1661 - val_acc: 0.9630\n",
      "Epoch 25/30\n",
      "100/100 [==============================] - 67s - loss: 0.0428 - acc: 0.9865 - val_loss: 0.1591 - val_acc: 0.9640\n",
      "Epoch 26/30\n",
      "100/100 [==============================] - 67s - loss: 0.0433 - acc: 0.9845 - val_loss: 0.0836 - val_acc: 0.9760\n",
      "Epoch 27/30\n",
      "100/100 [==============================] - 67s - loss: 0.0564 - acc: 0.9820 - val_loss: 0.0869 - val_acc: 0.9700\n",
      "Epoch 28/30\n",
      "100/100 [==============================] - 67s - loss: 0.0381 - acc: 0.9880 - val_loss: 0.0981 - val_acc: 0.9680\n",
      "Epoch 29/30\n",
      "100/100 [==============================] - 67s - loss: 0.0453 - acc: 0.9865 - val_loss: 0.1533 - val_acc: 0.9660\n",
      "Epoch 30/30\n",
      "100/100 [==============================] - 67s - loss: 0.0365 - acc: 0.9895 - val_loss: 0.1617 - val_acc: 0.9630\n"
     ]
    }
   ],
   "source": [
    "history = model.fit_generator( train_batches, steps_per_epoch=100, epochs=epochs, validation_data=validation_batches, validation_steps=50)"
   ]
  },
  {
   "cell_type": "code",
   "execution_count": 14,
   "metadata": {},
   "outputs": [],
   "source": [
    "model.save(save_path)"
   ]
  },
  {
   "cell_type": "markdown",
   "metadata": {},
   "source": [
    "### Plots"
   ]
  },
  {
   "cell_type": "code",
   "execution_count": 15,
   "metadata": {},
   "outputs": [],
   "source": [
    "val_loss = history.history['val_loss']\n",
    "val_acc = history.history['val_acc']\n",
    "\n",
    "train_loss = history.history['loss']\n",
    "train_acc = history.history['acc']\n",
    "\n",
    "epoch = history.epoch"
   ]
  },
  {
   "cell_type": "code",
   "execution_count": 16,
   "metadata": {},
   "outputs": [
    {
     "data": {
      "image/png": "[encoded data removed]",
      "text/plain": [
       "<matplotlib.figure.Figure at 0x7f582dce1b38>"
      ]
     },
     "metadata": {},
     "output_type": "display_data"
    }
   ],
   "source": [
    "# Loss plots\n",
    "plt.figure()\n",
    "\n",
    "plt.plot(epoch, train_loss, 'bo', label='Training loss')\n",
    "plt.plot(epoch, val_loss, 'r-', label='Validation loss')\n",
    "plt.xlabel('Epoch')\n",
    "plt.ylabel('Loss')\n",
    "plt.title('Training and validation loss')\n",
    "plt.legend()\n",
    "plt.show()"
   ]
  },
  {
   "cell_type": "code",
   "execution_count": 17,
   "metadata": {},
   "outputs": [
    {
     "data": {
      "image/png": "[encoded data removed]",
      "text/plain": [
       "<matplotlib.figure.Figure at 0x7f582dce1940>"
      ]
     },
     "metadata": {},
     "output_type": "display_data"
    }
   ],
   "source": [
    "# Accuracy plots\n",
    "plt.figure()\n",
    "\n",
    "plt.plot( epoch, train_acc, 'bo', label='Training accuracy' )\n",
    "plt.plot( epoch, val_acc, 'r-', label='Validation accuracy' )\n",
    "plt.xlabel('Epoch')\n",
    "plt.ylabel('Loss')\n",
    "plt.title('Training and validation accuracy')\n",
    "plt.legend()\n",
    "plt.show()"
   ]
  }
 ],
 "metadata": {
  "kernelspec": {
   "display_name": "Python 3",
   "language": "python",
   "name": "python3"
  },
  "language_info": {
   "codemirror_mode": {
    "name": "ipython",
    "version": 3
   },
   "file_extension": ".py",
   "mimetype": "text/x-python",
   "name": "python",
   "nbconvert_exporter": "python",
   "pygments_lexer": "ipython3",
   "version": "3.6.2"
  }
 },
 "nbformat": 4,
 "nbformat_minor": 2
}
