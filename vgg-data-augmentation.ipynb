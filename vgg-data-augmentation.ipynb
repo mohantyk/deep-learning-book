{
 "cells": [
  {
   "cell_type": "code",
   "execution_count": 1,
   "metadata": {},
   "outputs": [],
   "source": [
    "%matplotlib inline"
   ]
  },
  {
   "cell_type": "code",
   "execution_count": 2,
   "metadata": {},
   "outputs": [],
   "source": [
    "import warnings\n",
    "warnings.simplefilter(action='ignore', category=FutureWarning)"
   ]
  },
  {
   "cell_type": "code",
   "execution_count": 4,
   "metadata": {},
   "outputs": [
    {
     "name": "stderr",
     "output_type": "stream",
     "text": [
      "/Users/kaniska/anaconda/lib/python3.6/site-packages/h5py/__init__.py:34: FutureWarning: Conversion of the second argument of issubdtype from `float` to `np.floating` is deprecated. In future, it will be treated as `np.float64 == np.dtype(float).type`.\n",
      "  from ._conv import register_converters as _register_converters\n",
      "Using TensorFlow backend.\n"
     ]
    }
   ],
   "source": [
    "from keras.preprocessing.image import ImageDataGenerator\n",
    "from keras.applications.vgg16 import VGG16\n",
    "from keras import models, layers, optimizers\n",
    "import numpy as np\n",
    "import matplotlib.pyplot as plt\n",
    "import os"
   ]
  },
  {
   "cell_type": "code",
   "execution_count": 5,
   "metadata": {},
   "outputs": [],
   "source": [
    "# Execution flags\n",
    "RUNNING_ON_FLOYDHUB = False\n",
    "epochs = 30"
   ]
  },
  {
   "cell_type": "code",
   "execution_count": 6,
   "metadata": {},
   "outputs": [],
   "source": [
    "if not RUNNING_ON_FLOYDHUB:\n",
    "    train_dir = 'data/dogs-vs-cats-small/train/'\n",
    "    test_dir = 'data/dogs-vs-cats-small/test/'\n",
    "    validation_dir = 'data/dogs-vs-cats-small/validation/'\n",
    "    output_dir = './'\n",
    "else:\n",
    "    # Make sure the mount point is /data\n",
    "    train_dir = '/data/dogs-vs-cats-small/train/'\n",
    "    test_dir = '/data/dogs-vs-cats-small/test/'\n",
    "    validation_dir = '/data/dogs-vs-cats-small/validation/'\n",
    "    output_dir = '/output/'\n",
    "save_path = os.path.join(output_dir, 'cats_vs_dogs_vgg_data_augmentation.h5')"
   ]
  },
  {
   "cell_type": "code",
   "execution_count": 6,
   "metadata": {},
   "outputs": [],
   "source": [
    "# Create augmented data generator\n",
    "train_datagen = ImageDataGenerator(rotation_range=40,\n",
    "                                  width_shift_range=0.2,\n",
    "                                  height_shift_range=0.2,\n",
    "                                  shear_range=0.2,\n",
    "                                  zoom_range=0.2,\n",
    "                                  fill_mode='nearest',\n",
    "                                  horizontal_flip=True,\n",
    "                                  rescale=1./255)\n",
    "test_datagen = ImageDataGenerator(rescale=1./255) # Test data should not be augmented"
   ]
  },
  {
   "cell_type": "code",
   "execution_count": 7,
   "metadata": {},
   "outputs": [
    {
     "name": "stdout",
     "output_type": "stream",
     "text": [
      "Found 2000 images belonging to 2 classes.\n",
      "Found 1000 images belonging to 2 classes.\n"
     ]
    }
   ],
   "source": [
    "train_batches = train_datagen.flow_from_directory(train_dir, target_size=(150, 150), class_mode='binary', batch_size=20)\n",
    "validation_batches = test_datagen.flow_from_directory(validation_dir, target_size=(150, 150), class_mode='binary', batch_size=20)"
   ]
  },
  {
   "cell_type": "code",
   "execution_count": 8,
   "metadata": {},
   "outputs": [],
   "source": [
    "num_of_training_examples = 2000\n",
    "num_of_validation_examples = 1000"
   ]
  },
  {
   "cell_type": "markdown",
   "metadata": {},
   "source": [
    "### Model"
   ]
  },
  {
   "cell_type": "code",
   "execution_count": 9,
   "metadata": {},
   "outputs": [
    {
     "name": "stdout",
     "output_type": "stream",
     "text": [
      "_________________________________________________________________\n",
      "Layer (type)                 Output Shape              Param #   \n",
      "=================================================================\n",
      "input_1 (InputLayer)         (None, 150, 150, 3)       0         \n",
      "_________________________________________________________________\n",
      "block1_conv1 (Conv2D)        (None, 150, 150, 64)      1792      \n",
      "_________________________________________________________________\n",
      "block1_conv2 (Conv2D)        (None, 150, 150, 64)      36928     \n",
      "_________________________________________________________________\n",
      "block1_pool (MaxPooling2D)   (None, 75, 75, 64)        0         \n",
      "_________________________________________________________________\n",
      "block2_conv1 (Conv2D)        (None, 75, 75, 128)       73856     \n",
      "_________________________________________________________________\n",
      "block2_conv2 (Conv2D)        (None, 75, 75, 128)       147584    \n",
      "_________________________________________________________________\n",
      "block2_pool (MaxPooling2D)   (None, 37, 37, 128)       0         \n",
      "_________________________________________________________________\n",
      "block3_conv1 (Conv2D)        (None, 37, 37, 256)       295168    \n",
      "_________________________________________________________________\n",
      "block3_conv2 (Conv2D)        (None, 37, 37, 256)       590080    \n",
      "_________________________________________________________________\n",
      "block3_conv3 (Conv2D)        (None, 37, 37, 256)       590080    \n",
      "_________________________________________________________________\n",
      "block3_pool (MaxPooling2D)   (None, 18, 18, 256)       0         \n",
      "_________________________________________________________________\n",
      "block4_conv1 (Conv2D)        (None, 18, 18, 512)       1180160   \n",
      "_________________________________________________________________\n",
      "block4_conv2 (Conv2D)        (None, 18, 18, 512)       2359808   \n",
      "_________________________________________________________________\n",
      "block4_conv3 (Conv2D)        (None, 18, 18, 512)       2359808   \n",
      "_________________________________________________________________\n",
      "block4_pool (MaxPooling2D)   (None, 9, 9, 512)         0         \n",
      "_________________________________________________________________\n",
      "block5_conv1 (Conv2D)        (None, 9, 9, 512)         2359808   \n",
      "_________________________________________________________________\n",
      "block5_conv2 (Conv2D)        (None, 9, 9, 512)         2359808   \n",
      "_________________________________________________________________\n",
      "block5_conv3 (Conv2D)        (None, 9, 9, 512)         2359808   \n",
      "_________________________________________________________________\n",
      "block5_pool (MaxPooling2D)   (None, 4, 4, 512)         0         \n",
      "=================================================================\n",
      "Total params: 14,714,688\n",
      "Trainable params: 14,714,688\n",
      "Non-trainable params: 0\n",
      "_________________________________________________________________\n"
     ]
    }
   ],
   "source": [
    "#Convolutional base\n",
    "conv_base = VGG16(include_top=False, weights='imagenet', input_shape=(150, 150, 3))\n",
    "conv_base.summary()"
   ]
  },
  {
   "cell_type": "code",
   "execution_count": 10,
   "metadata": {},
   "outputs": [],
   "source": [
    "model = models.Sequential()\n",
    "model.add( conv_base )\n",
    "model.add( layers.Flatten() )\n",
    "model.add( layers.Dense(256, activation='relu') )\n",
    "model.add( layers.Dense(1, activation='sigmoid') )"
   ]
  },
  {
   "cell_type": "code",
   "execution_count": 11,
   "metadata": {},
   "outputs": [
    {
     "name": "stdout",
     "output_type": "stream",
     "text": [
      "Num of trainable weights before freezing convolutional base = 30\n",
      "Num of trainable weights after freezing convolutional base = 4\n"
     ]
    }
   ],
   "source": [
    "# Freeze convolutional base\n",
    "print('Num of trainable weights before freezing convolutional base = {}'.format( len(model.trainable_weights) ))\n",
    "conv_base.trainable = False\n",
    "print('Num of trainable weights after freezing convolutional base = {}'.format( len(model.trainable_weights) ))"
   ]
  },
  {
   "cell_type": "code",
   "execution_count": 12,
   "metadata": {},
   "outputs": [],
   "source": [
    "model.compile( optimizer=optimizers.RMSprop(lr=2e-5), loss='binary_crossentropy', metrics=['acc'])"
   ]
  },
  {
   "cell_type": "code",
   "execution_count": 13,
   "metadata": {},
   "outputs": [
    {
     "name": "stdout",
     "output_type": "stream",
     "text": [
      "Epoch 1/30\n",
      "100/100 [==============================] - 1322s 13s/step - loss: 0.5859 - acc: 0.6980 - val_loss: 0.5051 - val_acc: 0.7240\n",
      "Epoch 2/30\n",
      "100/100 [==============================] - 1257s 13s/step - loss: 0.4849 - acc: 0.7800 - val_loss: 0.3699 - val_acc: 0.8580\n",
      "Epoch 3/30\n",
      "100/100 [==============================] - 1096s 11s/step - loss: 0.4376 - acc: 0.8040 - val_loss: 0.3287 - val_acc: 0.8780\n",
      "Epoch 4/30\n",
      "100/100 [==============================] - 1094s 11s/step - loss: 0.4065 - acc: 0.8205 - val_loss: 0.3084 - val_acc: 0.8860\n",
      "Epoch 5/30\n",
      "100/100 [==============================] - 1094s 11s/step - loss: 0.3858 - acc: 0.8325 - val_loss: 0.2894 - val_acc: 0.8820\n",
      "Epoch 6/30\n",
      "100/100 [==============================] - 1097s 11s/step - loss: 0.3743 - acc: 0.8365 - val_loss: 0.2776 - val_acc: 0.8920\n",
      "Epoch 7/30\n",
      "100/100 [==============================] - 1094s 11s/step - loss: 0.3824 - acc: 0.8375 - val_loss: 0.2703 - val_acc: 0.8890\n",
      "Epoch 8/30\n",
      "100/100 [==============================] - 1094s 11s/step - loss: 0.3669 - acc: 0.8330 - val_loss: 0.2716 - val_acc: 0.8900\n",
      "Epoch 9/30\n",
      "100/100 [==============================] - 1097s 11s/step - loss: 0.3504 - acc: 0.8430 - val_loss: 0.2755 - val_acc: 0.8900\n",
      "Epoch 10/30\n",
      "100/100 [==============================] - 1096s 11s/step - loss: 0.3546 - acc: 0.8475 - val_loss: 0.2552 - val_acc: 0.9020\n",
      "Epoch 11/30\n",
      "100/100 [==============================] - 1095s 11s/step - loss: 0.3521 - acc: 0.8395 - val_loss: 0.2562 - val_acc: 0.8970\n",
      "Epoch 12/30\n",
      "100/100 [==============================] - 1096s 11s/step - loss: 0.3535 - acc: 0.8410 - val_loss: 0.2534 - val_acc: 0.9010\n",
      "Epoch 13/30\n",
      "100/100 [==============================] - 1097s 11s/step - loss: 0.3370 - acc: 0.8525 - val_loss: 0.2731 - val_acc: 0.8830\n",
      "Epoch 14/30\n",
      "100/100 [==============================] - 1095s 11s/step - loss: 0.3237 - acc: 0.8615 - val_loss: 0.2493 - val_acc: 0.8990\n",
      "Epoch 15/30\n",
      "100/100 [==============================] - 1096s 11s/step - loss: 0.3239 - acc: 0.8625 - val_loss: 0.2481 - val_acc: 0.8970\n",
      "Epoch 16/30\n",
      "100/100 [==============================] - 1099s 11s/step - loss: 0.3197 - acc: 0.8585 - val_loss: 0.2523 - val_acc: 0.8990\n",
      "Epoch 17/30\n",
      "100/100 [==============================] - 1096s 11s/step - loss: 0.3239 - acc: 0.8600 - val_loss: 0.2464 - val_acc: 0.9050\n",
      "Epoch 18/30\n",
      "100/100 [==============================] - 1098s 11s/step - loss: 0.3200 - acc: 0.8600 - val_loss: 0.2436 - val_acc: 0.9050\n",
      "Epoch 19/30\n",
      "100/100 [==============================] - 1098s 11s/step - loss: 0.3147 - acc: 0.8690 - val_loss: 0.2440 - val_acc: 0.9040\n",
      "Epoch 20/30\n",
      "100/100 [==============================] - 1097s 11s/step - loss: 0.3146 - acc: 0.8555 - val_loss: 0.2433 - val_acc: 0.9010\n",
      "Epoch 21/30\n",
      "100/100 [==============================] - 1096s 11s/step - loss: 0.3100 - acc: 0.8680 - val_loss: 0.2410 - val_acc: 0.9050\n",
      "Epoch 22/30\n",
      "100/100 [==============================] - 1098s 11s/step - loss: 0.3121 - acc: 0.8570 - val_loss: 0.2424 - val_acc: 0.9070\n",
      "Epoch 23/30\n",
      "100/100 [==============================] - 1096s 11s/step - loss: 0.3060 - acc: 0.8740 - val_loss: 0.2560 - val_acc: 0.9000\n",
      "Epoch 24/30\n",
      "100/100 [==============================] - 1096s 11s/step - loss: 0.2882 - acc: 0.8740 - val_loss: 0.2381 - val_acc: 0.9040\n",
      "Epoch 25/30\n",
      "100/100 [==============================] - 1097s 11s/step - loss: 0.2981 - acc: 0.8685 - val_loss: 0.2460 - val_acc: 0.9030\n",
      "Epoch 26/30\n",
      "100/100 [==============================] - 1098s 11s/step - loss: 0.3180 - acc: 0.8615 - val_loss: 0.2461 - val_acc: 0.9000\n",
      "Epoch 27/30\n",
      "100/100 [==============================] - 1096s 11s/step - loss: 0.3123 - acc: 0.8680 - val_loss: 0.2438 - val_acc: 0.9030\n",
      "Epoch 28/30\n",
      "100/100 [==============================] - 1097s 11s/step - loss: 0.3027 - acc: 0.8660 - val_loss: 0.2406 - val_acc: 0.9050\n",
      "Epoch 29/30\n",
      "100/100 [==============================] - 1100s 11s/step - loss: 0.2907 - acc: 0.8745 - val_loss: 0.2417 - val_acc: 0.9040\n",
      "Epoch 30/30\n",
      "100/100 [==============================] - 1097s 11s/step - loss: 0.3107 - acc: 0.8600 - val_loss: 0.2448 - val_acc: 0.9000\n"
     ]
    }
   ],
   "source": [
    "history = model.fit_generator( train_batches, steps_per_epoch=100, epochs=epochs, validation_data=validation_batches, validation_steps=50)"
   ]
  },
  {
   "cell_type": "code",
   "execution_count": 14,
   "metadata": {},
   "outputs": [],
   "source": [
    "model.save(save_pathgmail)"
   ]
  },
  {
   "cell_type": "markdown",
   "metadata": {},
   "source": [
    "### Plots"
   ]
  },
  {
   "cell_type": "code",
   "execution_count": 15,
   "metadata": {},
   "outputs": [],
   "source": [
    "val_loss = history.history['val_loss']\n",
    "val_acc = history.history['val_acc']\n",
    "\n",
    "train_loss = history.history['loss']\n",
    "train_acc = history.history['acc']\n",
    "\n",
    "epoch = history.epoch"
   ]
  },
  {
   "cell_type": "code",
   "execution_count": 18,
   "metadata": {},
   "outputs": [
    {
     "data": {
      "image/png": "[encoded data removed]",
      "text/plain": [
       "<matplotlib.figure.Figure at 0x10c896240>"
      ]
     },
     "metadata": {},
     "output_type": "display_data"
    }
   ],
   "source": [
    "# Loss plots\n",
    "plt.figure()\n",
    "\n",
    "plt.plot(epoch, train_loss, 'bo', label='Training loss')\n",
    "plt.plot(epoch, val_loss, 'r-', label='Validation loss')\n",
    "plt.xlabel('Epoch')\n",
    "plt.ylabel('Loss')\n",
    "plt.title('Training and validation loss')\n",
    "plt.legend()\n",
    "plt.show()"
   ]
  },
  {
   "cell_type": "code",
   "execution_count": 19,
   "metadata": {},
   "outputs": [
    {
     "data": {
      "image/png": "[encoded data removed]",
      "text/plain": [
       "<matplotlib.figure.Figure at 0x10c87f240>"
      ]
     },
     "metadata": {},
     "output_type": "display_data"
    }
   ],
   "source": [
    "# Accuracy plots\n",
    "plt.figure()\n",
    "\n",
    "plt.plot( epoch, train_acc, 'bo', label='Training accuracy' )\n",
    "plt.plot( epoch, val_acc, 'r-', label='Validation accuracy' )\n",
    "plt.xlabel('Epoch')\n",
    "plt.ylabel('Loss')\n",
    "plt.title('Training and validation accuracy')\n",
    "plt.legend()\n",
    "plt.show()"
   ]
  }
 ],
 "metadata": {
  "kernelspec": {
   "display_name": "Python 3",
   "language": "python",
   "name": "python3"
  },
  "language_info": {
   "codemirror_mode": {
    "name": "ipython",
    "version": 3
   },
   "file_extension": ".py",
   "mimetype": "text/x-python",
   "name": "python",
   "nbconvert_exporter": "python",
   "pygments_lexer": "ipython3",
   "version": "3.6.1"
  }
 },
 "nbformat": 4,
 "nbformat_minor": 2
}
